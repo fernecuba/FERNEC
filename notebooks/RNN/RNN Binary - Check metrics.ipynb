{
 "cells": [
  {
   "cell_type": "markdown",
   "id": "af3e38d9-cf34-4a00-81b1-ba27fa7e752a",
   "metadata": {},
   "source": [
    "# check metrics\n",
    "\n",
    "Algunos recursos utiles:\n",
    "- https://www.evidentlyai.com/classification-metrics/multi-class-metrics\n",
    "- https://arize.com/blog-course/f1-score/#:~:text=F1%20score%20is%20a%20measure,can%20be%20modified%20into%20F0.\n"
   ]
  },
  {
   "cell_type": "code",
   "execution_count": 3,
   "id": "ff197496-31fd-4c21-aa2d-a3da2bee603d",
   "metadata": {
    "tags": []
   },
   "outputs": [],
   "source": [
    "import cv2\n",
    "import os\n",
    "import time\n",
    "import pandas as pd\n",
    "import numpy as np\n",
    "import math\n",
    "import random\n",
    "import matplotlib.pyplot as plt\n",
    "import keras\n",
    "import tensorflow as tf\n",
    "from tensorflow.keras.layers import Dense, LSTM, Dropout, GRU, Flatten, ConvLSTM2D, Reshape, BatchNormalization, Input, TimeDistributed\n",
    "from tensorflow.keras.models import load_model, Model\n",
    "from concurrent.futures import ThreadPoolExecutor"
   ]
  },
  {
   "cell_type": "markdown",
   "id": "e9ab6ca8-ac25-4dc6-a0ef-86544e13905c",
   "metadata": {},
   "source": [
    "## Constants"
   ]
  },
  {
   "cell_type": "code",
   "execution_count": 9,
   "id": "6bcf10ff-7439-4b9d-b4f7-084a0d620433",
   "metadata": {
    "tags": []
   },
   "outputs": [],
   "source": [
    "emociones = ['Neutral', 'Anger', 'Disgust', 'Fear', 'Happiness', 'Sadness', 'Surprise']\n",
    "# IMG_SIZE = 112\n",
    "# IMG_CHANNELS = 3\n",
    "MAX_SEQ_LENGTH = 10\n",
    "# NUM_FEATURES = 1024\n",
    "# EPOCHS = 100\n",
    "BATCH_SIZE=512\n",
    "\n",
    "NUMPY_PATH = \"../models/tmp/np_arr/\"\n",
    "MODELS_PATH = \"../models/\""
   ]
  },
  {
   "cell_type": "code",
   "execution_count": 10,
   "id": "34e06f55-6fce-40ca-95a6-b3ec0ed68082",
   "metadata": {
    "tags": []
   },
   "outputs": [],
   "source": [
    "def load_model_keras(model_name):\n",
    "    model = load_model(MODELS_PATH + model_name)\n",
    "    return model"
   ]
  },
  {
   "cell_type": "code",
   "execution_count": 11,
   "id": "613e44c7-59fe-49bd-9a80-50d8b24dfd42",
   "metadata": {
    "tags": []
   },
   "outputs": [
    {
     "name": "stdout",
     "output_type": "stream",
     "text": [
      "Model: \"model\"\n",
      "__________________________________________________________________________________________________\n",
      " Layer (type)                Output Shape                 Param #   Connected to                  \n",
      "==================================================================================================\n",
      " input_1 (InputLayer)        [(None, 10, 1024)]           0         []                            \n",
      "                                                                                                  \n",
      " input_2 (InputLayer)        [(None, 10)]                 0         []                            \n",
      "                                                                                                  \n",
      " lstm (LSTM)                 (None, 10, 16)               66624     ['input_1[0][0]',             \n",
      "                                                                     'input_2[0][0]']             \n",
      "                                                                                                  \n",
      " lstm_1 (LSTM)               (None, 10, 8)                800       ['lstm[0][0]']                \n",
      "                                                                                                  \n",
      " dropout (Dropout)           (None, 10, 8)                0         ['lstm_1[0][0]']              \n",
      "                                                                                                  \n",
      " dense (Dense)               (None, 10, 8)                72        ['dropout[0][0]']             \n",
      "                                                                                                  \n",
      " time_distributed (TimeDist  (None, 10, 2)                18        ['dense[0][0]']               \n",
      " ributed)                                                                                         \n",
      "                                                                                                  \n",
      "==================================================================================================\n",
      "Total params: 67514 (263.73 KB)\n",
      "Trainable params: 67514 (263.73 KB)\n",
      "Non-trainable params: 0 (0.00 Byte)\n",
      "__________________________________________________________________________________________________\n"
     ]
    }
   ],
   "source": [
    "RNN_MODEL_NAME = \"eche_rnn_binary_3.keras\"\n",
    "\n",
    "model = load_model_keras(RNN_MODEL_NAME)\n",
    "model.summary()"
   ]
  },
  {
   "cell_type": "code",
   "execution_count": 14,
   "id": "86ffad6b-28dd-4f4b-a6f2-87de8b85ba0f",
   "metadata": {},
   "outputs": [
    {
     "data": {
      "text/plain": [
       "<_LoadDataset element_spec=((TensorSpec(shape=(10, 1024), dtype=tf.float32, name=None), TensorSpec(shape=(10,), dtype=tf.bool, name=None)), TensorSpec(shape=(10, 2), dtype=tf.float32, name=None))>"
      ]
     },
     "execution_count": 14,
     "metadata": {},
     "output_type": "execute_result"
    }
   ],
   "source": [
    "validation_ds = tf.data.Dataset.load(\n",
    "    f\"../datasets/processed/rnn_val_eche_{MAX_SEQ_LENGTH}_binary_v2\")\n",
    "validation_ds"
   ]
  },
  {
   "cell_type": "code",
   "execution_count": 15,
   "id": "9a7d7622-36af-4c13-b229-3e10d070e4a5",
   "metadata": {},
   "outputs": [
    {
     "name": "stdout",
     "output_type": "stream",
     "text": [
      "(10, 1024)\n",
      "(10,)\n",
      "(10, 2)\n"
     ]
    }
   ],
   "source": [
    "for train_data, labels in validation_ds.take(1):\n",
    "    print(train_data[0].shape)\n",
    "    print(train_data[1].shape)\n",
    "    print(labels.shape)\n",
    "    break"
   ]
  },
  {
   "cell_type": "code",
   "execution_count": 16,
   "id": "783cc58c-7a20-4462-8c80-df0febd91599",
   "metadata": {
    "tags": []
   },
   "outputs": [
    {
     "data": {
      "text/plain": [
       "<_BatchDataset element_spec=((TensorSpec(shape=(None, 10, 1024), dtype=tf.float32, name=None), TensorSpec(shape=(None, 10), dtype=tf.bool, name=None)), TensorSpec(shape=(None, 10, 2), dtype=tf.float32, name=None))>"
      ]
     },
     "execution_count": 16,
     "metadata": {},
     "output_type": "execute_result"
    }
   ],
   "source": [
    "BATCH_SIZE = 512\n",
    "validation_ds_batch = validation_ds.batch(BATCH_SIZE)\n",
    "validation_ds_batch"
   ]
  },
  {
   "cell_type": "code",
   "execution_count": 17,
   "id": "6f505524-6210-4b1d-b6fa-21b94ffd36b6",
   "metadata": {
    "tags": []
   },
   "outputs": [
    {
     "name": "stdout",
     "output_type": "stream",
     "text": [
      "tf.Tensor(\n",
      "[[ 0.        0.        0.       ... 11.911159  0.        0.      ]\n",
      " [ 0.        0.        0.       ... 10.817235  0.        0.      ]\n",
      " [ 0.        0.        0.       ... 10.701271  0.        0.      ]\n",
      " ...\n",
      " [ 0.        0.        0.       ... 16.142872  0.        0.      ]\n",
      " [ 0.        0.        0.       ... 13.493545  0.        0.      ]\n",
      " [ 0.        0.        0.       ... 15.86875   0.        0.      ]], shape=(10, 1024), dtype=float32)\n",
      "tf.Tensor([ True  True  True  True  True  True  True  True  True  True], shape=(10,), dtype=bool)\n",
      "tf.Tensor(\n",
      "[[0. 0.]\n",
      " [0. 0.]\n",
      " [0. 0.]\n",
      " [0. 0.]\n",
      " [0. 0.]\n",
      " [0. 0.]\n",
      " [0. 0.]\n",
      " [0. 0.]\n",
      " [0. 0.]\n",
      " [0. 0.]], shape=(10, 2), dtype=float32)\n"
     ]
    }
   ],
   "source": [
    "for validation_data, labels in validation_ds.take(1):\n",
    "    print(validation_data[0])\n",
    "    print(validation_data[1])\n",
    "    print(labels)\n",
    "    break"
   ]
  },
  {
   "cell_type": "code",
   "execution_count": 18,
   "id": "147e4e56-bff9-4358-9042-5b0ebc20f209",
   "metadata": {},
   "outputs": [
    {
     "name": "stdout",
     "output_type": "stream",
     "text": [
      "1/1 [==============================] - 4s 4s/step\n"
     ]
    }
   ],
   "source": [
    "result = model.predict(validation_ds_batch.take(1))"
   ]
  },
  {
   "cell_type": "code",
   "execution_count": 19,
   "id": "40c3171c-4722-4a6f-a8ab-4285c15d3864",
   "metadata": {},
   "outputs": [
    {
     "data": {
      "text/plain": [
       "(512, 10, 2)"
      ]
     },
     "execution_count": 19,
     "metadata": {},
     "output_type": "execute_result"
    }
   ],
   "source": [
    "result.shape"
   ]
  },
  {
   "cell_type": "code",
   "execution_count": 20,
   "id": "fc7fe481-4ba0-4acb-b121-a20ba3208c81",
   "metadata": {
    "tags": []
   },
   "outputs": [
    {
     "data": {
      "text/plain": [
       "array([[[0.06935828, 0.9306418 ],\n",
       "        [0.01752366, 0.98247635],\n",
       "        [0.0094498 , 0.99055016],\n",
       "        ...,\n",
       "        [0.00545936, 0.99454063],\n",
       "        [0.00546039, 0.99453956],\n",
       "        [0.00523654, 0.99476343]],\n",
       "\n",
       "       [[0.09381054, 0.9061894 ],\n",
       "        [0.02046317, 0.9795367 ],\n",
       "        [0.00911433, 0.9908856 ],\n",
       "        ...,\n",
       "        [0.00481036, 0.99518967],\n",
       "        [0.00439863, 0.99560136],\n",
       "        [0.0042905 , 0.99570954]],\n",
       "\n",
       "       [[0.07384555, 0.92615455],\n",
       "        [0.01693413, 0.9830658 ],\n",
       "        [0.00867532, 0.9913246 ],\n",
       "        ...,\n",
       "        [0.00504172, 0.99495834],\n",
       "        [0.00493495, 0.995065  ],\n",
       "        [0.00487885, 0.9951212 ]],\n",
       "\n",
       "       ...,\n",
       "\n",
       "       [[0.8484482 , 0.1515517 ],\n",
       "        [0.9431213 , 0.0568786 ],\n",
       "        [0.9726593 , 0.02734068],\n",
       "        ...,\n",
       "        [0.98978424, 0.01021571],\n",
       "        [0.99008936, 0.00991057],\n",
       "        [0.9914476 , 0.00855237]],\n",
       "\n",
       "       [[0.8641414 , 0.1358586 ],\n",
       "        [0.958844  , 0.04115599],\n",
       "        [0.97933966, 0.02066041],\n",
       "        ...,\n",
       "        [0.9909741 , 0.00902582],\n",
       "        [0.99087477, 0.00912526],\n",
       "        [0.9907869 , 0.00921305]],\n",
       "\n",
       "       [[0.85553515, 0.14446487],\n",
       "        [0.95442414, 0.04557578],\n",
       "        [0.9775543 , 0.02244559],\n",
       "        ...,\n",
       "        [0.9906241 , 0.00937585],\n",
       "        [0.990597  , 0.00940303],\n",
       "        [0.99127614, 0.0087239 ]]], dtype=float32)"
      ]
     },
     "execution_count": 20,
     "metadata": {},
     "output_type": "execute_result"
    }
   ],
   "source": [
    "result"
   ]
  },
  {
   "cell_type": "code",
   "execution_count": 21,
   "id": "bba1781d-efd2-4826-ba40-d327428cc189",
   "metadata": {},
   "outputs": [],
   "source": [
    "# loss_value, accuracy = seq_model.evaluate(validation_ds_batch)\n",
    "# print(f\"Test accuracy: {round(accuracy * 100, 2)}%\")"
   ]
  },
  {
   "cell_type": "markdown",
   "id": "84f6c041-a2ef-45be-a371-606eae06321a",
   "metadata": {
    "tags": []
   },
   "source": [
    "## Ahora generamos las predicciones"
   ]
  },
  {
   "cell_type": "code",
   "execution_count": 21,
   "id": "62955bd3-1bb4-4c7b-881e-3d942a0df27c",
   "metadata": {
    "tags": []
   },
   "outputs": [
    {
     "name": "stdout",
     "output_type": "stream",
     "text": [
      "34/34 [==============================] - 3s 85ms/step\n",
      "(17361, 10, 2)\n"
     ]
    }
   ],
   "source": [
    "predictions = model.predict(validation_ds_batch)\n",
    "print(predictions.shape)"
   ]
  },
  {
   "cell_type": "code",
   "execution_count": 22,
   "id": "29912b9f-54d0-474e-8b67-e1c928eced65",
   "metadata": {
    "tags": []
   },
   "outputs": [
    {
     "data": {
      "text/plain": [
       "array([[0.06935828, 0.9306418 ],\n",
       "       [0.01752366, 0.98247635],\n",
       "       [0.0094498 , 0.99055016],\n",
       "       [0.00706282, 0.9929372 ],\n",
       "       [0.0059609 , 0.99403906],\n",
       "       [0.00562156, 0.9943784 ],\n",
       "       [0.00542767, 0.9945723 ],\n",
       "       [0.00545936, 0.99454063],\n",
       "       [0.00546039, 0.99453956],\n",
       "       [0.00523654, 0.99476343]], dtype=float32)"
      ]
     },
     "execution_count": 22,
     "metadata": {},
     "output_type": "execute_result"
    }
   ],
   "source": [
    "predictions[0]"
   ]
  },
  {
   "cell_type": "code",
   "execution_count": 69,
   "id": "f1d84ffc-ccc0-4904-89bf-756089325b7a",
   "metadata": {},
   "outputs": [
    {
     "name": "stdout",
     "output_type": "stream",
     "text": [
      "(173610, 2)\n"
     ]
    }
   ],
   "source": [
    "# (173610, 7)\n",
    "validation_labels = np.concatenate([labels for _, labels in validation_ds])\n",
    "print(validation_labels.shape)"
   ]
  },
  {
   "cell_type": "code",
   "execution_count": 70,
   "id": "02bec510-83ae-4135-83c8-98eec75dd469",
   "metadata": {},
   "outputs": [
    {
     "data": {
      "text/plain": [
       "array([[-1., -1.],\n",
       "       [ 0.,  0.],\n",
       "       [ 0.,  1.],\n",
       "       [ 1.,  0.]], dtype=float32)"
      ]
     },
     "execution_count": 70,
     "metadata": {},
     "output_type": "execute_result"
    }
   ],
   "source": [
    "np.unique(validation_labels, axis=0)"
   ]
  },
  {
   "cell_type": "code",
   "execution_count": 73,
   "id": "24f7ab05-d297-4a01-ba55-02d0143b3d16",
   "metadata": {},
   "outputs": [
    {
     "name": "stdout",
     "output_type": "stream",
     "text": [
      "(0.0, 0.0): 84960\n",
      "(1.0, 0.0): 82219\n",
      "(-1.0, -1.0): 305\n",
      "(0.0, 1.0): 6126\n"
     ]
    }
   ],
   "source": [
    "from collections import Counter\n",
    "\n",
    "# Convertir cada subarray a una tupla\n",
    "tuples_arr = [tuple(row) for row in validation_labels]\n",
    "\n",
    "# Contar las ocurrencias de cada tupla\n",
    "counts = Counter(tuples_arr)\n",
    "\n",
    "# Imprimir los resultados\n",
    "for item, count in counts.items():\n",
    "    print(f'{item}: {count}')"
   ]
  },
  {
   "cell_type": "code",
   "execution_count": 27,
   "id": "3a7aa7e5-da69-4e0c-b846-d854313edfef",
   "metadata": {
    "tags": []
   },
   "outputs": [
    {
     "data": {
      "text/plain": [
       "(173610, 2)"
      ]
     },
     "execution_count": 27,
     "metadata": {},
     "output_type": "execute_result"
    }
   ],
   "source": [
    "y_pred = np.reshape(predictions, (-1, predictions.shape[-1]))\n",
    "y_pred.shape"
   ]
  },
  {
   "cell_type": "markdown",
   "id": "b5561b1a-9098-4329-ae4b-12bec0a2b0bb",
   "metadata": {
    "tags": []
   },
   "source": [
    "### Ahora guardamos las predicciones"
   ]
  },
  {
   "cell_type": "code",
   "execution_count": 28,
   "id": "dcccb297-7894-4e3f-80f4-9d3e3314f6b9",
   "metadata": {
    "tags": []
   },
   "outputs": [
    {
     "data": {
      "text/plain": [
       "(173610, 2)"
      ]
     },
     "execution_count": 28,
     "metadata": {},
     "output_type": "execute_result"
    }
   ],
   "source": [
    "y_pred = np.reshape(predictions, (-1, predictions.shape[-1]))\n",
    "y_pred.shape"
   ]
  },
  {
   "cell_type": "code",
   "execution_count": 29,
   "id": "9ec3b554-eeef-41b5-8036-60ea5b860eec",
   "metadata": {
    "tags": []
   },
   "outputs": [],
   "source": [
    "np.savetxt(NUMPY_PATH + 'predictions_binary_v02.txt', y_pred, fmt='%f')\n",
    "np.savetxt(NUMPY_PATH + 'validation_labels_binary_v02.txt', validation_labels, fmt='%f')"
   ]
  },
  {
   "cell_type": "markdown",
   "id": "e3373f11-c2c5-4918-bf26-857aaee0ce16",
   "metadata": {},
   "source": [
    "## Métricas para la binaria"
   ]
  },
  {
   "cell_type": "code",
   "execution_count": 62,
   "id": "8f31c406-9332-4e57-887a-8ab7c927777f",
   "metadata": {
    "tags": []
   },
   "outputs": [
    {
     "data": {
      "text/plain": [
       "((173610, 2), array([0.069358, 0.930642]))"
      ]
     },
     "execution_count": 62,
     "metadata": {},
     "output_type": "execute_result"
    }
   ],
   "source": [
    "y_pred = np.loadtxt(NUMPY_PATH + 'predictions_binary_v02.txt', dtype=float)\n",
    "y_pred = y_pred.reshape((y_pred.shape[0], 2))\n",
    "# y_pred = y_pred.reshape((-1, y_pred.shape[-1]))\n",
    "y_pred.shape, y_pred[0]"
   ]
  },
  {
   "cell_type": "code",
   "execution_count": 67,
   "id": "28c71e94-0986-4f31-9913-21ce0fec621c",
   "metadata": {
    "tags": []
   },
   "outputs": [
    {
     "data": {
      "text/plain": [
       "((173610, 2),\n",
       " array([0., 0.]),\n",
       " array([[-1., -1.],\n",
       "        [ 0.,  0.],\n",
       "        [ 0.,  1.],\n",
       "        [ 1.,  0.]]))"
      ]
     },
     "execution_count": 67,
     "metadata": {},
     "output_type": "execute_result"
    }
   ],
   "source": [
    "validation_labels = np.loadtxt(NUMPY_PATH + 'validation_labels_binary_v02.txt', dtype=float)\n",
    "# y_true = y_true.reshape(y_true.shape[0], 2)\n",
    "y_true = np.reshape(validation_labels, (-1, validation_labels.shape[-1]))\n",
    "# y_true = y_true.reshape(-1, y_true.shape[-1])\n",
    "y_true.shape, y_true[0], np.unique(y_true, axis=0)"
   ]
  },
  {
   "cell_type": "code",
   "execution_count": 33,
   "id": "60de9404-1dc2-4af5-83b2-1203ca57a22e",
   "metadata": {
    "tags": []
   },
   "outputs": [
    {
     "name": "stdout",
     "output_type": "stream",
     "text": [
      "(173305, 2)\n",
      "(173305, 2)\n"
     ]
    }
   ],
   "source": [
    "# Eliminar las filas con -1 en y_true\n",
    "valid_indices = np.where(np.all(y_true != -1, axis=1))\n",
    "y_true = y_true[valid_indices]\n",
    "y_pred = y_pred[valid_indices]\n",
    "                    \n",
    "print(y_true.shape)\n",
    "print(y_pred.shape)"
   ]
  },
  {
   "cell_type": "code",
   "execution_count": 34,
   "id": "b602013b-0296-45a5-82b3-ca15bcc44c4f",
   "metadata": {
    "tags": []
   },
   "outputs": [
    {
     "data": {
      "text/plain": [
       "(array([     0,      0,      1, ..., 173303, 173304, 173304]),\n",
       " array([0, 1, 0, ..., 1, 0, 1]))"
      ]
     },
     "execution_count": 34,
     "metadata": {},
     "output_type": "execute_result"
    }
   ],
   "source": [
    "np.where(y_true == 0)"
   ]
  },
  {
   "cell_type": "code",
   "execution_count": 37,
   "id": "8cb9e081-599e-4149-b714-e09abfa68174",
   "metadata": {},
   "outputs": [
    {
     "data": {
      "text/plain": [
       "<tf.Tensor: shape=(173305,), dtype=int64, numpy=array([1, 1, 1, ..., 0, 0, 0])>"
      ]
     },
     "execution_count": 37,
     "metadata": {},
     "output_type": "execute_result"
    }
   ],
   "source": [
    "max_indices = tf.argmax(y_pred, axis=1)\n",
    "max_indices"
   ]
  },
  {
   "cell_type": "code",
   "execution_count": 38,
   "id": "63a1beb0-3f8a-492f-be0f-c1f8ef51df59",
   "metadata": {},
   "outputs": [
    {
     "data": {
      "text/plain": [
       "<tf.Tensor: shape=(2,), dtype=float32, numpy=array([0., 1.], dtype=float32)>"
      ]
     },
     "execution_count": 38,
     "metadata": {},
     "output_type": "execute_result"
    }
   ],
   "source": [
    "binary_pred = tf.one_hot(max_indices, depth=y_pred.shape[1])\n",
    "binary_pred[0]"
   ]
  },
  {
   "cell_type": "code",
   "execution_count": 39,
   "id": "f80c49f4-d4d5-4f44-81ad-ad77fe3bbc4b",
   "metadata": {},
   "outputs": [
    {
     "name": "stdout",
     "output_type": "stream",
     "text": [
      "Accuracy: 0.5273131\n"
     ]
    }
   ],
   "source": [
    "# Calcular el accuracy\n",
    "accuracy = tf.keras.metrics.Accuracy()\n",
    "accuracy.update_state(y_true, binary_pred)\n",
    "accuracy_result = accuracy.result().numpy()\n",
    "\n",
    "print(\"Accuracy:\", accuracy_result)"
   ]
  },
  {
   "cell_type": "code",
   "execution_count": 40,
   "id": "710ac43a-3173-41d0-9734-b0c5dd0a9f08",
   "metadata": {
    "tags": []
   },
   "outputs": [
    {
     "name": "stdout",
     "output_type": "stream",
     "text": [
      "Precisión: 0.28219613\n"
     ]
    }
   ],
   "source": [
    "# Calcular la precisión\n",
    "precision = tf.keras.metrics.Precision()\n",
    "precision.update_state(y_true, binary_pred)\n",
    "precision_result = precision.result().numpy()\n",
    "\n",
    "print(\"Precisión:\", precision_result)"
   ]
  },
  {
   "cell_type": "code",
   "execution_count": 42,
   "id": "de99a0b1-7f3b-417a-80db-ded4a7a16c92",
   "metadata": {},
   "outputs": [
    {
     "name": "stdout",
     "output_type": "stream",
     "text": [
      "Precision for class Negative: 0.2521132450948674\n",
      "Precision for class Positive: 0.2521132450948674\n"
     ]
    },
    {
     "name": "stderr",
     "output_type": "stream",
     "text": [
      "/home/nicolas/trabajo-profesional/notebooks/venv/lib/python3.10/site-packages/sklearn/metrics/_classification.py:1569: UserWarning: Note that pos_label (set to 0) is ignored when average != 'binary' (got 'macro'). You may use labels=[pos_label] to specify a single positive class.\n",
      "  warnings.warn(\n"
     ]
    }
   ],
   "source": [
    "from sklearn.metrics import precision_score\n",
    "\n",
    "precision_class_0 = precision_score(y_true, binary_pred, pos_label=0, average='macro')\n",
    "print(f\"Precision for class Negative: {precision_class_0}\")\n",
    "\n",
    "precision_class_1 = precision_score(y_true, binary_pred, pos_label=1, average='macro')\n",
    "print(f\"Precision for class Positive: {precision_class_1}\")"
   ]
  },
  {
   "cell_type": "markdown",
   "id": "eb39cbd4-1276-49a0-a396-06dbefc6ebd8",
   "metadata": {},
   "source": [
    "### 3 classes and threshold"
   ]
  },
  {
   "cell_type": "markdown",
   "id": "dfc4223b-06d7-4e61-bac5-78a3a25b005c",
   "metadata": {},
   "source": [
    "### True values"
   ]
  },
  {
   "cell_type": "code",
   "execution_count": 61,
   "id": "9c13bf93-305b-487d-80ae-ebfed5d5a685",
   "metadata": {},
   "outputs": [
    {
     "data": {
      "text/plain": [
       "array([[0., 0.],\n",
       "       [0., 1.],\n",
       "       [1., 0.]])"
      ]
     },
     "execution_count": 61,
     "metadata": {},
     "output_type": "execute_result"
    }
   ],
   "source": [
    "np.unique(y_true, axis=0)"
   ]
  },
  {
   "cell_type": "code",
   "execution_count": 59,
   "id": "5cd991b9-b8f8-46c3-87b8-61db484fb8be",
   "metadata": {},
   "outputs": [
    {
     "data": {
      "text/plain": [
       "((173305, 3),\n",
       " array([[0., 0., 0.],\n",
       "        [0., 1., 0.],\n",
       "        [1., 0., 0.]]))"
      ]
     },
     "execution_count": 59,
     "metadata": {},
     "output_type": "execute_result"
    }
   ],
   "source": [
    "# Número de clases (0, 1, 2)\n",
    "num_classes = 3\n",
    "\n",
    "# Aplicar one-hot encoding\n",
    "y_true_ohe = np.array([np.append(x, 0) for x in y_true])\n",
    "y_true_ohe.shape, np.unique(y_true_ohe, axis=0)"
   ]
  },
  {
   "cell_type": "code",
   "execution_count": 60,
   "id": "88598fdb-2ea9-45ec-9e96-86504ecc9078",
   "metadata": {},
   "outputs": [
    {
     "data": {
      "text/plain": [
       "(array([     0,      0,      0, ..., 173304, 173304, 173304]),\n",
       " array([0, 1, 2, ..., 0, 1, 2]))"
      ]
     },
     "execution_count": 60,
     "metadata": {},
     "output_type": "execute_result"
    }
   ],
   "source": [
    "np.where(y_true_ohe == 0)"
   ]
  },
  {
   "cell_type": "markdown",
   "id": "4f48959e-e99c-4ce4-a0c7-042dc59beef4",
   "metadata": {},
   "source": [
    "### Pred values"
   ]
  },
  {
   "cell_type": "code",
   "execution_count": 18,
   "id": "cf543b40-2a42-4b3a-8e97-b7856538d4a8",
   "metadata": {},
   "outputs": [
    {
     "data": {
      "text/plain": [
       "[[5.8000000000002494e-05, 0.999942],\n",
       " [6.300000000003525e-05, 0.999937],\n",
       " [5.100000000002325e-05, 0.999949],\n",
       " [4.199999999998649e-05, 0.999958],\n",
       " [5.100000000002325e-05, 0.999949],\n",
       " [5.100000000002325e-05, 0.999949],\n",
       " [5.2000000000052005e-05, 0.999948],\n",
       " [4.999999999999449e-05, 0.99995],\n",
       " [6.399999999995298e-05, 0.999936],\n",
       " [5.8000000000002494e-05, 0.999942],\n",
       " [0.573923, 0.426077],\n",
       " [0.511657, 0.488343],\n",
       " [0.41507700000000003, 0.584923],\n",
       " [0.534884, 0.465116],\n",
       " [0.588886, 0.411114],\n",
       " [0.561642, 0.438358],\n",
       " [0.663272, 0.336728],\n",
       " [0.682883, 0.317117],\n",
       " [0.766891, 0.233109],\n",
       " [0.633319, 0.366681]]"
      ]
     },
     "execution_count": 18,
     "metadata": {},
     "output_type": "execute_result"
    }
   ],
   "source": [
    "softmax_y_pred = [[1-i[0], i[0]] for i in y_pred]\n",
    "softmax_y_pred[70:90]"
   ]
  },
  {
   "cell_type": "code",
   "execution_count": 34,
   "id": "e0d5964b-3e0a-4fe4-b821-d79f66296da3",
   "metadata": {},
   "outputs": [
    {
     "data": {
      "text/plain": [
       "[[5.8000000000002494e-05, 0.999942, 0],\n",
       " [6.300000000003525e-05, 0.999937, 0],\n",
       " [5.100000000002325e-05, 0.999949, 0],\n",
       " [4.199999999998649e-05, 0.999958, 0],\n",
       " [5.100000000002325e-05, 0.999949, 0],\n",
       " [5.100000000002325e-05, 0.999949, 0],\n",
       " [5.2000000000052005e-05, 0.999948, 0],\n",
       " [4.999999999999449e-05, 0.99995, 0],\n",
       " [6.399999999995298e-05, 0.999936, 0],\n",
       " [5.8000000000002494e-05, 0.999942, 0],\n",
       " [0.573923, 0.426077, 1],\n",
       " [0.511657, 0.488343, 1],\n",
       " [0.41507700000000003, 0.584923, 1],\n",
       " [0.534884, 0.465116, 1],\n",
       " [0.588886, 0.411114, 1],\n",
       " [0.561642, 0.438358, 1],\n",
       " [0.663272, 0.336728, 0],\n",
       " [0.682883, 0.317117, 0],\n",
       " [0.766891, 0.233109, 0],\n",
       " [0.633319, 0.366681, 1]]"
      ]
     },
     "execution_count": 34,
     "metadata": {},
     "output_type": "execute_result"
    }
   ],
   "source": [
    "THRESHOLD = 0.65\n",
    "softmax_y_pred_3_classes = []\n",
    "for i in softmax_y_pred:\n",
    "    if np.max(i) < THRESHOLD:\n",
    "        softmax_y_pred_3_classes.append(i+[1])\n",
    "    else:\n",
    "        softmax_y_pred_3_classes.append(i+[0])\n",
    "softmax_y_pred_3_classes[70:90]"
   ]
  },
  {
   "cell_type": "code",
   "execution_count": 35,
   "id": "81d1f197-ab59-4ac1-bca6-78b754a4c837",
   "metadata": {},
   "outputs": [
    {
     "data": {
      "text/plain": [
       "<tf.Tensor: shape=(173305,), dtype=int64, numpy=array([1, 1, 1, ..., 1, 1, 1])>"
      ]
     },
     "execution_count": 35,
     "metadata": {},
     "output_type": "execute_result"
    }
   ],
   "source": [
    "max_indices = tf.argmax(softmax_y_pred_3_classes, axis=1)\n",
    "max_indices"
   ]
  },
  {
   "cell_type": "code",
   "execution_count": 36,
   "id": "4c22b11e-65b7-43d3-b6d7-6acf9116ee8f",
   "metadata": {},
   "outputs": [
    {
     "data": {
      "text/plain": [
       "(<tf.Tensor: shape=(3,), dtype=float32, numpy=array([0., 1., 0.], dtype=float32)>,\n",
       " array([[0., 0., 1.],\n",
       "        [0., 1., 0.],\n",
       "        [1., 0., 0.]], dtype=float32))"
      ]
     },
     "execution_count": 36,
     "metadata": {},
     "output_type": "execute_result"
    }
   ],
   "source": [
    "softmax_pred_ohe = tf.one_hot(max_indices, depth=3)\n",
    "softmax_pred_ohe[0], np.unique(softmax_pred_ohe, axis=0)"
   ]
  },
  {
   "cell_type": "code",
   "execution_count": 37,
   "id": "fc9a8457-c508-4a40-a3f3-3eb92b03c919",
   "metadata": {},
   "outputs": [
    {
     "name": "stdout",
     "output_type": "stream",
     "text": [
      "Accuracy: 0.7555793\n"
     ]
    }
   ],
   "source": [
    "# Calcular el accuracy\n",
    "accuracy = tf.keras.metrics.Accuracy()\n",
    "accuracy.update_state(y_true_ohe, softmax_pred_ohe)\n",
    "accuracy_result = accuracy.result().numpy()\n",
    "\n",
    "print(\"Accuracy:\", accuracy_result)"
   ]
  },
  {
   "cell_type": "code",
   "execution_count": 38,
   "id": "6adb8aec-6b64-43ec-9873-b5f4f3c14130",
   "metadata": {},
   "outputs": [
    {
     "name": "stdout",
     "output_type": "stream",
     "text": [
      "Precisión: 0.6333689\n"
     ]
    }
   ],
   "source": [
    "# Precisión: 0.6445573\n",
    "\n",
    "precision = tf.keras.metrics.Precision()\n",
    "precision.update_state(y_true_ohe, softmax_pred_ohe)\n",
    "precision_result = precision.result().numpy()\n",
    "\n",
    "print(\"Precisión:\", precision_result)"
   ]
  },
  {
   "cell_type": "code",
   "execution_count": 39,
   "id": "054fcd8e-435f-41a6-b621-f97ed90a3ad4",
   "metadata": {},
   "outputs": [
    {
     "name": "stdout",
     "output_type": "stream",
     "text": [
      "Precisión para la clase 0: 0.49506059288978577\n",
      "Precisión para la clase 1: 0.7501367926597595\n",
      "Precisión para la clase 2: 0.0\n"
     ]
    }
   ],
   "source": [
    "# Precision for class Negative: 0.484929817561931\n",
    "num_classes = y_true_ohe.shape[1]\n",
    "\n",
    "for class_id in range(num_classes):\n",
    "    precision = tf.keras.metrics.Precision(class_id=class_id)\n",
    "    precision.update_state(y_true_ohe, softmax_pred_ohe)\n",
    "    precision_result = precision.result().numpy()\n",
    "    print(f\"Precisión para la clase {class_id}: {precision_result}\")"
   ]
  },
  {
   "cell_type": "markdown",
   "id": "2e0dfc6b-ee60-40d7-8f60-2593f7a1fb4a",
   "metadata": {},
   "source": [
    "### Check convergence"
   ]
  },
  {
   "cell_type": "code",
   "execution_count": 83,
   "id": "49e9e791-a23b-4ba5-b570-56a6017e56a3",
   "metadata": {},
   "outputs": [],
   "source": [
    "def get_accuracy(y_true, y_pred):\n",
    "    accuracy = tf.keras.metrics.Accuracy()\n",
    "    accuracy.update_state(y_true, y_pred)\n",
    "    return accuracy.result().numpy()\n",
    "\n",
    "def get_precision(y_true, y_pred):\n",
    "    precision = tf.keras.metrics.Precision()\n",
    "    precision.update_state(y_true, y_pred)\n",
    "    return precision.result().numpy()\n",
    "\n",
    "def get_recall(y_true, y_pred):\n",
    "    recall = tf.keras.metrics.Recall()\n",
    "    recall.update_state(y_true, y_pred)\n",
    "    return recall.result().numpy()\n",
    "\n",
    "def get_precision_for_class(y_true, y_pred, class_id):\n",
    "    precision = tf.keras.metrics.Precision(class_id=class_id)\n",
    "    precision.update_state(y_true, y_pred)\n",
    "    return precision.result().numpy()\n",
    "\n",
    "def get_name_for_class(class_id):\n",
    "    names = {\n",
    "        0: \"negative\",\n",
    "        1: \"positive\",\n",
    "        2: \"unknown\"\n",
    "    }\n",
    "    return names[class_id]\n",
    "\n",
    "def get_metrics(y_true_ohe, softmax_pred, threshold):\n",
    "    results = {\n",
    "        \"threshold\": threshold\n",
    "    }\n",
    "    softmax_y_pred_3_classes = []\n",
    "    for i in softmax_pred:\n",
    "        if np.max(i) < threshold:\n",
    "            softmax_y_pred_3_classes.append(i+[1])\n",
    "        else:\n",
    "            softmax_y_pred_3_classes.append(i+[0])\n",
    "\n",
    "    max_indices = tf.argmax(softmax_y_pred_3_classes, axis=1)\n",
    "    softmax_pred_ohe = tf.one_hot(max_indices, depth=3)\n",
    "    results[\"accuracy\"] = get_accuracy(y_true_ohe, softmax_pred_ohe)\n",
    "    results[\"precision\"] = get_precision(y_true_ohe, softmax_pred_ohe)\n",
    "    results[\"recall\"] = get_recall(y_true_ohe, softmax_pred_ohe)\n",
    "    for class_id in range(y_true_ohe.shape[1]):\n",
    "        results[f\"precision_{get_name_for_class(class_id)}\"] = get_precision_for_class(y_true_ohe, softmax_pred_ohe, class_id)\n",
    "    return results"
   ]
  },
  {
   "cell_type": "code",
   "execution_count": 84,
   "id": "16846927-0571-4349-a856-815b2d692721",
   "metadata": {},
   "outputs": [
    {
     "name": "stderr",
     "output_type": "stream",
     "text": [
      "/tmp/ipykernel_9962/3908814098.py:4: FutureWarning: The behavior of DataFrame concatenation with empty or all-NA entries is deprecated. In a future version, this will no longer exclude empty or all-NA columns when determining the result dtypes. To retain the old behavior, exclude the relevant entries before the concat operation.\n",
      "  df = pd.concat([df, pd.DataFrame([results])], ignore_index=True)\n"
     ]
    },
    {
     "name": "stdout",
     "output_type": "stream",
     "text": [
      "(1, 7)\n",
      "(2, 7)\n",
      "(3, 7)\n",
      "(4, 7)\n",
      "(5, 7)\n",
      "(6, 7)\n",
      "(7, 7)\n",
      "(8, 7)\n",
      "(9, 7)\n",
      "(10, 7)\n",
      "(11, 7)\n",
      "(12, 7)\n",
      "(13, 7)\n",
      "(14, 7)\n",
      "(15, 7)\n",
      "(16, 7)\n",
      "(17, 7)\n",
      "(18, 7)\n",
      "(19, 7)\n",
      "(20, 7)\n",
      "(21, 7)\n",
      "(22, 7)\n",
      "(23, 7)\n",
      "(24, 7)\n",
      "(25, 7)\n",
      "(26, 7)\n",
      "(27, 7)\n",
      "(28, 7)\n",
      "(29, 7)\n",
      "(30, 7)\n",
      "(31, 7)\n",
      "(32, 7)\n",
      "(33, 7)\n",
      "(34, 7)\n",
      "(35, 7)\n",
      "(36, 7)\n",
      "(37, 7)\n",
      "(38, 7)\n",
      "(39, 7)\n",
      "(40, 7)\n",
      "(41, 7)\n",
      "(42, 7)\n",
      "(43, 7)\n",
      "(44, 7)\n",
      "(45, 7)\n",
      "<class 'pandas.core.frame.DataFrame'>\n",
      "RangeIndex: 45 entries, 0 to 44\n",
      "Data columns (total 7 columns):\n",
      " #   Column              Non-Null Count  Dtype  \n",
      "---  ------              --------------  -----  \n",
      " 0   threshold           45 non-null     float64\n",
      " 1   accuracy            45 non-null     float32\n",
      " 2   precision           45 non-null     float32\n",
      " 3   recall              45 non-null     float32\n",
      " 4   precision_positive  45 non-null     float32\n",
      " 5   precision_negative  45 non-null     float32\n",
      " 6   precision_unknown   45 non-null     float32\n",
      "dtypes: float32(6), float64(1)\n",
      "memory usage: 1.5 KB\n"
     ]
    }
   ],
   "source": [
    "df = pd.DataFrame(columns=[\"threshold\", \"accuracy\", \"precision\", \"recall\", \"precision_positive\", \"precision_negative\", \"precision_unknown\"])\n",
    "for threshold in np.arange(0.5, 0.95, 0.01):\n",
    "    results = get_metrics(y_true_ohe, softmax_y_pred, threshold)\n",
    "    df = pd.concat([df, pd.DataFrame([results])], ignore_index=True)\n",
    "    print(df.shape)\n",
    "df.info()"
   ]
  },
  {
   "cell_type": "code",
   "execution_count": 85,
   "id": "acb9de9d-287f-4b54-a434-1501dc3107d6",
   "metadata": {},
   "outputs": [],
   "source": [
    "graphs = [\n",
    "    {\"x\": \"threshold\", \"y\": \"accuracy\"},\n",
    "    {\"x\": \"threshold\", \"y\": \"precision\"},\n",
    "    {\"x\": \"threshold\", \"y\": \"precision_negative\"},\n",
    "    {\"x\": \"threshold\", \"y\": \"precision_positive\"},\n",
    "    {\"x\": \"threshold\", \"y\": \"recall\"},\n",
    "]"
   ]
  },
  {
   "cell_type": "code",
   "execution_count": 86,
   "id": "7de7141a-e8f1-43bd-9a36-f7e12d6a75ba",
   "metadata": {},
   "outputs": [
    {
     "data": {
      "image/png": "[encoded data removed]",
      "text/plain": [
       "<Figure size 640x480 with 1 Axes>"
      ]
     },
     "metadata": {},
     "output_type": "display_data"
    },
    {
     "data": {
      "image/png": "[encoded data removed]",
      "text/plain": [
       "<Figure size 640x480 with 1 Axes>"
      ]
     },
     "metadata": {},
     "output_type": "display_data"
    },
    {
     "data": {
      "image/png": "[encoded data removed]",
      "text/plain": [
       "<Figure size 640x480 with 1 Axes>"
      ]
     },
     "metadata": {},
     "output_type": "display_data"
    },
    {
     "data": {
      "image/png": "[encoded data removed]",
      "text/plain": [
       "<Figure size 640x480 with 1 Axes>"
      ]
     },
     "metadata": {},
     "output_type": "display_data"
    },
    {
     "data": {
      "image/png": "[encoded data removed]",
      "text/plain": [
       "<Figure size 640x480 with 1 Axes>"
      ]
     },
     "metadata": {},
     "output_type": "display_data"
    }
   ],
   "source": [
    "import matplotlib.pyplot as plt\n",
    "\n",
    "for g in graphs:\n",
    "    x_axis = g[\"x\"]\n",
    "    y_axis = g[\"y\"]\n",
    "    plt.plot(df[x_axis].tolist(), df[y_axis].tolist(), marker='o')\n",
    "    plt.xlabel(x_axis)\n",
    "    plt.ylabel(y_axis)\n",
    "    plt.title(f'{y_axis} vs {x_axis}')\n",
    "    plt.grid(True)\n",
    "    plt.show()"
   ]
  },
  {
   "cell_type": "markdown",
   "id": "31c74462-6d56-4788-8585-441ddb04ae80",
   "metadata": {
    "jp-MarkdownHeadingCollapsed": true,
    "tags": []
   },
   "source": [
    "## Métricas a mano"
   ]
  },
  {
   "cell_type": "code",
   "execution_count": 61,
   "id": "5b5b3b0b-0816-4d70-98c0-d61ff33ac67d",
   "metadata": {
    "tags": []
   },
   "outputs": [],
   "source": [
    "def are_equal(arr1, arr2):\n",
    "    return np.array_equal(arr1, arr2)"
   ]
  },
  {
   "cell_type": "markdown",
   "id": "33e627a9-5c40-46d0-aaf7-f2af7e80cd32",
   "metadata": {
    "tags": []
   },
   "source": [
    "### accuracy"
   ]
  },
  {
   "cell_type": "code",
   "execution_count": 62,
   "id": "08b8d0dc-fa27-4511-8355-b08e8ff6605b",
   "metadata": {
    "tags": []
   },
   "outputs": [
    {
     "name": "stdout",
     "output_type": "stream",
     "text": [
      "173305\n"
     ]
    }
   ],
   "source": [
    "# 173305\n",
    "assert len(y_true) == len(binary_pred)\n",
    "print(len(y_true))"
   ]
  },
  {
   "cell_type": "code",
   "execution_count": 63,
   "id": "2fdec4ae-8feb-40df-a39e-9615450b69ff",
   "metadata": {
    "tags": []
   },
   "outputs": [
    {
     "data": {
      "text/plain": [
       "90482"
      ]
     },
     "execution_count": 63,
     "metadata": {},
     "output_type": "execute_result"
    }
   ],
   "source": [
    "# 95407\n",
    "correct_predictions = 0\n",
    "for correct, predicted in zip(y_true, binary_pred):\n",
    "    if are_equal(correct, predicted):\n",
    "        correct_predictions += 1\n",
    "    #     print(f\"equal: {correct}, {predicted}\")\n",
    "    # else:\n",
    "    #     print(f\"NOT equal: {correct}, {predicted}\")\n",
    "correct_predictions"
   ]
  },
  {
   "cell_type": "code",
   "execution_count": 64,
   "id": "0ccd334f-01c5-404d-8f0d-ae204d0cd8f2",
   "metadata": {
    "tags": []
   },
   "outputs": [
    {
     "data": {
      "text/plain": [
       "90482"
      ]
     },
     "execution_count": 64,
     "metadata": {},
     "output_type": "execute_result"
    }
   ],
   "source": [
    "correct_predictions = sum([1 if are_equal(correct, predicted) else 0 for correct, predicted in zip(y_true, binary_pred)])\n",
    "correct_predictions"
   ]
  },
  {
   "cell_type": "code",
   "execution_count": 65,
   "id": "eb23e429-da79-4625-936e-7a98d473f6cc",
   "metadata": {
    "tags": []
   },
   "outputs": [
    {
     "data": {
      "text/plain": [
       "'accuracy is 0.5221'"
      ]
     },
     "execution_count": 65,
     "metadata": {},
     "output_type": "execute_result"
    }
   ],
   "source": [
    "accuracy = correct_predictions / len(y_true)\n",
    "f\"accuracy is {accuracy:.4f}\""
   ]
  },
  {
   "cell_type": "markdown",
   "id": "f0d1761f-8270-4bcd-978d-2b5ef312e2ea",
   "metadata": {},
   "source": [
    "### True and False positives"
   ]
  },
  {
   "cell_type": "code",
   "execution_count": 66,
   "id": "84e3e043-8856-443f-9128-2f9f6270c229",
   "metadata": {
    "tags": []
   },
   "outputs": [
    {
     "name": "stdout",
     "output_type": "stream",
     "text": [
      "TP is [5.2628e+04 4.7000e+02 4.3000e+01 8.7000e+01 2.8972e+04 2.7200e+03\n",
      " 5.5620e+03]\n",
      "FP is [17306.  2450.  2191.  2209. 40288.  6935. 11444.]\n",
      "FN is [29591.  5656.  4856.  8321.  5376. 22371.  6652.]\n"
     ]
    }
   ],
   "source": [
    "TP = np.zeros(7)\n",
    "FP = np.zeros(7)\n",
    "FN = np.zeros(7)\n",
    "\n",
    "for correct, predicted in zip(y_true, binary_pred):\n",
    "    correct_index = np.where(correct == 1)[0]\n",
    "    predicted_index = np.where(predicted == 1)[0]\n",
    "    if are_equal(correct, predicted):\n",
    "        # prediction was correct\n",
    "        TP[correct_index] += 1\n",
    "    else:\n",
    "        # prediction was incorrect\n",
    "        FP[predicted_index] += 1\n",
    "        FN[correct_index] += 1\n",
    "print(f\"TP is {TP}\")\n",
    "print(f\"FP is {FP}\")\n",
    "print(f\"FN is {FN}\")"
   ]
  },
  {
   "cell_type": "code",
   "execution_count": 67,
   "id": "4aa83056-5a27-453b-8346-afda4b3611c1",
   "metadata": {
    "tags": []
   },
   "outputs": [],
   "source": [
    "assert TP.sum() == correct_predictions"
   ]
  },
  {
   "cell_type": "code",
   "execution_count": 68,
   "id": "45d08cf0-88d5-4ceb-838f-2b402008af0b",
   "metadata": {
    "tags": []
   },
   "outputs": [],
   "source": [
    "def get_precision(true_positives, false_positives):\n",
    "    return true_positives / (true_positives + false_positives)\n",
    "\n",
    "def get_recall(true_positives, false_negatives):\n",
    "    return true_positives / (true_positives + false_negatives)\n",
    "\n",
    "def get_f1(precision, recall):\n",
    "    return 2 * precision * recall / (precision + recall)"
   ]
  },
  {
   "cell_type": "code",
   "execution_count": 69,
   "id": "2e6d54d0-ad38-4c58-be76-83c16e3ab6eb",
   "metadata": {
    "tags": []
   },
   "outputs": [
    {
     "name": "stdout",
     "output_type": "stream",
     "text": [
      "metricas para Neutral\n",
      "Precision is 0.7525\n",
      "Recalli is 0.6401\n",
      "F1i is 0.6918\n",
      "metricas para Anger\n",
      "Precision is 0.1610\n",
      "Recalli is 0.0767\n",
      "F1i is 0.1039\n",
      "metricas para Disgust\n",
      "Precision is 0.0192\n",
      "Recalli is 0.0088\n",
      "F1i is 0.0121\n",
      "metricas para Fear\n",
      "Precision is 0.0379\n",
      "Recalli is 0.0103\n",
      "F1i is 0.0163\n",
      "metricas para Happiness\n",
      "Precision is 0.4183\n",
      "Recalli is 0.8435\n",
      "F1i is 0.5593\n",
      "metricas para Sadness\n",
      "Precision is 0.2817\n",
      "Recalli is 0.1084\n",
      "F1i is 0.1566\n",
      "metricas para Surprise\n",
      "Precision is 0.3271\n",
      "Recalli is 0.4554\n",
      "F1i is 0.3807\n",
      "Macro average F1 is 0.27436110007695125\n"
     ]
    }
   ],
   "source": [
    "F1s = []\n",
    "\n",
    "for i, _ in enumerate(TP):\n",
    "    print(f\"metricas para {emociones[i]}\")\n",
    "    TPi = TP[i]\n",
    "    FPi = FP[i]\n",
    "    FNi = FN[i]\n",
    "    Precisioni = get_precision(TPi, FPi)\n",
    "    Recalli = get_recall(TPi, FNi)\n",
    "    if Recalli != 0:\n",
    "        F1i = get_f1(Precisioni, Recalli)\n",
    "    else:\n",
    "        F1i = 0\n",
    "    F1s.append(F1i)\n",
    "    print(f\"Precision is {Precisioni:.4f}\")\n",
    "    print(f\"Recalli is {Recalli:.4f}\")\n",
    "    print(f\"F1i is {F1i:.4f}\")\n",
    "\n",
    "print(f\"Macro average F1 is {(sum(F1s) / len(F1s))}\")"
   ]
  },
  {
   "cell_type": "code",
   "execution_count": null,
   "id": "69c4e054-4604-4f39-800d-279547e82aa7",
   "metadata": {},
   "outputs": [],
   "source": []
  }
 ],
 "metadata": {
  "environment": {
   "kernel": "python3",
   "name": "common-gpu.m116",
   "type": "gcloud",
   "uri": "gcr.io/deeplearning-platform-release/base-gpu:m116"
  },
  "kernelspec": {
   "display_name": "Python 3 (ipykernel)",
   "language": "python",
   "name": "python3"
  },
  "language_info": {
   "codemirror_mode": {
    "name": "ipython",
    "version": 3
   },
   "file_extension": ".py",
   "mimetype": "text/x-python",
   "name": "python",
   "nbconvert_exporter": "python",
   "pygments_lexer": "ipython3",
   "version": "3.10.12"
  }
 },
 "nbformat": 4,
 "nbformat_minor": 5
}
