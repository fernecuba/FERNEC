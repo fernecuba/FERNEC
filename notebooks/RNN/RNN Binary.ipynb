{
 "cells": [
  {
   "cell_type": "code",
   "execution_count": 1,
   "id": "2312298d-d3dd-46e7-b49b-7d6d4fe08902",
   "metadata": {
    "tags": []
   },
   "outputs": [
    {
     "name": "stderr",
     "output_type": "stream",
     "text": [
      "2024-06-27 15:50:28.075867: I tensorflow/core/util/port.cc:113] oneDNN custom operations are on. You may see slightly different numerical results due to floating-point round-off errors from different computation orders. To turn them off, set the environment variable `TF_ENABLE_ONEDNN_OPTS=0`.\n",
      "2024-06-27 15:50:28.128752: E external/local_xla/xla/stream_executor/cuda/cuda_dnn.cc:9261] Unable to register cuDNN factory: Attempting to register factory for plugin cuDNN when one has already been registered\n",
      "2024-06-27 15:50:28.128789: E external/local_xla/xla/stream_executor/cuda/cuda_fft.cc:607] Unable to register cuFFT factory: Attempting to register factory for plugin cuFFT when one has already been registered\n",
      "2024-06-27 15:50:28.130603: E external/local_xla/xla/stream_executor/cuda/cuda_blas.cc:1515] Unable to register cuBLAS factory: Attempting to register factory for plugin cuBLAS when one has already been registered\n",
      "2024-06-27 15:50:28.139398: I tensorflow/core/platform/cpu_feature_guard.cc:182] This TensorFlow binary is optimized to use available CPU instructions in performance-critical operations.\n",
      "To enable the following instructions: AVX2 AVX512F AVX512_VNNI FMA, in other operations, rebuild TensorFlow with the appropriate compiler flags.\n"
     ]
    }
   ],
   "source": [
    "import cv2\n",
    "import os\n",
    "import time\n",
    "import pandas as pd\n",
    "import numpy as np\n",
    "import math\n",
    "import random\n",
    "import matplotlib.pyplot as plt\n",
    "import keras\n",
    "import tensorflow as tf\n",
    "from tensorflow.keras.layers import Dense, LSTM, Dropout, GRU, Flatten, ConvLSTM2D, Reshape, BatchNormalization, Input, TimeDistributed, AdditiveAttention\n",
    "from tensorflow.keras.models import load_model, Model\n",
    "from concurrent.futures import ThreadPoolExecutor\n",
    "from seq_generator_v2 import FrameGeneratorAffWildPoolV2"
   ]
  },
  {
   "cell_type": "markdown",
   "id": "23549c8f-9739-4dc5-844e-e619693992d5",
   "metadata": {},
   "source": [
    "# Constants"
   ]
  },
  {
   "cell_type": "code",
   "execution_count": 2,
   "id": "28b2f827-bcca-4478-b28e-07fce4a0195d",
   "metadata": {
    "tags": []
   },
   "outputs": [],
   "source": [
    "ruta_labels_train = '/home/jupyter/tpp/datasets/unprocessed/affwild_labels/EXPR_Classification_Challenge/Train_Set'\n",
    "ruta_labels_validation = '/home/jupyter/tpp/datasets/unprocessed/affwild_labels/EXPR_Classification_Challenge/Validation_Set'\n",
    "ruta_imagenes = '/home/jupyter/tpp/datasets/unprocessed/cropped_aligned'\n",
    "videos_train = ['325', '326', '327']\n",
    "videos_validation = ['135', '136']"
   ]
  },
  {
   "cell_type": "code",
   "execution_count": 18,
   "id": "89e3976d-fb98-4831-8aa4-ade6229c835e",
   "metadata": {
    "tags": []
   },
   "outputs": [],
   "source": [
    "emociones = ['Negative', 'Positive']\n",
    "IMG_SIZE = 112\n",
    "IMG_CHANNELS = 3\n",
    "MAX_SEQ_LENGTH = 10\n",
    "NUM_FEATURES = 1024\n",
    "EPOCHS = 50\n",
    "BATCH_SIZE= 512"
   ]
  },
  {
   "cell_type": "markdown",
   "id": "05aa6c1f-5054-4d84-81b3-16ccb35ecd61",
   "metadata": {
    "tags": []
   },
   "source": [
    "# Load CNN model"
   ]
  },
  {
   "cell_type": "code",
   "execution_count": 4,
   "id": "f1eda0c2-1cbb-43d6-90ad-6d4559866677",
   "metadata": {
    "tags": []
   },
   "outputs": [],
   "source": [
    "from keras.models import model_from_json, Sequential, load_model\n",
    "from keras.src.saving import serialization_lib\n",
    "\n",
    "\n",
    "serialization_lib.enable_unsafe_deserialization()\n",
    "\n",
    "MODELS_PATH = \"../Modelos/\"\n",
    "cnn_model_name = \"cotatest_v2_binary.keras\""
   ]
  },
  {
   "cell_type": "code",
   "execution_count": 5,
   "id": "c4493942-07cb-4111-bc85-41665f6d1de4",
   "metadata": {
    "tags": []
   },
   "outputs": [],
   "source": [
    "def load_modal_json():\n",
    "    with open(MODELS_PATH + cnn_model_name + '.json','r') as f:\n",
    "        json = f.read()\n",
    "    cnn_model = model_from_json(json)\n",
    "\n",
    "    cnn_model.load_weights(MODELS_PATH + cnn_model_name + '.h5')\n",
    "    print(f\"Loaded model {cnn_model_name} from disk\")\n",
    "    return cnn_model"
   ]
  },
  {
   "cell_type": "code",
   "execution_count": 6,
   "id": "79905666-c494-41e9-adbb-e970cc7641a2",
   "metadata": {
    "tags": []
   },
   "outputs": [],
   "source": [
    "def load_model_keras():\n",
    "    model = load_model(MODELS_PATH + cnn_model_name)\n",
    "    return model"
   ]
  },
  {
   "cell_type": "code",
   "execution_count": 7,
   "id": "98ddb86c-b8eb-43e2-abc5-4e1e87b0f7b7",
   "metadata": {
    "tags": []
   },
   "outputs": [
    {
     "name": "stderr",
     "output_type": "stream",
     "text": [
      "2024-06-27 15:50:39.362882: I tensorflow/core/common_runtime/gpu/gpu_device.cc:1929] Created device /job:localhost/replica:0/task:0/device:GPU:0 with 38197 MB memory:  -> device: 0, name: NVIDIA A100-SXM4-40GB, pci bus id: 0000:00:04.0, compute capability: 8.0\n"
     ]
    }
   ],
   "source": [
    "cnn_model = load_model_keras()"
   ]
  },
  {
   "cell_type": "code",
   "execution_count": 9,
   "id": "b53f9491-040b-4a65-90cb-42a8e15b158f",
   "metadata": {
    "tags": []
   },
   "outputs": [
    {
     "name": "stdout",
     "output_type": "stream",
     "text": [
      "Model: \"model\"\n",
      "_________________________________________________________________\n",
      " Layer (type)                Output Shape              Param #   \n",
      "=================================================================\n",
      " input_2 (InputLayer)        [(None, 112, 112, 3)]     0         \n",
      "                                                                 \n",
      " sequential_2 (Sequential)   (None, 112, 112, 3)       0         \n",
      "                                                                 \n",
      " lambda (Lambda)             (None, 112, 112, 3)       0         \n",
      "                                                                 \n",
      " vgg16 (Functional)          (None, 3, 3, 512)         14714688  \n",
      "                                                                 \n",
      " global_average_pooling2d (  (None, 512)               0         \n",
      " GlobalAveragePooling2D)                                         \n",
      "                                                                 \n",
      " dropout (Dropout)           (None, 512)               0         \n",
      "                                                                 \n",
      " dense (Dense)               (None, 1024)              525312    \n",
      "                                                                 \n",
      " dense_1 (Dense)             (None, 2)                 2050      \n",
      "                                                                 \n",
      "=================================================================\n",
      "Total params: 15242050 (58.14 MB)\n",
      "Trainable params: 13506562 (51.52 MB)\n",
      "Non-trainable params: 1735488 (6.62 MB)\n",
      "_________________________________________________________________\n"
     ]
    }
   ],
   "source": [
    "cnn_model.summary()"
   ]
  },
  {
   "cell_type": "code",
   "execution_count": 10,
   "id": "c05af3fa-1a31-4b2b-865d-c08e97b2289e",
   "metadata": {
    "tags": []
   },
   "outputs": [
    {
     "name": "stdout",
     "output_type": "stream",
     "text": [
      "Model: \"sequential\"\n",
      "_________________________________________________________________\n",
      " Layer (type)                Output Shape              Param #   \n",
      "=================================================================\n",
      " sequential_2 (Sequential)   (None, 112, 112, 3)       0         \n",
      "                                                                 \n",
      " lambda (Lambda)             (None, 112, 112, 3)       0         \n",
      "                                                                 \n",
      " vgg16 (Functional)          (None, 3, 3, 512)         14714688  \n",
      "                                                                 \n",
      " global_average_pooling2d (  (None, 512)               0         \n",
      " GlobalAveragePooling2D)                                         \n",
      "                                                                 \n",
      " dropout (Dropout)           (None, 512)               0         \n",
      "                                                                 \n",
      " dense (Dense)               (None, 1024)              525312    \n",
      "                                                                 \n",
      "=================================================================\n",
      "Total params: 15240000 (58.14 MB)\n",
      "Trainable params: 13504512 (51.52 MB)\n",
      "Non-trainable params: 1735488 (6.62 MB)\n",
      "_________________________________________________________________\n"
     ]
    }
   ],
   "source": [
    "model = Sequential()\n",
    "for layer in cnn_model.layers[:-1]: # go through until last layer\n",
    "    model.add(layer)\n",
    "\n",
    "model.summary()"
   ]
  },
  {
   "cell_type": "code",
   "execution_count": 11,
   "id": "0594893a-524c-433a-a7fb-3a13ca666c0e",
   "metadata": {
    "tags": []
   },
   "outputs": [
    {
     "data": {
      "text/plain": [
       "(1, 112, 112, 3)"
      ]
     },
     "execution_count": 11,
     "metadata": {},
     "output_type": "execute_result"
    }
   ],
   "source": [
    "image = plt.imread('/home/jupyter/tpp/datasets/processed/merge_data/Anger/affwild_pr_9-15-1920x1080_28357.jpg')\n",
    "\n",
    "image = np.expand_dims(image, axis=0)\n",
    "image.shape"
   ]
  },
  {
   "cell_type": "code",
   "execution_count": 12,
   "id": "f598a57e-4722-4e00-a093-c1e7236357eb",
   "metadata": {
    "tags": []
   },
   "outputs": [
    {
     "name": "stderr",
     "output_type": "stream",
     "text": [
      "2024-06-27 15:53:56.851429: I external/local_xla/xla/stream_executor/cuda/cuda_dnn.cc:454] Loaded cuDNN version 8900\n"
     ]
    },
    {
     "name": "stdout",
     "output_type": "stream",
     "text": [
      "1/1 [==============================] - 4s 4s/step\n"
     ]
    }
   ],
   "source": [
    "result = model.predict(image)"
   ]
  },
  {
   "cell_type": "code",
   "execution_count": 13,
   "id": "b48b5213-8ee4-4af8-be38-cb65d96d3cc2",
   "metadata": {
    "tags": []
   },
   "outputs": [
    {
     "data": {
      "text/plain": [
       "array([0., 0., 0., 0., 0., 0., 0., 0., 0., 0., 0., 0., 0., 0., 0., 0., 0.,\n",
       "       0., 0., 0.], dtype=float32)"
      ]
     },
     "execution_count": 13,
     "metadata": {},
     "output_type": "execute_result"
    }
   ],
   "source": [
    "result[0][450:470]"
   ]
  },
  {
   "cell_type": "markdown",
   "id": "e500f0ca-1e3d-40d7-a71e-2b5f04af1912",
   "metadata": {},
   "source": [
    "# Data Generator"
   ]
  },
  {
   "cell_type": "code",
   "execution_count": 19,
   "id": "c7cfb573-15f5-4a79-801e-989657edbb47",
   "metadata": {
    "tags": []
   },
   "outputs": [
    {
     "name": "stdout",
     "output_type": "stream",
     "text": [
      "Generator for videos ['325', '326', '327']\n",
      "Binary mode ON!\n"
     ]
    },
    {
     "data": {
      "application/vnd.jupyter.widget-view+json": {
       "model_id": "d3ad81e783a84301ac86be30ad487089",
       "version_major": 2,
       "version_minor": 0
      },
      "text/plain": [
       "  0%|          | 0/3 [00:00<?, ?it/s]"
      ]
     },
     "metadata": {},
     "output_type": "display_data"
    },
    {
     "name": "stdout",
     "output_type": "stream",
     "text": [
      "Processing video 326\n",
      "Processing video 325\n",
      "Processing video 327\n"
     ]
    }
   ],
   "source": [
    "def getFrameGeneratorTrain():\n",
    "    return FrameGeneratorAffWildPoolV2(len(emociones), model, ruta_labels_train, ruta_imagenes, MAX_SEQ_LENGTH, NUM_FEATURES, IMG_SIZE, IMG_CHANNELS, videos_names=videos_train, verbose=True, binary_mode=True)\n",
    "\n",
    "fg = getFrameGeneratorTrain()\n",
    "result = fg()"
   ]
  },
  {
   "cell_type": "code",
   "execution_count": 20,
   "id": "7eb61d75-4f8d-47b3-a7d6-3ee5b5830fff",
   "metadata": {
    "tags": []
   },
   "outputs": [
    {
     "name": "stdout",
     "output_type": "stream",
     "text": [
      "Generator for videos ['135', '136']\n",
      "Binary mode ON!\n"
     ]
    }
   ],
   "source": [
    "def getFrameGeneratorValidation():\n",
    "    return FrameGeneratorAffWildPoolV2(len(emociones), model, ruta_labels_validation, ruta_imagenes, MAX_SEQ_LENGTH, NUM_FEATURES, IMG_SIZE, IMG_CHANNELS, videos_names=videos_validation, verbose=True, binary_mode=True)\n",
    "\n",
    "fg = getFrameGeneratorValidation()\n"
   ]
  },
  {
   "cell_type": "markdown",
   "id": "2e1759af-1c61-4276-b2f6-e9728b709188",
   "metadata": {},
   "source": [
    "# Sequence model"
   ]
  },
  {
   "cell_type": "code",
   "execution_count": 37,
   "id": "3bf25b28-db08-4169-8d67-a87c2de31636",
   "metadata": {
    "tags": []
   },
   "outputs": [],
   "source": [
    "base_learning_rate = 0.0001"
   ]
  },
  {
   "cell_type": "code",
   "execution_count": 35,
   "id": "6d384ba4-9336-41d8-acd7-34bf0ba5a3ff",
   "metadata": {
    "tags": []
   },
   "outputs": [],
   "source": [
    "# Utility for our sequence model.\n",
    "def get_sequence_model_att():\n",
    "    frame_features_input = Input((MAX_SEQ_LENGTH, NUM_FEATURES))\n",
    "    mask_input = Input((MAX_SEQ_LENGTH), dtype=\"bool\")\n",
    "\n",
    "    # Refer to the following tutorial to understand the significance of using `mask`:\n",
    "    # https://keras.io/api/layers/recurrent_layers/gru/\n",
    "    lstm = LSTM(16, return_sequences=True)(\n",
    "        frame_features_input, mask=mask_input\n",
    "    )\n",
    "    # Bahdanau Attention layer\n",
    "    attention_layer = AdditiveAttention()\n",
    "    context_vector = attention_layer([lstm, lstm])\n",
    "\n",
    "    #x = LSTM(8, return_sequences=True)(x)\n",
    "    #x = Dropout(0.4)(x)\n",
    "    x = Dense(8, activation=\"relu\")(context_vector)\n",
    "    output = TimeDistributed(Dense(len(emociones), activation=\"softmax\"))(x)\n",
    "\n",
    "    rnn_model = Model([frame_features_input, mask_input], output)\n",
    "\n",
    "    rnn_model.compile(\n",
    "        loss=\"categorical_crossentropy\", optimizer=tf.keras.optimizers.Adam(learning_rate=base_learning_rate), metrics=[\"accuracy\"]\n",
    "    )\n",
    "    return rnn_model"
   ]
  },
  {
   "cell_type": "code",
   "execution_count": 33,
   "id": "2fb6411b-0554-4c73-8702-27ba022e910d",
   "metadata": {},
   "outputs": [],
   "source": [
    "# Utility for our sequence model.\n",
    "def get_sequence_model():\n",
    "    frame_features_input = Input((MAX_SEQ_LENGTH, NUM_FEATURES))\n",
    "    mask_input = Input((MAX_SEQ_LENGTH), dtype=\"bool\")\n",
    "\n",
    "    # Refer to the following tutorial to understand the significance of using `mask`:\n",
    "    # https://keras.io/api/layers/recurrent_layers/gru/\n",
    "    x = LSTM(16, return_sequences=True)(\n",
    "        frame_features_input, mask=mask_input\n",
    "    )\n",
    "    x = LSTM(8, return_sequences=True)(x)\n",
    "    x = Dropout(0.4)(x)\n",
    "    x = Dense(8, activation=\"relu\")(x)\n",
    "    output = TimeDistributed(Dense(len(emociones), activation=\"softmax\"))(x)\n",
    "\n",
    "    rnn_model = Model([frame_features_input, mask_input], output)\n",
    "\n",
    "    rnn_model.compile(\n",
    "        loss=\"categorical_crossentropy\", optimizer=\"adam\", metrics=[\"accuracy\"]\n",
    "    )\n",
    "    return rnn_model"
   ]
  },
  {
   "cell_type": "markdown",
   "id": "1ea34acc-b87c-461b-8b16-b3314a1368ad",
   "metadata": {},
   "source": [
    "# Load datasets"
   ]
  },
  {
   "cell_type": "code",
   "execution_count": 23,
   "id": "cadc8f69-afd3-4320-90f8-0fde3a749528",
   "metadata": {
    "tags": []
   },
   "outputs": [],
   "source": [
    "train_ds = tf.data.Dataset.load(f\"../datasets/processed/rnn_train_{MAX_SEQ_LENGTH}_v2_binary\")\n",
    "train_ds_batch = train_ds.batch(BATCH_SIZE)\n",
    "\n",
    "\n",
    "validation_ds = tf.data.Dataset.load(f\"../datasets/processed/rnn_val_{MAX_SEQ_LENGTH}_v2_binary\")\n",
    "validation_ds_batch = validation_ds.batch(BATCH_SIZE)"
   ]
  },
  {
   "cell_type": "code",
   "execution_count": 16,
   "id": "2d0840da-1f98-4906-a54b-d4ca254c670f",
   "metadata": {
    "tags": []
   },
   "outputs": [
    {
     "data": {
      "text/plain": [
       "<_LoadDataset element_spec=((TensorSpec(shape=(10, 1024), dtype=tf.float32, name=None), TensorSpec(shape=(10,), dtype=tf.bool, name=None)), TensorSpec(shape=(10, 7), dtype=tf.float32, name=None))>"
      ]
     },
     "execution_count": 16,
     "metadata": {},
     "output_type": "execute_result"
    }
   ],
   "source": [
    "validation_ds"
   ]
  },
  {
   "cell_type": "markdown",
   "id": "0ca23dc8-81df-4a88-ac44-88d99c0b0475",
   "metadata": {},
   "source": [
    "# Generate all data"
   ]
  },
  {
   "cell_type": "code",
   "execution_count": 21,
   "id": "0f58e094-3e6d-483b-8ecf-8197876370bc",
   "metadata": {
    "tags": []
   },
   "outputs": [
    {
     "name": "stdout",
     "output_type": "stream",
     "text": [
      "Generator for all videos in /home/jupyter/tpp/datasets/unprocessed/affwild_labels/EXPR_Classification_Challenge/Train_Set\n",
      "Binary mode ON!\n"
     ]
    },
    {
     "data": {
      "application/vnd.jupyter.widget-view+json": {
       "model_id": "82b40ded585e4edbad45ad47e7290b3d",
       "version_major": 2,
       "version_minor": 0
      },
      "text/plain": [
       "  0%|          | 0/248 [00:00<?, ?it/s]"
      ]
     },
     "metadata": {},
     "output_type": "display_data"
    },
    {
     "name": "stdout",
     "output_type": "stream",
     "text": [
      "Processing video 3-25-1920x1080\n",
      "Processing video 393\n",
      "Processing video 33-30-1920x1080\n",
      "Processing video 96-30-1280x720\n",
      "Processing video video2_left\n",
      "Processing video 407\n",
      "Processing video 361\n",
      "Processing video 198\n",
      "Processing video 418\n",
      "Processing video 23-24-1920x1080\n",
      "Processing video 28-30-1280x720-3\n",
      "Processing video 108\n",
      "Processing video 377\n",
      "Processing video 399\n",
      "Processing video 335\n",
      "Processing video 139-14-720x480\n",
      "Processing video video2\n",
      "Processing video 403\n",
      "Processing video 50-30-1920x1080\n",
      "Processing video 357\n",
      "Processing video 27-60-1280x720\n",
      "Processing video 19-24-1920x1080\n",
      "Processing video 369\n",
      "Processing video 71-30-1920x1080\n",
      "Processing video 326\n",
      "Processing video 31-30-1920x1080\n",
      "Processing video 93-24-640x360\n",
      "Processing video 106\n",
      "Processing video 364\n",
      "Processing video 77-30-1280x720\n",
      "Processing video 365\n",
      "Processing video 74-25-1920x1080\n",
      "Processing video 84-30-1920x1080\n",
      "Processing video 325\n",
      "Processing video 46-30-484x360_left\n",
      "Processing video 57-25-426x240\n",
      "Processing video 65-30-400x228\n",
      "Processing video video45_7\n",
      "Processing video video79\n",
      "Processing video 421\n",
      "Processing video 60-30-1920x1080\n",
      "Processing video 207\n",
      "Processing video 5-60-1920x1080-4\n",
      "Processing video 402\n",
      "Processing video 428\n",
      "Processing video 38-30-1920x1080\n",
      "Processing video 113\n",
      "Processing video 400\n",
      "Processing video 426\n",
      "Processing video video49_left\n",
      "Processing video 89-30-1080x1920\n",
      "Processing video 4-30-1920x1080\n",
      "Processing video 225\n",
      "Processing video 391\n",
      "Processing video 381\n",
      "Processing video 327\n",
      "Processing video 105-30-1280x720\n",
      "Processing video 108-15-640x480\n",
      "Processing video 107\n",
      "Processing video 54-30-1080x1920\n",
      "Processing video 383\n",
      "Processing video 398\n",
      "Processing video 449\n",
      "Processing video 10-60-1280x720\n",
      "Processing video 349\n",
      "Processing video 439\n",
      "Processing video video67\n",
      "Processing video 116-30-1280x720\n",
      "Processing video video45_6\n",
      "Processing video 328\n",
      "Processing video 29-24-1280x720\n",
      "Processing video 15-24-1920x1080\n",
      "Processing video 63-30-1920x1080\n",
      "Processing video 94-30-1920x1080\n",
      "Processing video 36-24-1280x720\n",
      "Processing video video24\n",
      "Processing video 109-30-1280x720\n",
      "Processing video 81-30-576x360\n",
      "Processing video 389\n",
      "Processing video 424\n",
      "Processing video 13-30-1920x1080\n",
      "Processing video 41-24-1280x720\n",
      "Processing video 447\n",
      "Processing video 101-30-1080x1920\n",
      "Processing video 47-30-654x480\n",
      "Processing video 114-30-1280x720\n",
      "Processing video 386\n",
      "Processing video 115-30-1280x720\n",
      "Processing video 18-24-1920x1080\n",
      "Processing video 384\n",
      "Processing video 53-30-360x480\n",
      "Processing video 434\n",
      "Processing video 112-30-640x360\n",
      "Processing video 5-60-1920x1080-2\n",
      "Processing video 100-29-1080x1920\n",
      "Processing video 339\n",
      "Processing video 441\n",
      "Processing video 334\n",
      "Processing video 117-25-1920x1080\n",
      "Processing video 78-30-960x720\n",
      "Processing video video45_5\n",
      "Processing video 114\n",
      "Processing video 425\n",
      "Processing video 97-29-1920x1080\n",
      "Processing video 46-30-484x360_right\n",
      "Processing video 415\n",
      "Processing video 11-24-1920x1080\n",
      "Processing video 435\n",
      "Processing video 376\n",
      "Processing video 370\n",
      "Processing video 354\n",
      "Processing video 66-25-1080x1920\n",
      "Processing video 368\n",
      "Processing video 76-30-640x280\n",
      "Processing video 374\n",
      "Processing video 409\n",
      "Processing video 420\n",
      "Processing video video72\n",
      "Processing video 112\n",
      "Processing video 363\n",
      "Processing video 34-25-1920x1080\n",
      "Processing video 360\n",
      "Processing video 380\n",
      "Processing video 2-30-640x360\n",
      "Processing video 61-24-1920x1080\n",
      "Processing video 111-25-1920x1080\n",
      "Processing video 86-24-1920x1080\n",
      "Processing video 80-30-320x240\n",
      "Processing video 355\n",
      "Processing video 99-30-720x720\n",
      "Processing video 35-30-1920x1080\n",
      "Processing video 20-24-1920x1080\n",
      "Processing video 358\n",
      "Processing video 67-24-640x360\n",
      "Processing video 1-30-1280x720\n",
      "Processing video 362\n",
      "Processing video 448\n",
      "Processing video 331\n",
      "Processing video 12-24-1920x1080\n",
      "Processing video 440\n",
      "Processing video video7\n",
      "Processing video 62-30-654x480\n",
      "Processing video 6-30-1920x1080_left\n",
      "Processing video 90-30-1080x1920\n",
      "Processing video 392\n",
      "Processing video 372\n",
      "Processing video 132-30-426x240\n",
      "Processing video 72-30-1280x720\n",
      "Processing video 91-30-1920x1080\n",
      "Processing video 7-60-1920x1080\n",
      "Processing video 337\n",
      "Processing video 412\n",
      "Processing video 56-30-1080x1920\n",
      "Processing video video3\n",
      "Processing video 408\n",
      "Processing video 450\n",
      "Processing video 135-24-1920x1080_right\n",
      "Processing video video47\n",
      "Processing video 70-30-720x1280\n",
      "Processing video 58-30-640x480\n",
      "Processing video 387\n",
      "Processing video 345\n",
      "Processing video video58\n",
      "Processing video 8-30-1280x720\n",
      "Processing video 21-24-1920x1080\n",
      "Processing video 106-30-720x1280\n",
      "Processing video 17-24-1920x1080\n",
      "Processing video video8\n",
      "Processing video video45_3\n",
      "Processing video 5-60-1920x1080-3\n",
      "Processing video 95-24-1920x1080\n",
      "Processing video 105\n",
      "Processing video 75-30-960x720\n",
      "Processing video video93\n",
      "Processing video 42-30-480x480\n",
      "Processing video 116\n",
      "Processing video 353\n",
      "Processing video 378\n",
      "Processing video 25-25-600x480\n",
      "Processing video 332\n",
      "Processing video 88-30-360x480\n",
      "Processing video 348\n",
      "Processing video 110-30-270x480\n",
      "Processing video 64-24-640x360\n",
      "Processing video 419\n",
      "Processing video 373\n",
      "Processing video 446\n",
      "Processing video 385\n",
      "Processing video 341\n",
      "Processing video 406\n",
      "Processing video 336\n",
      "Processing video 382\n",
      "Processing video 388\n",
      "Processing video 5-60-1920x1080-1\n",
      "Processing video 416\n",
      "Processing video video4\n",
      "Processing video video61\n",
      "Processing video 367\n",
      "Processing video video1\n",
      "Processing video 103-30-384x480\n",
      "Processing video video63\n",
      "Processing video video6\n",
      "Processing video 110\n",
      "Processing video 28-30-1280x720-4\n",
      "Processing video 433\n",
      "Processing video 68-24-1920x1080\n",
      "Processing video 10-60-1280x720_right\n",
      "Processing video 138-30-1280x720\n",
      "Processing video 9-15-1920x1080\n",
      "Processing video 111\n",
      "Processing video 37-30-1280x720\n",
      "Processing video 107-30-640x480\n",
      "Processing video 359\n",
      "Processing video 39-25-424x240\n",
      "Processing video 344\n",
      "Processing video 122-60-1920x1080-1\n",
      "Processing video 346\n",
      "Processing video video48\n",
      "Processing video 22-30-1920x1080\n",
      "Processing video 32-60-1920x1080\n",
      "Processing video 330\n",
      "Processing video 430\n",
      "Processing video 113-60-1280x720\n",
      "Processing video 329\n",
      "Processing video 69-25-854x480\n",
      "Processing video 347\n",
      "Processing video 394\n",
      "Processing video 59-30-1280x720\n",
      "Processing video 350\n",
      "Processing video 28-30-1280x720-1\n",
      "Processing video 423\n",
      "Processing video 375\n",
      "Processing video 429\n",
      "Processing video 51-30-1280x720\n",
      "Processing video video94\n",
      "Processing video 427\n",
      "Processing video 98-30-360x360\n",
      "Processing video 104-17-720x480\n",
      "Processing video 133-30-1280x720\n",
      "Processing video 395\n",
      "Processing video video66\n",
      "Processing video 102-30-640x360\n",
      "Processing video 371\n",
      "Processing video 102\n",
      "Processing video 87-25-1920x1080\n",
      "Processing video 26-60-1280x720\n",
      "Processing video 103\n",
      "Processing video 85-24-1280x720\n"
     ]
    }
   ],
   "source": [
    "train_frame_generator = FrameGeneratorAffWildPoolV2(len(emociones), model, ruta_labels_train, ruta_imagenes, MAX_SEQ_LENGTH, NUM_FEATURES, IMG_SIZE, IMG_CHANNELS, videos_names=None, verbose=True, binary_mode=True)\n",
    "# Generar todos los datos del generador y convertirlos en listas\n",
    "all_data = list(train_frame_generator())"
   ]
  },
  {
   "cell_type": "code",
   "execution_count": 22,
   "id": "4b889442-dd6c-4e52-842f-c901aca90f00",
   "metadata": {
    "tags": []
   },
   "outputs": [],
   "source": [
    "# Dividir los datos en características de entrada, máscaras y etiquetas\n",
    "frame_features_inputs = [data[0][0] for data in all_data]\n",
    "mask_inputs = [data[0][1] for data in all_data]\n",
    "labels = [data[1] for data in all_data]\n",
    "\n",
    "# Convertir las listas en tensores de TensorFlow\n",
    "frame_features_inputs_tensor = tf.convert_to_tensor(frame_features_inputs, dtype=tf.float32)\n",
    "mask_inputs_tensor = tf.convert_to_tensor(mask_inputs, dtype=tf.bool)\n",
    "labels_tensor = tf.convert_to_tensor(labels, dtype=tf.float32)\n",
    "\n",
    "# Crear el conjunto de datos de TensorFlow\n",
    "train_ds = tf.data.Dataset.from_tensor_slices(((frame_features_inputs_tensor, mask_inputs_tensor), labels_tensor))"
   ]
  },
  {
   "cell_type": "code",
   "execution_count": 23,
   "id": "6cfda190-41fd-4d4b-b5ea-dbbaecf396ba",
   "metadata": {
    "tags": []
   },
   "outputs": [
    {
     "data": {
      "text/plain": [
       "<_TensorSliceDataset element_spec=((TensorSpec(shape=(10, 1024), dtype=tf.float32, name=None), TensorSpec(shape=(10,), dtype=tf.bool, name=None)), TensorSpec(shape=(10, 2), dtype=tf.float32, name=None))>"
      ]
     },
     "execution_count": 23,
     "metadata": {},
     "output_type": "execute_result"
    }
   ],
   "source": [
    "train_ds"
   ]
  },
  {
   "cell_type": "code",
   "execution_count": 24,
   "id": "31ab5c3d-eca3-4ff1-ac6e-8bda0cff2b96",
   "metadata": {
    "tags": []
   },
   "outputs": [],
   "source": [
    "#train_ds.save(f\"../datasets/processed/rnn_train_{MAX_SEQ_LENGTH}_v2_binary\")"
   ]
  },
  {
   "cell_type": "code",
   "execution_count": 25,
   "id": "1c6ef20a-5fe5-4a62-89ab-8980451a9718",
   "metadata": {
    "tags": []
   },
   "outputs": [
    {
     "data": {
      "text/plain": [
       "<_BatchDataset element_spec=((TensorSpec(shape=(None, 10, 1024), dtype=tf.float32, name=None), TensorSpec(shape=(None, 10), dtype=tf.bool, name=None)), TensorSpec(shape=(None, 10, 2), dtype=tf.float32, name=None))>"
      ]
     },
     "execution_count": 25,
     "metadata": {},
     "output_type": "execute_result"
    }
   ],
   "source": [
    "train_ds_batch = train_ds.batch(BATCH_SIZE)\n",
    "train_ds_batch"
   ]
  },
  {
   "cell_type": "code",
   "execution_count": 26,
   "id": "7e625df9-7fd9-4008-b8e0-40f08fb095c8",
   "metadata": {
    "tags": []
   },
   "outputs": [
    {
     "name": "stdout",
     "output_type": "stream",
     "text": [
      "Generator for all videos in /home/jupyter/tpp/datasets/unprocessed/affwild_labels/EXPR_Classification_Challenge/Validation_Set\n",
      "Binary mode ON!\n"
     ]
    },
    {
     "data": {
      "application/vnd.jupyter.widget-view+json": {
       "model_id": "665afc801b1b452fa46fd15c6c7d731e",
       "version_major": 2,
       "version_minor": 0
      },
      "text/plain": [
       "  0%|          | 0/70 [00:00<?, ?it/s]"
      ]
     },
     "metadata": {},
     "output_type": "display_data"
    },
    {
     "name": "stdout",
     "output_type": "stream",
     "text": [
      "Processing video 24-30-1920x1080-1\n",
      "Processing video 121\n",
      "Processing video 146\n",
      "Processing video 147\n",
      "Processing video 24-30-1920x1080-2\n",
      "Processing video 139\n",
      "Processing video 156\n",
      "Processing video 159\n",
      "Processing video 123-25-1920x1080\n",
      "Processing video video73\n",
      "Processing video 122-60-1920x1080-3\n",
      "Processing video 120-30-1280x720\n",
      "Processing video 132\n",
      "Processing video 150\n",
      "Processing video 125-25-1280x720\n",
      "Processing video 131\n",
      "Processing video 151\n",
      "Processing video 137\n",
      "Processing video 154\n",
      "Processing video 121-24-1920x1080\n",
      "Processing video 137-30-1920x1080\n",
      "Processing video 120\n",
      "Processing video 148\n",
      "Processing video 140\n",
      "Processing video 161\n",
      "Processing video 135\n",
      "Processing video 122-60-1920x1080-4\n",
      "Processing video 144\n",
      "Processing video 127\n",
      "Processing video 149\n",
      "Processing video 125\n",
      "Processing video 136\n",
      "Processing video 158\n",
      "Processing video 122-60-1920x1080-2\n",
      "Processing video 28-30-1280x720-2\n",
      "Processing video 165\n",
      "Processing video 6-30-1920x1080_right\n",
      "Processing video 123\n",
      "Processing video 126\n",
      "Processing video 282\n",
      "Processing video 153\n",
      "Processing video 160\n",
      "Processing video 131-30-1920x1080\n",
      "Processing video 128-24-1920x1080\n",
      "Processing video 127-30-1280x720\n",
      "Processing video video34\n",
      "Processing video 128\n",
      "Processing video 117\n",
      "Processing video 130\n",
      "Processing video 155\n",
      "Processing video 45-24-1280x720\n",
      "Processing video 122\n",
      "Processing video 129-24-1280x720\n",
      "Processing video 143\n",
      "Processing video 118\n",
      "Processing video 141\n",
      "Processing video 119\n",
      "Processing video 162\n",
      "Processing video 82-25-854x480\n",
      "Processing video 164\n",
      "Processing video 122-60-1920x1080-1\n",
      "Processing video 133\n",
      "Processing video 138\n",
      "Processing video 118-30-640x480\n",
      "Processing video 135-24-1920x1080_left\n",
      "Processing video 163\n",
      "Processing video 124-30-720x1280\n",
      "Processing video 134\n",
      "Processing video 140-30-632x360\n",
      "Processing video 157\n"
     ]
    }
   ],
   "source": [
    "validation_frame_generator = FrameGeneratorAffWildPoolV2(len(emociones), model, ruta_labels_validation, ruta_imagenes, MAX_SEQ_LENGTH, NUM_FEATURES, IMG_SIZE, IMG_CHANNELS, videos_names=None, verbose=True, binary_mode=True)\n",
    "all_data2 = list(validation_frame_generator())"
   ]
  },
  {
   "cell_type": "code",
   "execution_count": 27,
   "id": "81ac8d6d-dcce-4f27-b734-3b27ef7cb00e",
   "metadata": {
    "tags": []
   },
   "outputs": [],
   "source": [
    "# Dividir los datos en características de entrada, máscaras y etiquetas\n",
    "frame_features_inputs = [data[0][0] for data in all_data2]\n",
    "mask_inputs = [data[0][1] for data in all_data2]\n",
    "labels = [data[1] for data in all_data2]\n",
    "\n",
    "# Convertir las listas en tensores de TensorFlow\n",
    "frame_features_inputs_tensor = tf.convert_to_tensor(frame_features_inputs, dtype=tf.float32)\n",
    "mask_inputs_tensor = tf.convert_to_tensor(mask_inputs, dtype=tf.bool)\n",
    "labels_tensor = tf.convert_to_tensor(labels, dtype=tf.float32)\n",
    "\n",
    "# Crear el conjunto de datos de TensorFlow\n",
    "validation_ds = tf.data.Dataset.from_tensor_slices(((frame_features_inputs_tensor, mask_inputs_tensor), labels_tensor))"
   ]
  },
  {
   "cell_type": "code",
   "execution_count": 28,
   "id": "9d3958f8-4c22-4b43-b116-ad0b6e793cfe",
   "metadata": {
    "tags": []
   },
   "outputs": [],
   "source": [
    "#validation_ds.save(f\"../datasets/processed/rnn_val_{MAX_SEQ_LENGTH}_v2_binary\")"
   ]
  },
  {
   "cell_type": "code",
   "execution_count": 30,
   "id": "979c991b-08cd-42de-91e7-769297091144",
   "metadata": {
    "tags": []
   },
   "outputs": [
    {
     "data": {
      "text/plain": [
       "<_BatchDataset element_spec=((TensorSpec(shape=(None, 10, 1024), dtype=tf.float32, name=None), TensorSpec(shape=(None, 10), dtype=tf.bool, name=None)), TensorSpec(shape=(None, 10, 2), dtype=tf.float32, name=None))>"
      ]
     },
     "execution_count": 30,
     "metadata": {},
     "output_type": "execute_result"
    }
   ],
   "source": [
    "validation_ds_batch = validation_ds.batch(BATCH_SIZE)\n",
    "validation_ds_batch"
   ]
  },
  {
   "cell_type": "markdown",
   "id": "a3d8efc2-5dfa-470e-ab28-3f547a97bd06",
   "metadata": {},
   "source": [
    "# Train RNN model"
   ]
  },
  {
   "cell_type": "code",
   "execution_count": 38,
   "id": "66e18645-5a81-4ca9-957d-55ede072d4f4",
   "metadata": {},
   "outputs": [
    {
     "name": "stdout",
     "output_type": "stream",
     "text": [
      "Epoch 1/50\n"
     ]
    },
    {
     "name": "stderr",
     "output_type": "stream",
     "text": [
      "W0000 00:00:1719506527.331037  693453 op_level_cost_estimator.cc:699] Error in PredictCost() for the op: op: \"Softmax\" attr { key: \"T\" value { type: DT_FLOAT } } inputs { dtype: DT_FLOAT shape { unknown_rank: true } } device { type: \"GPU\" vendor: \"NVIDIA\" model: \"NVIDIA A100-SXM4-40GB\" frequency: 1410 num_cores: 108 environment { key: \"architecture\" value: \"8.0\" } environment { key: \"cuda\" value: \"12020\" } environment { key: \"cudnn\" value: \"8904\" } num_registers: 65536 l1_cache_size: 24576 l2_cache_size: 41943040 shared_memory_size_per_multiprocessor: 167936 memory_size: 40052523008 bandwidth: 1555200000 } outputs { dtype: DT_FLOAT shape { unknown_rank: true } }\n"
     ]
    },
    {
     "name": "stdout",
     "output_type": "stream",
     "text": [
      "86/86 [==============================] - ETA: 0s - loss: 0.6447 - accuracy: 0.6801"
     ]
    },
    {
     "name": "stderr",
     "output_type": "stream",
     "text": [
      "W0000 00:00:1719506531.603381  693453 op_level_cost_estimator.cc:699] Error in PredictCost() for the op: op: \"Softmax\" attr { key: \"T\" value { type: DT_FLOAT } } inputs { dtype: DT_FLOAT shape { unknown_rank: true } } device { type: \"GPU\" vendor: \"NVIDIA\" model: \"NVIDIA A100-SXM4-40GB\" frequency: 1410 num_cores: 108 environment { key: \"architecture\" value: \"8.0\" } environment { key: \"cuda\" value: \"12020\" } environment { key: \"cudnn\" value: \"8904\" } num_registers: 65536 l1_cache_size: 24576 l2_cache_size: 41943040 shared_memory_size_per_multiprocessor: 167936 memory_size: 40052523008 bandwidth: 1555200000 } outputs { dtype: DT_FLOAT shape { unknown_rank: true } }\n"
     ]
    },
    {
     "name": "stdout",
     "output_type": "stream",
     "text": [
      "\n",
      "Epoch 1: val_loss improved from inf to 0.64861, saving model to ../Modelos/tmp/video_classifier/ckptatt_binary.weights.h5\n",
      "86/86 [==============================] - 8s 42ms/step - loss: 0.6447 - accuracy: 0.6801 - val_loss: 0.6486 - val_accuracy: 0.6401\n",
      "Epoch 2/50\n",
      "86/86 [==============================] - ETA: 0s - loss: 0.5819 - accuracy: 0.7570\n",
      "Epoch 2: val_loss improved from 0.64861 to 0.62971, saving model to ../Modelos/tmp/video_classifier/ckptatt_binary.weights.h5\n",
      "86/86 [==============================] - 3s 29ms/step - loss: 0.5819 - accuracy: 0.7570 - val_loss: 0.6297 - val_accuracy: 0.6232\n",
      "Epoch 3/50\n",
      "84/86 [============================>.] - ETA: 0s - loss: 0.5468 - accuracy: 0.7811\n",
      "Epoch 3: val_loss improved from 0.62971 to 0.62500, saving model to ../Modelos/tmp/video_classifier/ckptatt_binary.weights.h5\n",
      "86/86 [==============================] - 2s 27ms/step - loss: 0.5467 - accuracy: 0.7804 - val_loss: 0.6250 - val_accuracy: 0.6136\n",
      "Epoch 4/50\n",
      "85/86 [============================>.] - ETA: 0s - loss: 0.5254 - accuracy: 0.7917\n",
      "Epoch 4: val_loss improved from 0.62500 to 0.62402, saving model to ../Modelos/tmp/video_classifier/ckptatt_binary.weights.h5\n",
      "86/86 [==============================] - 2s 27ms/step - loss: 0.5242 - accuracy: 0.7920 - val_loss: 0.6240 - val_accuracy: 0.6129\n",
      "Epoch 5/50\n",
      "84/86 [============================>.] - ETA: 0s - loss: 0.5031 - accuracy: 0.8011\n",
      "Epoch 5: val_loss did not improve from 0.62402\n",
      "86/86 [==============================] - 2s 27ms/step - loss: 0.5034 - accuracy: 0.7998 - val_loss: 0.6274 - val_accuracy: 0.6175\n",
      "Epoch 6/50\n",
      "86/86 [==============================] - ETA: 0s - loss: 0.4816 - accuracy: 0.8072\n",
      "Epoch 6: val_loss did not improve from 0.62402\n",
      "86/86 [==============================] - 2s 26ms/step - loss: 0.4816 - accuracy: 0.8072 - val_loss: 0.6341 - val_accuracy: 0.6244\n",
      "Epoch 7/50\n",
      "85/86 [============================>.] - ETA: 0s - loss: 0.4651 - accuracy: 0.8123\n",
      "Epoch 7: val_loss did not improve from 0.62402\n",
      "86/86 [==============================] - 2s 26ms/step - loss: 0.4635 - accuracy: 0.8124 - val_loss: 0.6394 - val_accuracy: 0.6280\n",
      "Epoch 8/50\n",
      "86/86 [==============================] - ETA: 0s - loss: 0.4471 - accuracy: 0.8167\n",
      "Epoch 8: val_loss did not improve from 0.62402\n",
      "86/86 [==============================] - 2s 26ms/step - loss: 0.4471 - accuracy: 0.8167 - val_loss: 0.6526 - val_accuracy: 0.6281\n",
      "Epoch 9/50\n",
      "86/86 [==============================] - ETA: 0s - loss: 0.4360 - accuracy: 0.8206\n",
      "Epoch 9: val_loss did not improve from 0.62402\n",
      "86/86 [==============================] - 2s 26ms/step - loss: 0.4360 - accuracy: 0.8206 - val_loss: 0.6551 - val_accuracy: 0.6257\n",
      "Epoch 10/50\n",
      "84/86 [============================>.] - ETA: 0s - loss: 0.4286 - accuracy: 0.8261\n",
      "Epoch 10: val_loss did not improve from 0.62402\n",
      "86/86 [==============================] - 2s 26ms/step - loss: 0.4292 - accuracy: 0.8249 - val_loss: 0.6570 - val_accuracy: 0.6249\n",
      "Epoch 11/50\n",
      "86/86 [==============================] - ETA: 0s - loss: 0.4225 - accuracy: 0.8285\n",
      "Epoch 11: val_loss did not improve from 0.62402\n",
      "86/86 [==============================] - 2s 27ms/step - loss: 0.4225 - accuracy: 0.8285 - val_loss: 0.6599 - val_accuracy: 0.6238\n",
      "Epoch 12/50\n",
      "84/86 [============================>.] - ETA: 0s - loss: 0.4149 - accuracy: 0.8337\n",
      "Epoch 12: val_loss did not improve from 0.62402\n",
      "86/86 [==============================] - 2s 26ms/step - loss: 0.4157 - accuracy: 0.8322 - val_loss: 0.6613 - val_accuracy: 0.6234\n",
      "Epoch 13/50\n",
      "85/86 [============================>.] - ETA: 0s - loss: 0.4099 - accuracy: 0.8353\n",
      "Epoch 13: val_loss did not improve from 0.62402\n",
      "86/86 [==============================] - 2s 26ms/step - loss: 0.4087 - accuracy: 0.8350 - val_loss: 0.6628 - val_accuracy: 0.6245\n",
      "Epoch 14/50\n",
      "84/86 [============================>.] - ETA: 0s - loss: 0.4016 - accuracy: 0.8383\n",
      "Epoch 14: val_loss did not improve from 0.62402\n",
      "86/86 [==============================] - 2s 27ms/step - loss: 0.4025 - accuracy: 0.8367 - val_loss: 0.6673 - val_accuracy: 0.6234\n",
      "Epoch 15/50\n",
      "84/86 [============================>.] - ETA: 0s - loss: 0.3953 - accuracy: 0.8402\n",
      "Epoch 15: val_loss did not improve from 0.62402\n",
      "86/86 [==============================] - 2s 27ms/step - loss: 0.3964 - accuracy: 0.8385 - val_loss: 0.6730 - val_accuracy: 0.6222\n",
      "Epoch 16/50\n",
      "85/86 [============================>.] - ETA: 0s - loss: 0.3917 - accuracy: 0.8410\n",
      "Epoch 16: val_loss did not improve from 0.62402\n",
      "86/86 [==============================] - 2s 26ms/step - loss: 0.3909 - accuracy: 0.8406 - val_loss: 0.6774 - val_accuracy: 0.6205\n",
      "Epoch 17/50\n",
      "84/86 [============================>.] - ETA: 0s - loss: 0.3846 - accuracy: 0.8441\n",
      "Epoch 17: val_loss did not improve from 0.62402\n",
      "86/86 [==============================] - 2s 26ms/step - loss: 0.3857 - accuracy: 0.8425 - val_loss: 0.6808 - val_accuracy: 0.6210\n",
      "Epoch 18/50\n",
      "86/86 [==============================] - ETA: 0s - loss: 0.3809 - accuracy: 0.8448\n",
      "Epoch 18: val_loss did not improve from 0.62402\n",
      "86/86 [==============================] - 2s 26ms/step - loss: 0.3809 - accuracy: 0.8448 - val_loss: 0.6840 - val_accuracy: 0.6214\n",
      "Epoch 19/50\n",
      "86/86 [==============================] - ETA: 0s - loss: 0.3763 - accuracy: 0.8470\n",
      "Epoch 19: val_loss did not improve from 0.62402\n",
      "86/86 [==============================] - 2s 26ms/step - loss: 0.3763 - accuracy: 0.8470 - val_loss: 0.6873 - val_accuracy: 0.6217\n",
      "Epoch 20/50\n",
      "85/86 [============================>.] - ETA: 0s - loss: 0.3724 - accuracy: 0.8491\n",
      "Epoch 20: val_loss did not improve from 0.62402\n",
      "86/86 [==============================] - 2s 26ms/step - loss: 0.3719 - accuracy: 0.8486 - val_loss: 0.6906 - val_accuracy: 0.6224\n",
      "Epoch 21/50\n",
      "85/86 [============================>.] - ETA: 0s - loss: 0.3675 - accuracy: 0.8509\n",
      "Epoch 21: val_loss did not improve from 0.62402\n",
      "86/86 [==============================] - 2s 26ms/step - loss: 0.3671 - accuracy: 0.8504 - val_loss: 0.6937 - val_accuracy: 0.6226\n",
      "Epoch 22/50\n",
      "84/86 [============================>.] - ETA: 0s - loss: 0.3608 - accuracy: 0.8536\n",
      "Epoch 22: val_loss did not improve from 0.62402\n",
      "86/86 [==============================] - 2s 26ms/step - loss: 0.3623 - accuracy: 0.8520 - val_loss: 0.6976 - val_accuracy: 0.6230\n",
      "Epoch 23/50\n",
      "85/86 [============================>.] - ETA: 0s - loss: 0.3575 - accuracy: 0.8547\n",
      "Epoch 23: val_loss did not improve from 0.62402\n",
      "86/86 [==============================] - 2s 27ms/step - loss: 0.3573 - accuracy: 0.8542 - val_loss: 0.7008 - val_accuracy: 0.6246\n",
      "Epoch 24/50\n",
      "86/86 [==============================] - ETA: 0s - loss: 0.3526 - accuracy: 0.8556\n",
      "Epoch 24: val_loss did not improve from 0.62402\n",
      "86/86 [==============================] - 2s 27ms/step - loss: 0.3526 - accuracy: 0.8556 - val_loss: 0.7064 - val_accuracy: 0.6241\n",
      "Epoch 25/50\n",
      "86/86 [==============================] - ETA: 0s - loss: 0.3482 - accuracy: 0.8567\n",
      "Epoch 25: val_loss did not improve from 0.62402\n",
      "86/86 [==============================] - 2s 27ms/step - loss: 0.3482 - accuracy: 0.8567 - val_loss: 0.7125 - val_accuracy: 0.6245\n",
      "Epoch 26/50\n",
      "86/86 [==============================] - ETA: 0s - loss: 0.3446 - accuracy: 0.8580\n",
      "Epoch 26: val_loss did not improve from 0.62402\n",
      "86/86 [==============================] - 2s 27ms/step - loss: 0.3446 - accuracy: 0.8580 - val_loss: 0.7173 - val_accuracy: 0.6249\n",
      "Epoch 27/50\n",
      "86/86 [==============================] - ETA: 0s - loss: 0.3412 - accuracy: 0.8589\n",
      "Epoch 27: val_loss did not improve from 0.62402\n",
      "86/86 [==============================] - 2s 27ms/step - loss: 0.3412 - accuracy: 0.8589 - val_loss: 0.7203 - val_accuracy: 0.6255\n",
      "Epoch 28/50\n",
      "84/86 [============================>.] - ETA: 0s - loss: 0.3362 - accuracy: 0.8615\n",
      "Epoch 28: val_loss did not improve from 0.62402\n",
      "86/86 [==============================] - 2s 26ms/step - loss: 0.3378 - accuracy: 0.8599 - val_loss: 0.7221 - val_accuracy: 0.6263\n",
      "Epoch 29/50\n",
      "85/86 [============================>.] - ETA: 0s - loss: 0.3344 - accuracy: 0.8611\n",
      "Epoch 29: val_loss did not improve from 0.62402\n",
      "86/86 [==============================] - 2s 29ms/step - loss: 0.3347 - accuracy: 0.8605 - val_loss: 0.7245 - val_accuracy: 0.6272\n",
      "Epoch 30/50\n",
      "85/86 [============================>.] - ETA: 0s - loss: 0.3314 - accuracy: 0.8620\n",
      "Epoch 30: val_loss did not improve from 0.62402\n",
      "86/86 [==============================] - 2s 26ms/step - loss: 0.3317 - accuracy: 0.8614 - val_loss: 0.7263 - val_accuracy: 0.6283\n",
      "Epoch 31/50\n",
      "86/86 [==============================] - ETA: 0s - loss: 0.3290 - accuracy: 0.8620\n",
      "Epoch 31: val_loss did not improve from 0.62402\n",
      "86/86 [==============================] - 2s 26ms/step - loss: 0.3290 - accuracy: 0.8620 - val_loss: 0.7279 - val_accuracy: 0.6289\n",
      "Epoch 32/50\n",
      "84/86 [============================>.] - ETA: 0s - loss: 0.3249 - accuracy: 0.8642\n",
      "Epoch 32: val_loss did not improve from 0.62402\n",
      "86/86 [==============================] - 2s 26ms/step - loss: 0.3266 - accuracy: 0.8626 - val_loss: 0.7295 - val_accuracy: 0.6300\n",
      "Epoch 33/50\n",
      "86/86 [==============================] - ETA: 0s - loss: 0.3243 - accuracy: 0.8633\n",
      "Epoch 33: val_loss did not improve from 0.62402\n",
      "86/86 [==============================] - 2s 26ms/step - loss: 0.3243 - accuracy: 0.8633 - val_loss: 0.7308 - val_accuracy: 0.6305\n",
      "Epoch 34/50\n",
      "86/86 [==============================] - ETA: 0s - loss: 0.3220 - accuracy: 0.8642\n",
      "Epoch 34: val_loss did not improve from 0.62402\n",
      "86/86 [==============================] - 2s 26ms/step - loss: 0.3220 - accuracy: 0.8642 - val_loss: 0.7324 - val_accuracy: 0.6315\n",
      "Epoch 35/50\n",
      "86/86 [==============================] - ETA: 0s - loss: 0.3198 - accuracy: 0.8648\n",
      "Epoch 35: val_loss did not improve from 0.62402\n",
      "86/86 [==============================] - 2s 27ms/step - loss: 0.3198 - accuracy: 0.8648 - val_loss: 0.7335 - val_accuracy: 0.6322\n",
      "Epoch 36/50\n",
      "85/86 [============================>.] - ETA: 0s - loss: 0.3172 - accuracy: 0.8661\n",
      "Epoch 36: val_loss did not improve from 0.62402\n",
      "86/86 [==============================] - 2s 27ms/step - loss: 0.3177 - accuracy: 0.8654 - val_loss: 0.7346 - val_accuracy: 0.6325\n",
      "Epoch 37/50\n",
      "84/86 [============================>.] - ETA: 0s - loss: 0.3140 - accuracy: 0.8675\n",
      "Epoch 37: val_loss did not improve from 0.62402\n",
      "86/86 [==============================] - 2s 26ms/step - loss: 0.3157 - accuracy: 0.8660 - val_loss: 0.7358 - val_accuracy: 0.6327\n",
      "Epoch 38/50\n",
      "86/86 [==============================] - ETA: 0s - loss: 0.3138 - accuracy: 0.8665\n",
      "Epoch 38: val_loss did not improve from 0.62402\n",
      "86/86 [==============================] - 2s 26ms/step - loss: 0.3138 - accuracy: 0.8665 - val_loss: 0.7367 - val_accuracy: 0.6332\n",
      "Epoch 39/50\n",
      "85/86 [============================>.] - ETA: 0s - loss: 0.3115 - accuracy: 0.8679\n",
      "Epoch 39: val_loss did not improve from 0.62402\n",
      "86/86 [==============================] - 2s 26ms/step - loss: 0.3120 - accuracy: 0.8673 - val_loss: 0.7380 - val_accuracy: 0.6335\n",
      "Epoch 40/50\n",
      "86/86 [==============================] - ETA: 0s - loss: 0.3103 - accuracy: 0.8680\n",
      "Epoch 40: val_loss did not improve from 0.62402\n",
      "86/86 [==============================] - 2s 26ms/step - loss: 0.3103 - accuracy: 0.8680 - val_loss: 0.7385 - val_accuracy: 0.6341\n",
      "Epoch 41/50\n",
      "85/86 [============================>.] - ETA: 0s - loss: 0.3081 - accuracy: 0.8693\n",
      "Epoch 41: val_loss did not improve from 0.62402\n",
      "86/86 [==============================] - 2s 26ms/step - loss: 0.3087 - accuracy: 0.8687 - val_loss: 0.7398 - val_accuracy: 0.6344\n",
      "Epoch 42/50\n",
      "85/86 [============================>.] - ETA: 0s - loss: 0.3065 - accuracy: 0.8699\n",
      "Epoch 42: val_loss did not improve from 0.62402\n",
      "86/86 [==============================] - 2s 27ms/step - loss: 0.3071 - accuracy: 0.8693 - val_loss: 0.7400 - val_accuracy: 0.6348\n",
      "Epoch 43/50\n",
      "84/86 [============================>.] - ETA: 0s - loss: 0.3038 - accuracy: 0.8714\n",
      "Epoch 43: val_loss did not improve from 0.62402\n",
      "86/86 [==============================] - 2s 26ms/step - loss: 0.3056 - accuracy: 0.8699 - val_loss: 0.7411 - val_accuracy: 0.6354\n",
      "Epoch 44/50\n",
      "84/86 [============================>.] - ETA: 0s - loss: 0.3023 - accuracy: 0.8719\n",
      "Epoch 44: val_loss did not improve from 0.62402\n",
      "86/86 [==============================] - 2s 26ms/step - loss: 0.3041 - accuracy: 0.8704 - val_loss: 0.7415 - val_accuracy: 0.6356\n",
      "Epoch 45/50\n",
      "86/86 [==============================] - ETA: 0s - loss: 0.3026 - accuracy: 0.8708\n",
      "Epoch 45: val_loss did not improve from 0.62402\n",
      "86/86 [==============================] - 2s 27ms/step - loss: 0.3026 - accuracy: 0.8708 - val_loss: 0.7423 - val_accuracy: 0.6358\n",
      "Epoch 46/50\n",
      "85/86 [============================>.] - ETA: 0s - loss: 0.3005 - accuracy: 0.8720\n",
      "Epoch 46: val_loss did not improve from 0.62402\n",
      "86/86 [==============================] - 2s 26ms/step - loss: 0.3012 - accuracy: 0.8714 - val_loss: 0.7429 - val_accuracy: 0.6363\n",
      "Epoch 47/50\n",
      "84/86 [============================>.] - ETA: 0s - loss: 0.2979 - accuracy: 0.8733\n",
      "Epoch 47: val_loss did not improve from 0.62402\n",
      "86/86 [==============================] - 2s 27ms/step - loss: 0.2998 - accuracy: 0.8718 - val_loss: 0.7438 - val_accuracy: 0.6368\n",
      "Epoch 48/50\n",
      "86/86 [==============================] - ETA: 0s - loss: 0.2984 - accuracy: 0.8724\n",
      "Epoch 48: val_loss did not improve from 0.62402\n",
      "86/86 [==============================] - 2s 27ms/step - loss: 0.2984 - accuracy: 0.8724 - val_loss: 0.7446 - val_accuracy: 0.6369\n",
      "Epoch 49/50\n",
      "86/86 [==============================] - ETA: 0s - loss: 0.2971 - accuracy: 0.8728\n",
      "Epoch 49: val_loss did not improve from 0.62402\n",
      "86/86 [==============================] - 2s 27ms/step - loss: 0.2971 - accuracy: 0.8728 - val_loss: 0.7453 - val_accuracy: 0.6374\n",
      "Epoch 50/50\n",
      "86/86 [==============================] - ETA: 0s - loss: 0.2959 - accuracy: 0.8734\n",
      "Epoch 50: val_loss did not improve from 0.62402\n",
      "86/86 [==============================] - 2s 27ms/step - loss: 0.2959 - accuracy: 0.8734 - val_loss: 0.7459 - val_accuracy: 0.6380\n"
     ]
    }
   ],
   "source": [
    "from tensorflow.keras.callbacks import ModelCheckpoint\n",
    "\n",
    "# Utility for running experiments.\n",
    "filepath = \"../Modelos/tmp/video_classifier/ckptatt_binary.weights.h5\"\n",
    "\n",
    "def run_experiment():\n",
    "    checkpoint = ModelCheckpoint(\n",
    "        filepath, save_weights_only=True, save_best_only=True, verbose=1\n",
    "    )\n",
    "\n",
    "    seq_model = get_sequence_model_att()\n",
    "    history = seq_model.fit(\n",
    "        train_ds_batch,\n",
    "        validation_data=validation_ds_batch,\n",
    "        epochs=EPOCHS,\n",
    "        batch_size=BATCH_SIZE,\n",
    "        callbacks=[checkpoint],\n",
    "    )\n",
    "\n",
    "    #seq_model.load_weights(filepath)\n",
    "    #_, accuracy = seq_model.evaluate(validation_ds)\n",
    "    #print(f\"Test accuracy: {round(accuracy * 100, 2)}%\")\n",
    "\n",
    "    return history, seq_model\n",
    "\n",
    "\n",
    "history, sequence_model = run_experiment()"
   ]
  },
  {
   "cell_type": "code",
   "execution_count": 64,
   "id": "76340f55-f7ed-4d84-9955-ca6e29a6f1d8",
   "metadata": {
    "tags": []
   },
   "outputs": [],
   "source": [
    "#sequence_model.save(f'../Modelos/cotatest_rnn_att_v2_{MAX_SEQ_LENGTH}_binary.keras')"
   ]
  },
  {
   "cell_type": "markdown",
   "id": "09928947-ba1d-4609-abad-6781c49c878c",
   "metadata": {},
   "source": [
    "# Metircs"
   ]
  },
  {
   "cell_type": "code",
   "execution_count": 27,
   "id": "013d0e87-3767-4378-9c4e-64d387d71693",
   "metadata": {
    "tags": []
   },
   "outputs": [
    {
     "name": "stdout",
     "output_type": "stream",
     "text": [
      "7/7 [==============================] - 0s 43ms/step - loss: 1.0133 - accuracy: 0.6178\n",
      "Test accuracy: 61.78%\n"
     ]
    }
   ],
   "source": [
    "_, accuracy = sequence_model.evaluate(validation_ds_batch)\n",
    "print(f\"Test accuracy: {round(accuracy * 100, 2)}%\")"
   ]
  },
  {
   "cell_type": "code",
   "execution_count": 39,
   "id": "c57e3fb2-76b5-47e4-82c0-2782e1062bef",
   "metadata": {
    "tags": []
   },
   "outputs": [
    {
     "name": "stdout",
     "output_type": "stream",
     "text": [
      " 1/16 [>.............................] - ETA: 14s"
     ]
    },
    {
     "name": "stderr",
     "output_type": "stream",
     "text": [
      "W0000 00:00:1719506941.794394  693453 op_level_cost_estimator.cc:699] Error in PredictCost() for the op: op: \"Softmax\" attr { key: \"T\" value { type: DT_FLOAT } } inputs { dtype: DT_FLOAT shape { unknown_rank: true } } device { type: \"GPU\" vendor: \"NVIDIA\" model: \"NVIDIA A100-SXM4-40GB\" frequency: 1410 num_cores: 108 environment { key: \"architecture\" value: \"8.0\" } environment { key: \"cuda\" value: \"12020\" } environment { key: \"cudnn\" value: \"8904\" } num_registers: 65536 l1_cache_size: 24576 l2_cache_size: 41943040 shared_memory_size_per_multiprocessor: 167936 memory_size: 40052523008 bandwidth: 1555200000 } outputs { dtype: DT_FLOAT shape { unknown_rank: true } }\n"
     ]
    },
    {
     "name": "stdout",
     "output_type": "stream",
     "text": [
      "16/16 [==============================] - 1s 3ms/step\n",
      "(5120, 2) (5120, 2)\n",
      "16/16 [==============================] - 0s 3ms/step\n",
      "(5120, 2) (5120, 2)\n",
      "16/16 [==============================] - 0s 3ms/step\n",
      "(5120, 2) (5120, 2)\n",
      "16/16 [==============================] - 0s 3ms/step\n",
      "(5120, 2) (5120, 2)\n",
      "16/16 [==============================] - 0s 3ms/step\n",
      "(5120, 2) (5120, 2)\n",
      "16/16 [==============================] - 0s 3ms/step\n",
      "(5120, 2) (5120, 2)\n",
      "16/16 [==============================] - 0s 3ms/step\n",
      "(5120, 2) (5120, 2)\n",
      "16/16 [==============================] - 0s 3ms/step\n",
      "(5120, 2) (5120, 2)\n",
      "16/16 [==============================] - 0s 3ms/step\n",
      "(5120, 2) (5120, 2)\n",
      "16/16 [==============================] - 0s 3ms/step\n",
      "(5120, 2) (5120, 2)\n",
      "16/16 [==============================] - 0s 3ms/step\n",
      "(5120, 2) (5120, 2)\n",
      "16/16 [==============================] - 0s 3ms/step\n",
      "(5120, 2) (5120, 2)\n",
      "16/16 [==============================] - 0s 3ms/step\n",
      "(5120, 2) (5120, 2)\n",
      "16/16 [==============================] - 0s 3ms/step\n",
      "(5120, 2) (5120, 2)\n",
      "16/16 [==============================] - 0s 3ms/step\n",
      "(5120, 2) (5120, 2)\n",
      "16/16 [==============================] - 0s 3ms/step\n",
      "(5120, 2) (5120, 2)\n",
      "16/16 [==============================] - 0s 3ms/step\n",
      "(5120, 2) (5120, 2)\n",
      "16/16 [==============================] - 0s 3ms/step\n",
      "(5120, 2) (5120, 2)\n",
      "16/16 [==============================] - 0s 3ms/step\n",
      "(5120, 2) (5120, 2)\n",
      "16/16 [==============================] - 0s 3ms/step\n",
      "(5120, 2) (5120, 2)\n",
      "16/16 [==============================] - 0s 3ms/step\n",
      "(5120, 2) (5120, 2)\n",
      "16/16 [==============================] - 0s 3ms/step\n",
      "(5120, 2) (5120, 2)\n",
      "16/16 [==============================] - 0s 3ms/step\n",
      "(5120, 2) (5120, 2)\n",
      "16/16 [==============================] - 0s 3ms/step\n",
      "(5120, 2) (5120, 2)\n",
      "16/16 [==============================] - 0s 3ms/step\n",
      "(5120, 2) (5120, 2)\n",
      "16/16 [==============================] - 0s 3ms/step\n",
      "(5120, 2) (5120, 2)\n",
      "16/16 [==============================] - 0s 4ms/step\n",
      "(5120, 2) (5120, 2)\n",
      "16/16 [==============================] - 0s 3ms/step\n",
      "(5120, 2) (5120, 2)\n",
      "16/16 [==============================] - 0s 3ms/step\n",
      "(5120, 2) (5120, 2)\n",
      "16/16 [==============================] - 0s 3ms/step\n",
      "(5120, 2) (5120, 2)\n",
      "16/16 [==============================] - 0s 3ms/step\n",
      "(5120, 2) (5120, 2)\n",
      "16/16 [==============================] - 0s 3ms/step\n",
      "(5120, 2) (5120, 2)\n",
      "16/16 [==============================] - 0s 3ms/step\n",
      "(5120, 2) (5120, 2)\n",
      "16/16 [==============================] - 0s 3ms/step\n",
      "(5120, 2) (5120, 2)\n"
     ]
    },
    {
     "name": "stderr",
     "output_type": "stream",
     "text": [
      "W0000 00:00:1719506948.551319  693453 op_level_cost_estimator.cc:699] Error in PredictCost() for the op: op: \"Softmax\" attr { key: \"T\" value { type: DT_FLOAT } } inputs { dtype: DT_FLOAT shape { unknown_rank: true } } device { type: \"GPU\" vendor: \"NVIDIA\" model: \"NVIDIA A100-SXM4-40GB\" frequency: 1410 num_cores: 108 environment { key: \"architecture\" value: \"8.0\" } environment { key: \"cuda\" value: \"12020\" } environment { key: \"cudnn\" value: \"8904\" } num_registers: 65536 l1_cache_size: 24576 l2_cache_size: 41943040 shared_memory_size_per_multiprocessor: 167936 memory_size: 40052523008 bandwidth: 1555200000 } outputs { dtype: DT_FLOAT shape { unknown_rank: true } }\n"
     ]
    },
    {
     "name": "stdout",
     "output_type": "stream",
     "text": [
      "16/16 [==============================] - 1s 3ms/step\n",
      "(5010, 2) (5010, 2)\n",
      "Precision for class 0: 0.4422\n",
      "Precision for class 1: 0.7218\n"
     ]
    }
   ],
   "source": [
    "# Preparar métricas de precisión para cada clase\n",
    "precision_0 = tf.keras.metrics.Precision()\n",
    "precision_1 = tf.keras.metrics.Precision()\n",
    "\n",
    "# Iterar sobre el dataset de prueba por lotes\n",
    "for x_batch, y_batch in validation_ds_batch:\n",
    "    # Predecir las etiquetas en el lote\n",
    "    y_pred = sequence_model.predict(x_batch)\n",
    "    \n",
    "    y_batch = np.reshape(y_batch, (-1, y_batch.shape[-1]))\n",
    "    y_pred = np.reshape(y_pred, (-1, y_batch.shape[-1]))\n",
    "    print(y_batch.shape, y_pred.shape)\n",
    "    \n",
    "    valid_indices = np.where(np.all(y_batch != -1, axis=1))\n",
    "    y_batch = y_batch[valid_indices]\n",
    "    y_pred = y_pred[valid_indices]\n",
    "\n",
    "    y_pred_classes = tf.argmax(y_pred, axis=1)\n",
    "    y_true_classes = tf.argmax(y_batch, axis=1)\n",
    "    \n",
    "    # Actualizar la precisión para cada clase\n",
    "    precision_0.update_state(tf.cast(y_true_classes == 0, tf.int32), tf.cast(y_pred_classes == 0, tf.int32))\n",
    "    precision_1.update_state(tf.cast(y_true_classes == 1, tf.int32), tf.cast(y_pred_classes == 1, tf.int32))\n",
    "\n",
    "# Obtener y mostrar los resultados\n",
    "print(f'Precision for class 0: {precision_0.result().numpy():.4f}')\n",
    "print(f'Precision for class 1: {precision_1.result().numpy():.4f}')"
   ]
  },
  {
   "cell_type": "code",
   "execution_count": 28,
   "id": "f4fa544f-8027-4a06-9c83-b1e0f8ecfc62",
   "metadata": {
    "tags": []
   },
   "outputs": [],
   "source": [
    "#history.history"
   ]
  },
  {
   "cell_type": "code",
   "execution_count": 40,
   "id": "56114b89-a7c1-4697-b51d-946dc04134af",
   "metadata": {
    "tags": []
   },
   "outputs": [
    {
     "name": "stdout",
     "output_type": "stream",
     "text": [
      "Accuray -> Train: 0.8734 - Val: 0.6380\n"
     ]
    },
    {
     "data": {
      "image/png": "[encoded data removed]",
      "text/plain": [
       "<Figure size 640x480 with 1 Axes>"
      ]
     },
     "metadata": {},
     "output_type": "display_data"
    },
    {
     "data": {
      "image/png": "[encoded data removed]",
      "text/plain": [
       "<Figure size 640x480 with 1 Axes>"
      ]
     },
     "metadata": {},
     "output_type": "display_data"
    }
   ],
   "source": [
    "# Obtener métricas de entrenamiento\n",
    "train_acc = history.history['accuracy']\n",
    "val_acc = history.history['val_accuracy']\n",
    "train_loss = history.history['loss']\n",
    "val_loss = history.history['val_loss']\n",
    "\n",
    "print(f\"Accuray -> Train: {train_acc[-1]:.4f} - Val: {val_acc[-1]:.4f}\")\n",
    "\n",
    "# Graficar precisión\n",
    "plt.plot(train_acc, label='Training Accuracy')\n",
    "plt.plot(val_acc, label='Validation Accuracy')\n",
    "plt.title('Training and Validation Accuracy')\n",
    "plt.xlabel('Epoch')\n",
    "plt.ylabel('Accuracy')\n",
    "plt.legend()\n",
    "plt.show()\n",
    "\n",
    "# Graficar pérdida\n",
    "plt.plot(train_loss, label='Training Loss')\n",
    "plt.plot(val_loss, label='Validation Loss')\n",
    "plt.title('Training and Validation Loss')\n",
    "plt.xlabel('Epoch')\n",
    "plt.ylabel('Loss')\n",
    "plt.legend()\n",
    "plt.show()"
   ]
  },
  {
   "cell_type": "code",
   "execution_count": 30,
   "id": "8dd29b4b-f3e1-45c1-994e-d5414369c8d1",
   "metadata": {
    "tags": []
   },
   "outputs": [
    {
     "name": "stderr",
     "output_type": "stream",
     "text": [
      "W0000 00:00:1718748480.909913 1554383 op_level_cost_estimator.cc:699] Error in PredictCost() for the op: op: \"Softmax\" attr { key: \"T\" value { type: DT_FLOAT } } inputs { dtype: DT_FLOAT shape { unknown_rank: true } } device { type: \"GPU\" vendor: \"NVIDIA\" model: \"NVIDIA A100-SXM4-40GB\" frequency: 1410 num_cores: 108 environment { key: \"architecture\" value: \"8.0\" } environment { key: \"cuda\" value: \"12020\" } environment { key: \"cudnn\" value: \"8904\" } num_registers: 65536 l1_cache_size: 24576 l2_cache_size: 41943040 shared_memory_size_per_multiprocessor: 167936 memory_size: 40052523008 bandwidth: 1555200000 } outputs { dtype: DT_FLOAT shape { unknown_rank: true } }\n"
     ]
    },
    {
     "name": "stdout",
     "output_type": "stream",
     "text": [
      "7/7 [==============================] - 1s 42ms/step\n",
      "(3344, 60, 2)\n"
     ]
    }
   ],
   "source": [
    "predictions = sequence_model.predict(validation_ds_batch)\n",
    "print(predictions.shape)"
   ]
  },
  {
   "cell_type": "code",
   "execution_count": 31,
   "id": "f226b7ef-809c-4f05-ad26-c7830e4e3bd7",
   "metadata": {
    "tags": []
   },
   "outputs": [
    {
     "data": {
      "text/plain": [
       "<_TensorSliceDataset element_spec=((TensorSpec(shape=(60, 1024), dtype=tf.float32, name=None), TensorSpec(shape=(60,), dtype=tf.bool, name=None)), TensorSpec(shape=(60, 2), dtype=tf.float32, name=None))>"
      ]
     },
     "execution_count": 31,
     "metadata": {},
     "output_type": "execute_result"
    }
   ],
   "source": [
    "validation_ds"
   ]
  },
  {
   "cell_type": "code",
   "execution_count": 32,
   "id": "4b47f14b-5e49-4839-a162-7977cd4eed16",
   "metadata": {
    "tags": []
   },
   "outputs": [
    {
     "name": "stdout",
     "output_type": "stream",
     "text": [
      "(200640, 2)\n"
     ]
    }
   ],
   "source": [
    "validation_labels = np.concatenate([labels for train_data, labels in validation_ds])\n",
    "print(validation_labels.shape)"
   ]
  },
  {
   "cell_type": "code",
   "execution_count": 33,
   "id": "e347234d-515c-40a6-8734-e3557074f850",
   "metadata": {
    "tags": []
   },
   "outputs": [],
   "source": [
    "#indices = [i for i, arr in enumerate(validation_labels) if any(subarr[3] == 1 for subarr in arr)]\n",
    "#validation_labels[indices][0]"
   ]
  },
  {
   "cell_type": "code",
   "execution_count": 34,
   "id": "c4cc9283-fca5-4733-b077-b9f2ee117545",
   "metadata": {
    "tags": []
   },
   "outputs": [],
   "source": [
    "#predictions[indices][0]"
   ]
  },
  {
   "cell_type": "code",
   "execution_count": 35,
   "id": "4a9732c3-4d93-4b11-bb8c-37ba33676404",
   "metadata": {
    "tags": []
   },
   "outputs": [
    {
     "name": "stdout",
     "output_type": "stream",
     "text": [
      "(173147, 2)\n",
      "(173147, 2)\n"
     ]
    }
   ],
   "source": [
    "y_true = np.reshape(validation_labels, (-1, validation_labels.shape[-1]))\n",
    "y_pred = np.reshape(predictions, (-1, predictions.shape[-1]))\n",
    "\n",
    "# Eliminar las filas con -1 en y_true\n",
    "valid_indices = np.where(np.all(y_true != -1, axis=1))\n",
    "y_true = y_true[valid_indices]\n",
    "y_pred = y_pred[valid_indices]\n",
    "                    \n",
    "print(y_true.shape)\n",
    "print(y_pred.shape)"
   ]
  },
  {
   "cell_type": "code",
   "execution_count": 36,
   "id": "4f5ff592-b068-4b0a-aef8-5992329c7d19",
   "metadata": {
    "tags": []
   },
   "outputs": [
    {
     "data": {
      "text/plain": [
       "(array([     0,      1,      2, ..., 173144, 173145, 173146]),\n",
       " array([0, 0, 0, ..., 0, 0, 0]))"
      ]
     },
     "execution_count": 36,
     "metadata": {},
     "output_type": "execute_result"
    }
   ],
   "source": [
    "np.where(y_true == 0)"
   ]
  },
  {
   "cell_type": "code",
   "execution_count": 37,
   "id": "d04a97bb-ba9d-4e10-9ae5-c717c3aba4e2",
   "metadata": {
    "tags": []
   },
   "outputs": [
    {
     "data": {
      "text/plain": [
       "array([0.0232604, 0.9767396], dtype=float32)"
      ]
     },
     "execution_count": 37,
     "metadata": {},
     "output_type": "execute_result"
    }
   ],
   "source": [
    "y_pred[0]"
   ]
  },
  {
   "cell_type": "code",
   "execution_count": 38,
   "id": "38d79c4b-bcae-4525-85a0-9338433701f7",
   "metadata": {
    "tags": []
   },
   "outputs": [
    {
     "data": {
      "text/plain": [
       "array([0, 1])"
      ]
     },
     "execution_count": 38,
     "metadata": {},
     "output_type": "execute_result"
    }
   ],
   "source": [
    "binary_pred = (y_pred > 0.5).astype(int)\n",
    "\n",
    "binary_pred[0]"
   ]
  },
  {
   "cell_type": "code",
   "execution_count": 39,
   "id": "6ae03aba-bea9-4d07-89af-1e7b7a9b6002",
   "metadata": {
    "tags": []
   },
   "outputs": [
    {
     "data": {
      "text/plain": [
       "array([0, 1])"
      ]
     },
     "execution_count": 39,
     "metadata": {},
     "output_type": "execute_result"
    }
   ],
   "source": [
    "np.unique(binary_pred)"
   ]
  },
  {
   "cell_type": "code",
   "execution_count": 62,
   "id": "a5018ee0-7e3a-47f6-82c8-8140afcdee91",
   "metadata": {
    "tags": []
   },
   "outputs": [
    {
     "name": "stdout",
     "output_type": "stream",
     "text": [
      "Precisión: 0.61775833\n"
     ]
    }
   ],
   "source": [
    "# Calcular la precisión\n",
    "precision = tf.keras.metrics.Precision()\n",
    "precision.update_state(y_true, binary_pred)\n",
    "precision_result = precision.result().numpy()\n",
    "\n",
    "print(\"Precisión:\", precision_result)"
   ]
  },
  {
   "cell_type": "code",
   "execution_count": 44,
   "id": "b41d556f-7abd-4aed-86df-90a409e150d8",
   "metadata": {
    "tags": []
   },
   "outputs": [
    {
     "name": "stdout",
     "output_type": "stream",
     "text": [
      "Recall: 0.77382964\n"
     ]
    }
   ],
   "source": [
    "# Calcular el recall\n",
    "recall = tf.keras.metrics.Recall()\n",
    "recall.update_state(y_true, binary_pred)\n",
    "recall_result = recall.result().numpy()\n",
    "\n",
    "print(\"Recall:\", recall_result)"
   ]
  },
  {
   "cell_type": "code",
   "execution_count": null,
   "id": "f292642d-fd00-4807-941f-40bbe6a5d4e6",
   "metadata": {},
   "outputs": [],
   "source": []
  },
  {
   "cell_type": "code",
   "execution_count": 45,
   "id": "a7230e73-832c-4f18-a477-34cfac062e97",
   "metadata": {
    "tags": []
   },
   "outputs": [
    {
     "name": "stdout",
     "output_type": "stream",
     "text": [
      "F1-score [0.7567048]\n"
     ]
    }
   ],
   "source": [
    "# Calcular el F1-score\n",
    "f1_score = tf.keras.metrics.F1Score()\n",
    "f1_score.update_state(y_true, binary_pred)\n",
    "f1_score_result = f1_score.result().numpy()\n",
    "\n",
    "print(f\"F1-score {f1_score_result}\")"
   ]
  },
  {
   "cell_type": "code",
   "execution_count": 63,
   "id": "749e9e6f-3fb8-4ceb-9274-d4cbacfff17a",
   "metadata": {
    "tags": []
   },
   "outputs": [
    {
     "name": "stdout",
     "output_type": "stream",
     "text": [
      "F1-score: 0.57015425\n"
     ]
    }
   ],
   "source": [
    "# Calcular el F1-score\n",
    "f1_score = tf.keras.metrics.F1Score(average='macro')\n",
    "f1_score.update_state(y_true, binary_pred)\n",
    "f1_score_result = f1_score.result().numpy()\n",
    "\n",
    "print(\"F1-score:\", f1_score_result)"
   ]
  },
  {
   "cell_type": "markdown",
   "id": "9cb338f5-70a6-465e-b7a3-5679c360533b",
   "metadata": {},
   "source": [
    "### Calculando con for loop"
   ]
  },
  {
   "cell_type": "code",
   "execution_count": 41,
   "id": "085e7c15-6e6b-47f5-ba0e-fa54f4ca72b8",
   "metadata": {},
   "outputs": [
    {
     "name": "stdout",
     "output_type": "stream",
     "text": [
      "16/16 [==============================] - 0s 3ms/step\n",
      "16/16 [==============================] - 0s 3ms/step\n",
      "16/16 [==============================] - 0s 3ms/step\n",
      "16/16 [==============================] - 0s 3ms/step\n",
      "16/16 [==============================] - 0s 3ms/step\n",
      "16/16 [==============================] - 0s 3ms/step\n",
      "16/16 [==============================] - 0s 3ms/step\n",
      "16/16 [==============================] - 0s 3ms/step\n",
      "16/16 [==============================] - 0s 3ms/step\n",
      "16/16 [==============================] - 0s 3ms/step\n",
      "16/16 [==============================] - 0s 3ms/step\n",
      "16/16 [==============================] - 0s 3ms/step\n",
      "16/16 [==============================] - 0s 3ms/step\n",
      "16/16 [==============================] - 0s 3ms/step\n",
      "16/16 [==============================] - 0s 3ms/step\n",
      "16/16 [==============================] - 0s 3ms/step\n",
      "16/16 [==============================] - 0s 3ms/step\n",
      "16/16 [==============================] - 0s 3ms/step\n",
      "16/16 [==============================] - 0s 3ms/step\n",
      "16/16 [==============================] - 0s 3ms/step\n",
      "16/16 [==============================] - 0s 3ms/step\n",
      "16/16 [==============================] - 0s 3ms/step\n",
      "16/16 [==============================] - 0s 3ms/step\n",
      "16/16 [==============================] - 0s 3ms/step\n",
      "16/16 [==============================] - 0s 3ms/step\n",
      "16/16 [==============================] - 0s 3ms/step\n",
      "16/16 [==============================] - 0s 4ms/step\n",
      "16/16 [==============================] - 0s 3ms/step\n",
      "16/16 [==============================] - 0s 3ms/step\n",
      "16/16 [==============================] - 0s 3ms/step\n",
      "16/16 [==============================] - 0s 3ms/step\n",
      "16/16 [==============================] - 0s 3ms/step\n",
      "16/16 [==============================] - 0s 3ms/step\n",
      "16/16 [==============================] - 0s 3ms/step\n",
      "16/16 [==============================] - 0s 3ms/step\n"
     ]
    }
   ],
   "source": [
    "# Hacer predicciones en los datos de validación en lotes\n",
    "predictions = []\n",
    "true_labels = []\n",
    "\n",
    "for seq_images, labels in validation_ds_batch:\n",
    "    batch_predictions = sequence_model.predict(seq_images)\n",
    "    predictions.extend(batch_predictions)\n",
    "    true_labels.extend(labels)\n",
    "    \n",
    "predictions = tf.convert_to_tensor(predictions)\n",
    "true_labels = tf.convert_to_tensor(true_labels)"
   ]
  },
  {
   "cell_type": "code",
   "execution_count": 42,
   "id": "bfc6695d-6c62-4a2b-b8f5-79d1f474e699",
   "metadata": {
    "tags": []
   },
   "outputs": [],
   "source": [
    "_y_true = np.reshape(true_labels, (-1, true_labels.shape[-1]))\n",
    "_y_pred = np.reshape(predictions, (-1, predictions.shape[-1]))"
   ]
  },
  {
   "cell_type": "code",
   "execution_count": 43,
   "id": "e010b135-9f78-4dd6-b568-9fa91367f887",
   "metadata": {
    "tags": []
   },
   "outputs": [],
   "source": [
    "valid_indices = np.where(np.all(_y_true != -1, axis=1))\n",
    "_y_true = _y_true[valid_indices]\n",
    "_y_pred = _y_pred[valid_indices]"
   ]
  },
  {
   "cell_type": "code",
   "execution_count": 64,
   "id": "9f49983c-4e7e-4a31-9abd-ea26155f3a51",
   "metadata": {
    "tags": []
   },
   "outputs": [
    {
     "data": {
      "text/plain": [
       "array([[0., 1.],\n",
       "       [0., 1.],\n",
       "       [0., 1.],\n",
       "       ...,\n",
       "       [0., 1.],\n",
       "       [0., 1.],\n",
       "       [0., 1.]], dtype=float32)"
      ]
     },
     "execution_count": 64,
     "metadata": {},
     "output_type": "execute_result"
    }
   ],
   "source": [
    "_y_true"
   ]
  },
  {
   "cell_type": "code",
   "execution_count": 65,
   "id": "94237fe1-2486-4b07-933f-707f3b1c95aa",
   "metadata": {
    "tags": []
   },
   "outputs": [
    {
     "name": "stdout",
     "output_type": "stream",
     "text": [
      "Precision for class 0: 0.4048\n",
      "Precision for class 1: 0.7515\n"
     ]
    }
   ],
   "source": [
    "precision_0 = tf.keras.metrics.Precision()\n",
    "precision_1 = tf.keras.metrics.Precision()\n",
    "precision_0.update_state(_y_true[[x[0] == 1 for x in _y_true]], _y_pred[[x[0] == 1 for x in _y_true]])\n",
    "precision_1.update_state(_y_true[[x[1] == 1 for x in _y_true]], _y_pred[[x[1] == 1 for x in _y_true]])\n",
    "print(f'Precision for class 0: {precision_0.result().numpy():.4f}')\n",
    "print(f'Precision for class 1: {precision_1.result().numpy():.4f}')"
   ]
  },
  {
   "cell_type": "code",
   "execution_count": null,
   "id": "5890f5e9-27d6-43a4-81f5-22274ed07b62",
   "metadata": {},
   "outputs": [],
   "source": []
  },
  {
   "cell_type": "markdown",
   "id": "b725b597-b451-450e-8d5d-325870ae339c",
   "metadata": {},
   "source": [
    "# Test model"
   ]
  },
  {
   "cell_type": "code",
   "execution_count": null,
   "id": "66664543-2f52-4663-b016-c7c3dadc151c",
   "metadata": {},
   "outputs": [],
   "source": [
    "seq_model = get_sequence_model()\n",
    "seq_model.load_weights(filepath)"
   ]
  },
  {
   "cell_type": "code",
   "execution_count": null,
   "id": "0c39082e-a0ee-4d84-a147-da334d365da7",
   "metadata": {
    "tags": []
   },
   "outputs": [],
   "source": [
    "for train_data, labels in validation_ds.take(1):\n",
    "    print(train_data[0].shape)\n",
    "    print(train_data[1].shape)\n",
    "    print(labels.shape)\n",
    "    break"
   ]
  },
  {
   "cell_type": "code",
   "execution_count": null,
   "id": "9577a75f-1ae2-4aa3-91de-ff80302ef449",
   "metadata": {
    "tags": []
   },
   "outputs": [],
   "source": [
    "result = seq_model.predict(validation_ds.take(1))"
   ]
  },
  {
   "cell_type": "code",
   "execution_count": null,
   "id": "6a437a00-2f89-4bec-86b7-b4fdecbbe9dd",
   "metadata": {},
   "outputs": [],
   "source": [
    "result.shape"
   ]
  },
  {
   "cell_type": "code",
   "execution_count": null,
   "id": "29366e4e-dd4d-408c-8fa3-f54cf7a8ef72",
   "metadata": {},
   "outputs": [],
   "source": [
    "_, accuracy = seq_model.evaluate(validation_ds)\n",
    "print(f\"Test accuracy: {round(accuracy * 100, 2)}%\")"
   ]
  },
  {
   "cell_type": "code",
   "execution_count": null,
   "id": "8cfaaf6d-e3b5-459a-9367-cfe87ae6356d",
   "metadata": {},
   "outputs": [],
   "source": [
    "seq_model.save('../Modelos/cotatest_rnn.keras')"
   ]
  },
  {
   "cell_type": "code",
   "execution_count": null,
   "id": "69c9921e-8615-4e9a-a341-2c24a41f4582",
   "metadata": {},
   "outputs": [],
   "source": []
  },
  {
   "cell_type": "code",
   "execution_count": null,
   "id": "544e83ff-391e-4459-8f17-04eb8fb37afb",
   "metadata": {},
   "outputs": [],
   "source": []
  },
  {
   "cell_type": "code",
   "execution_count": null,
   "id": "e3ccb325-2590-4f2b-8353-9672fa176501",
   "metadata": {
    "tags": []
   },
   "outputs": [],
   "source": [
    "new_dataset = tf.data.Dataset.load(f\"../datasets/processed/rnn_val_{MAX_SEQ_LENGTH}\")\n",
    "new_dataset"
   ]
  },
  {
   "cell_type": "code",
   "execution_count": null,
   "id": "370d13b0-3f70-4084-a3dd-40c73c55ecaf",
   "metadata": {},
   "outputs": [],
   "source": []
  }
 ],
 "metadata": {
  "environment": {
   "kernel": "python3",
   "name": "common-gpu.m116",
   "type": "gcloud",
   "uri": "gcr.io/deeplearning-platform-release/base-gpu:m116"
  },
  "kernelspec": {
   "display_name": "Python 3 (Local)",
   "language": "python",
   "name": "python3"
  },
  "language_info": {
   "codemirror_mode": {
    "name": "ipython",
    "version": 3
   },
   "file_extension": ".py",
   "mimetype": "text/x-python",
   "name": "python",
   "nbconvert_exporter": "python",
   "pygments_lexer": "ipython3",
   "version": "3.10.13"
  }
 },
 "nbformat": 4,
 "nbformat_minor": 5
}
