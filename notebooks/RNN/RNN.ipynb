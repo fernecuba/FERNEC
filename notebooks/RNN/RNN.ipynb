{
 "cells": [
  {
   "cell_type": "code",
   "execution_count": 1,
   "id": "2312298d-d3dd-46e7-b49b-7d6d4fe08902",
   "metadata": {
    "tags": []
   },
   "outputs": [
    {
     "name": "stderr",
     "output_type": "stream",
     "text": [
      "2024-06-27 14:21:27.799991: I tensorflow/core/util/port.cc:113] oneDNN custom operations are on. You may see slightly different numerical results due to floating-point round-off errors from different computation orders. To turn them off, set the environment variable `TF_ENABLE_ONEDNN_OPTS=0`.\n",
      "2024-06-27 14:21:27.851130: E external/local_xla/xla/stream_executor/cuda/cuda_dnn.cc:9261] Unable to register cuDNN factory: Attempting to register factory for plugin cuDNN when one has already been registered\n",
      "2024-06-27 14:21:27.851168: E external/local_xla/xla/stream_executor/cuda/cuda_fft.cc:607] Unable to register cuFFT factory: Attempting to register factory for plugin cuFFT when one has already been registered\n",
      "2024-06-27 14:21:27.852698: E external/local_xla/xla/stream_executor/cuda/cuda_blas.cc:1515] Unable to register cuBLAS factory: Attempting to register factory for plugin cuBLAS when one has already been registered\n",
      "2024-06-27 14:21:27.861876: I tensorflow/core/platform/cpu_feature_guard.cc:182] This TensorFlow binary is optimized to use available CPU instructions in performance-critical operations.\n",
      "To enable the following instructions: AVX2 AVX512F AVX512_VNNI FMA, in other operations, rebuild TensorFlow with the appropriate compiler flags.\n"
     ]
    }
   ],
   "source": [
    "import cv2\n",
    "import os\n",
    "import time\n",
    "import pandas as pd\n",
    "import numpy as np\n",
    "import math\n",
    "import random\n",
    "import matplotlib.pyplot as plt\n",
    "import keras\n",
    "import tensorflow as tf\n",
    "from tensorflow.keras.layers import Dense, LSTM, Dropout, GRU, Flatten, ConvLSTM2D, Reshape, BatchNormalization, Input, TimeDistributed, AdditiveAttention\n",
    "from tensorflow.keras.models import load_model, Model\n",
    "from seq_generator_v2 import FrameGeneratorAffWildPoolV2\n",
    "from seq_generator_v3 import FrameGeneratorAffWildPoolV3"
   ]
  },
  {
   "cell_type": "markdown",
   "id": "23549c8f-9739-4dc5-844e-e619693992d5",
   "metadata": {},
   "source": [
    "# Constants"
   ]
  },
  {
   "cell_type": "code",
   "execution_count": 2,
   "id": "28b2f827-bcca-4478-b28e-07fce4a0195d",
   "metadata": {
    "tags": []
   },
   "outputs": [],
   "source": [
    "ruta_labels_train = '/home/jupyter/tpp/datasets/unprocessed/affwild_labels/EXPR_Classification_Challenge/Train_Set'\n",
    "ruta_labels_validation = '/home/jupyter/tpp/datasets/unprocessed/affwild_labels/EXPR_Classification_Challenge/Validation_Set'\n",
    "ruta_imagenes = '/home/jupyter/tpp/datasets/unprocessed/cropped_aligned'\n",
    "videos_train = ['325', '326', '327']\n",
    "videos_validation = ['121-24-1920x1080']#['135', '136']"
   ]
  },
  {
   "cell_type": "code",
   "execution_count": 3,
   "id": "89e3976d-fb98-4831-8aa4-ade6229c835e",
   "metadata": {
    "tags": []
   },
   "outputs": [],
   "source": [
    "emociones = ['Neutral', 'Anger', 'Disgust', 'Fear', 'Happiness', 'Sadness', 'Surprise']\n",
    "IMG_SIZE = 112\n",
    "IMG_CHANNELS = 3\n",
    "MAX_SEQ_LENGTH = 10\n",
    "NUM_FEATURES = 1024\n",
    "EPOCHS = 50\n",
    "BATCH_SIZE= 512\n",
    "DILATION = 6"
   ]
  },
  {
   "cell_type": "markdown",
   "id": "05aa6c1f-5054-4d84-81b3-16ccb35ecd61",
   "metadata": {
    "tags": []
   },
   "source": [
    "# Load CNN model"
   ]
  },
  {
   "cell_type": "code",
   "execution_count": 4,
   "id": "f1eda0c2-1cbb-43d6-90ad-6d4559866677",
   "metadata": {
    "tags": []
   },
   "outputs": [],
   "source": [
    "from keras.models import model_from_json, Sequential, load_model\n",
    "from keras.src.saving import serialization_lib\n",
    "\n",
    "\n",
    "serialization_lib.enable_unsafe_deserialization()\n",
    "\n",
    "MODELS_PATH = \"../Modelos/\"\n",
    "cnn_model_name = \"vgg16_cota_112.keras\""
   ]
  },
  {
   "cell_type": "code",
   "execution_count": 5,
   "id": "c4493942-07cb-4111-bc85-41665f6d1de4",
   "metadata": {
    "tags": []
   },
   "outputs": [],
   "source": [
    "def load_modal_json():\n",
    "    with open(MODELS_PATH + cnn_model_name + '.json','r') as f:\n",
    "        json = f.read()\n",
    "    cnn_model = model_from_json(json)\n",
    "\n",
    "    cnn_model.load_weights(MODELS_PATH + cnn_model_name + '.h5')\n",
    "    print(f\"Loaded model {cnn_model_name} from disk\")\n",
    "    return cnn_model"
   ]
  },
  {
   "cell_type": "code",
   "execution_count": 6,
   "id": "79905666-c494-41e9-adbb-e970cc7641a2",
   "metadata": {
    "tags": []
   },
   "outputs": [],
   "source": [
    "def load_model_keras():\n",
    "    model = load_model(MODELS_PATH + cnn_model_name)\n",
    "    return model"
   ]
  },
  {
   "cell_type": "code",
   "execution_count": 7,
   "id": "98ddb86c-b8eb-43e2-abc5-4e1e87b0f7b7",
   "metadata": {
    "tags": []
   },
   "outputs": [
    {
     "name": "stderr",
     "output_type": "stream",
     "text": [
      "2024-06-27 14:21:36.990903: I tensorflow/core/common_runtime/gpu/gpu_device.cc:1929] Created device /job:localhost/replica:0/task:0/device:GPU:0 with 38197 MB memory:  -> device: 0, name: NVIDIA A100-SXM4-40GB, pci bus id: 0000:00:04.0, compute capability: 8.0\n"
     ]
    }
   ],
   "source": [
    "cnn_model = load_model_keras()"
   ]
  },
  {
   "cell_type": "code",
   "execution_count": 8,
   "id": "b53f9491-040b-4a65-90cb-42a8e15b158f",
   "metadata": {
    "tags": []
   },
   "outputs": [
    {
     "name": "stdout",
     "output_type": "stream",
     "text": [
      "Model: \"model\"\n",
      "_________________________________________________________________\n",
      " Layer (type)                Output Shape              Param #   \n",
      "=================================================================\n",
      " input_2 (InputLayer)        [(None, 112, 112, 3)]     0         \n",
      "                                                                 \n",
      " sequential_3 (Sequential)   (None, 112, 112, 3)       0         \n",
      "                                                                 \n",
      " lambda (Lambda)             (None, 112, 112, 3)       0         \n",
      "                                                                 \n",
      " vgg16 (Functional)          (None, 3, 3, 512)         14714688  \n",
      "                                                                 \n",
      " global_average_pooling2d (  (None, 512)               0         \n",
      " GlobalAveragePooling2D)                                         \n",
      "                                                                 \n",
      " dropout (Dropout)           (None, 512)               0         \n",
      "                                                                 \n",
      " dense (Dense)               (None, 1024)              525312    \n",
      "                                                                 \n",
      " dense_1 (Dense)             (None, 7)                 7175      \n",
      "                                                                 \n",
      "=================================================================\n",
      "Total params: 15247175 (58.16 MB)\n",
      "Trainable params: 13511687 (51.54 MB)\n",
      "Non-trainable params: 1735488 (6.62 MB)\n",
      "_________________________________________________________________\n"
     ]
    }
   ],
   "source": [
    "cnn_model.summary()"
   ]
  },
  {
   "cell_type": "code",
   "execution_count": 9,
   "id": "c05af3fa-1a31-4b2b-865d-c08e97b2289e",
   "metadata": {
    "tags": []
   },
   "outputs": [
    {
     "name": "stdout",
     "output_type": "stream",
     "text": [
      "Model: \"sequential\"\n",
      "_________________________________________________________________\n",
      " Layer (type)                Output Shape              Param #   \n",
      "=================================================================\n",
      " sequential_3 (Sequential)   (None, 112, 112, 3)       0         \n",
      "                                                                 \n",
      " lambda (Lambda)             (None, 112, 112, 3)       0         \n",
      "                                                                 \n",
      " vgg16 (Functional)          (None, 3, 3, 512)         14714688  \n",
      "                                                                 \n",
      " global_average_pooling2d (  (None, 512)               0         \n",
      " GlobalAveragePooling2D)                                         \n",
      "                                                                 \n",
      " dropout (Dropout)           (None, 512)               0         \n",
      "                                                                 \n",
      " dense (Dense)               (None, 1024)              525312    \n",
      "                                                                 \n",
      "=================================================================\n",
      "Total params: 15240000 (58.14 MB)\n",
      "Trainable params: 13504512 (51.52 MB)\n",
      "Non-trainable params: 1735488 (6.62 MB)\n",
      "_________________________________________________________________\n"
     ]
    }
   ],
   "source": [
    "model = Sequential()\n",
    "for layer in cnn_model.layers[:-1]: # go through until last layer\n",
    "    model.add(layer)\n",
    "\n",
    "model.summary()"
   ]
  },
  {
   "cell_type": "code",
   "execution_count": 10,
   "id": "0594893a-524c-433a-a7fb-3a13ca666c0e",
   "metadata": {
    "tags": []
   },
   "outputs": [
    {
     "data": {
      "text/plain": [
       "(1, 112, 112, 3)"
      ]
     },
     "execution_count": 10,
     "metadata": {},
     "output_type": "execute_result"
    }
   ],
   "source": [
    "image = plt.imread('/home/jupyter/tpp/datasets/processed/merge_data/Anger/affwild_pr_9-15-1920x1080_28357.jpg')\n",
    "\n",
    "image = np.expand_dims(image, axis=0)\n",
    "image.shape"
   ]
  },
  {
   "cell_type": "code",
   "execution_count": 11,
   "id": "f598a57e-4722-4e00-a093-c1e7236357eb",
   "metadata": {
    "tags": []
   },
   "outputs": [
    {
     "name": "stderr",
     "output_type": "stream",
     "text": [
      "2024-06-27 14:21:53.906061: I external/local_xla/xla/stream_executor/cuda/cuda_dnn.cc:454] Loaded cuDNN version 8900\n"
     ]
    },
    {
     "name": "stdout",
     "output_type": "stream",
     "text": [
      "1/1 [==============================] - 5s 5s/step\n"
     ]
    }
   ],
   "source": [
    "#image_zero = np.zeros(shape=(1, IMG_SIZE, IMG_SIZE, IMG_CHANNELS), dtype=\"float32\")\n",
    "result = model.predict(image)"
   ]
  },
  {
   "cell_type": "code",
   "execution_count": 12,
   "id": "b48b5213-8ee4-4af8-be38-cb65d96d3cc2",
   "metadata": {
    "tags": []
   },
   "outputs": [
    {
     "data": {
      "text/plain": [
       "array([ 0.      ,  0.      ,  0.      , 38.905876,  0.      ,  0.      ,\n",
       "        0.      ,  0.      ,  0.      ,  0.      ,  0.      ,  0.      ,\n",
       "        0.      ,  0.      ,  0.      ,  0.      ,  0.      ,  0.      ,\n",
       "        0.      ,  0.      ], dtype=float32)"
      ]
     },
     "execution_count": 12,
     "metadata": {},
     "output_type": "execute_result"
    }
   ],
   "source": [
    "result[0][450:470]"
   ]
  },
  {
   "cell_type": "markdown",
   "id": "e500f0ca-1e3d-40d7-a71e-2b5f04af1912",
   "metadata": {},
   "source": [
    "# Data Generator"
   ]
  },
  {
   "cell_type": "code",
   "execution_count": 13,
   "id": "9d2cbb58-e322-482c-8a6a-86828ebad502",
   "metadata": {
    "tags": []
   },
   "outputs": [
    {
     "name": "stdout",
     "output_type": "stream",
     "text": [
      "Generator for videos ['325', '326', '327']\n"
     ]
    }
   ],
   "source": [
    "def getFrameGeneratorTrain():\n",
    "    return FrameGeneratorAffWildPoolV2(len(emociones), model, ruta_labels_train, ruta_imagenes, MAX_SEQ_LENGTH, NUM_FEATURES, IMG_SIZE, IMG_CHANNELS, videos_names=videos_train, verbose=False)\n",
    "\n",
    "fg = getFrameGeneratorTrain()"
   ]
  },
  {
   "cell_type": "code",
   "execution_count": 14,
   "id": "52e21bb4-3a14-4328-a70e-32d637df7d17",
   "metadata": {
    "tags": []
   },
   "outputs": [
    {
     "name": "stdout",
     "output_type": "stream",
     "text": [
      "Generator for videos ['121-24-1920x1080']\n"
     ]
    },
    {
     "data": {
      "application/vnd.jupyter.widget-view+json": {
       "model_id": "482cebb597bd4a4889ab7941c1797880",
       "version_major": 2,
       "version_minor": 0
      },
      "text/plain": [
       "  0%|          | 0/1 [00:00<?, ?it/s]"
      ]
     },
     "metadata": {},
     "output_type": "display_data"
    },
    {
     "name": "stdout",
     "output_type": "stream",
     "text": [
      "Processing video 121-24-1920x1080\n"
     ]
    }
   ],
   "source": [
    "def getFrameGeneratorValidation():\n",
    "    return FrameGeneratorAffWildPoolV2(len(emociones), model, ruta_labels_validation, ruta_imagenes, MAX_SEQ_LENGTH, NUM_FEATURES, IMG_SIZE, IMG_CHANNELS, videos_names=videos_validation, verbose=True)\n",
    "\n",
    "fg = getFrameGeneratorValidation()\n",
    "data = fg()"
   ]
  },
  {
   "cell_type": "markdown",
   "id": "2e1759af-1c61-4276-b2f6-e9728b709188",
   "metadata": {},
   "source": [
    "# Sequence model"
   ]
  },
  {
   "cell_type": "code",
   "execution_count": 15,
   "id": "01c7c960-c227-40d7-843f-241e3a3bffca",
   "metadata": {
    "tags": []
   },
   "outputs": [],
   "source": [
    "base_learning_rate = 0.0001"
   ]
  },
  {
   "cell_type": "code",
   "execution_count": 16,
   "id": "6d384ba4-9336-41d8-acd7-34bf0ba5a3ff",
   "metadata": {
    "tags": []
   },
   "outputs": [],
   "source": [
    "# Utility for our sequence model.\n",
    "def get_sequence_model_att():\n",
    "    frame_features_input = Input((MAX_SEQ_LENGTH, NUM_FEATURES))\n",
    "    mask_input = Input((MAX_SEQ_LENGTH), dtype=\"bool\")\n",
    "\n",
    "    # Refer to the following tutorial to understand the significance of using `mask`:\n",
    "    # https://keras.io/api/layers/recurrent_layers/gru/\n",
    "    lstm = LSTM(16, return_sequences=True)(\n",
    "        frame_features_input, mask=mask_input\n",
    "    )\n",
    "    # Bahdanau Attention layer\n",
    "    attention_layer = AdditiveAttention()\n",
    "    context_vector = attention_layer([lstm, lstm])\n",
    "\n",
    "    #x = LSTM(8, return_sequences=True)(context_vector)\n",
    "    #x = Dropout(0.4)(x)\n",
    "    x = Dense(8, activation=\"relu\")(context_vector)\n",
    "    output = TimeDistributed(Dense(len(emociones), activation=\"softmax\"))(x)\n",
    "\n",
    "    rnn_model = Model([frame_features_input, mask_input], output)\n",
    "\n",
    "    rnn_model.compile(\n",
    "        loss=\"categorical_crossentropy\", optimizer=tf.keras.optimizers.Adam(learning_rate=base_learning_rate), metrics=[\"accuracy\"]\n",
    "    )\n",
    "    return rnn_model"
   ]
  },
  {
   "cell_type": "code",
   "execution_count": 17,
   "id": "2fb6411b-0554-4c73-8702-27ba022e910d",
   "metadata": {},
   "outputs": [],
   "source": [
    "# Utility for our sequence model.\n",
    "def get_sequence_model():\n",
    "    frame_features_input = Input((MAX_SEQ_LENGTH, NUM_FEATURES))\n",
    "    mask_input = Input((MAX_SEQ_LENGTH), dtype=\"bool\")\n",
    "\n",
    "    # Refer to the following tutorial to understand the significance of using `mask`:\n",
    "    # https://keras.io/api/layers/recurrent_layers/gru/\n",
    "    x = LSTM(16, return_sequences=True)(\n",
    "        frame_features_input, mask=mask_input\n",
    "    )\n",
    "    x = LSTM(8, return_sequences=True)(x)\n",
    "    x = Dropout(0.4)(x)\n",
    "    x = Dense(8, activation=\"relu\")(x)\n",
    "    output = TimeDistributed(Dense(len(emociones), activation=\"softmax\"))(x)\n",
    "\n",
    "    rnn_model = Model([frame_features_input, mask_input], output)\n",
    "\n",
    "    rnn_model.compile(\n",
    "        loss=\"categorical_crossentropy\", optimizer=tf.keras.optimizers.Adam(learning_rate=base_learning_rate), metrics=[\"accuracy\"]\n",
    "    )\n",
    "    return rnn_model"
   ]
  },
  {
   "cell_type": "markdown",
   "id": "81ce55b0-51d9-4454-8b91-8b00a477fd5d",
   "metadata": {},
   "source": [
    "# Generate data on the fly (deprecated)"
   ]
  },
  {
   "cell_type": "code",
   "execution_count": null,
   "id": "32c359d1-2522-4cbc-9a1b-80fedcf29ba2",
   "metadata": {
    "tags": []
   },
   "outputs": [],
   "source": [
    "#Esta magia es para armar un dataset usando el generador de secuencias\n",
    "output_signature = ((tf.TensorSpec(shape = (MAX_SEQ_LENGTH, NUM_FEATURES), dtype = tf.float32),\n",
    "                    tf.TensorSpec(shape = (MAX_SEQ_LENGTH,), dtype = tf.bool)),\n",
    "                    tf.TensorSpec(shape = (MAX_SEQ_LENGTH, len(emociones),), dtype = tf.float32))\n",
    "\n",
    "train_frame_generator = FrameGeneratorAffWild(ruta_labels_train, ruta_imagenes, MAX_SEQ_LENGTH, NUM_FEATURES, verbose=False)\n",
    "train_ds = tf.data.Dataset.from_generator(train_frame_generator, output_signature = output_signature)"
   ]
  },
  {
   "cell_type": "code",
   "execution_count": null,
   "id": "d4d80c5d-89e6-444a-aba4-4e6103c228d0",
   "metadata": {
    "tags": []
   },
   "outputs": [],
   "source": [
    "output_signature = ((tf.TensorSpec(shape = (MAX_SEQ_LENGTH, NUM_FEATURES), dtype = tf.float32),\n",
    "                    tf.TensorSpec(shape = (MAX_SEQ_LENGTH,), dtype = tf.bool)),\n",
    "                    tf.TensorSpec(shape = (MAX_SEQ_LENGTH, len(emociones),), dtype = tf.float32))\n",
    "\n",
    "validation_frame_generator = FrameGeneratorAffWild(ruta_labels_validation, ruta_imagenes, MAX_SEQ_LENGTH, NUM_FEATURES, verbose=False)\n",
    "validation_ds = tf.data.Dataset.from_generator(validation_frame_generator, output_signature = output_signature)"
   ]
  },
  {
   "cell_type": "code",
   "execution_count": null,
   "id": "33773558-c8a6-45db-bf62-c54221fe2649",
   "metadata": {
    "tags": []
   },
   "outputs": [],
   "source": [
    "AUTOTUNE = tf.data.AUTOTUNE\n",
    "print(AUTOTUNE)\n",
    "train_ds = train_ds.cache().batch(BATCH_SIZE).prefetch(buffer_size = AUTOTUNE) # If the value tf.data.AUTOTUNE is used, then the buffer size is dynamically tuned.\n",
    "validation_ds = validation_ds.cache().batch(BATCH_SIZE).prefetch(buffer_size = AUTOTUNE)"
   ]
  },
  {
   "cell_type": "markdown",
   "id": "1ea34acc-b87c-461b-8b16-b3314a1368ad",
   "metadata": {},
   "source": [
    "# Load datasets"
   ]
  },
  {
   "cell_type": "code",
   "execution_count": 4,
   "id": "cadc8f69-afd3-4320-90f8-0fde3a749528",
   "metadata": {
    "tags": []
   },
   "outputs": [
    {
     "name": "stderr",
     "output_type": "stream",
     "text": [
      "2024-06-11 16:05:31.995104: I tensorflow/core/common_runtime/gpu/gpu_device.cc:1929] Created device /job:localhost/replica:0/task:0/device:GPU:0 with 38197 MB memory:  -> device: 0, name: NVIDIA A100-SXM4-40GB, pci bus id: 0000:00:04.0, compute capability: 8.0\n"
     ]
    }
   ],
   "source": [
    "train_ds = tf.data.Dataset.load(f\"../datasets/processed/rnn_train_{MAX_SEQ_LENGTH}_v2\")\n",
    "train_ds_batch = train_ds.batch(BATCH_SIZE)\n",
    "\n",
    "\n",
    "validation_ds = tf.data.Dataset.load(f\"../datasets/processed/rnn_val_{MAX_SEQ_LENGTH}_v2\")\n",
    "validation_ds_batch = validation_ds.batch(BATCH_SIZE)"
   ]
  },
  {
   "cell_type": "code",
   "execution_count": 5,
   "id": "2d0840da-1f98-4906-a54b-d4ca254c670f",
   "metadata": {
    "tags": []
   },
   "outputs": [
    {
     "data": {
      "text/plain": [
       "<_LoadDataset element_spec=((TensorSpec(shape=(60, 1024), dtype=tf.float32, name=None), TensorSpec(shape=(60,), dtype=tf.bool, name=None)), TensorSpec(shape=(60, 7), dtype=tf.float32, name=None))>"
      ]
     },
     "execution_count": 5,
     "metadata": {},
     "output_type": "execute_result"
    }
   ],
   "source": [
    "validation_ds"
   ]
  },
  {
   "cell_type": "markdown",
   "id": "0ca23dc8-81df-4a88-ac44-88d99c0b0475",
   "metadata": {},
   "source": [
    "# Generate all data"
   ]
  },
  {
   "cell_type": "code",
   "execution_count": 18,
   "id": "0f58e094-3e6d-483b-8ecf-8197876370bc",
   "metadata": {
    "tags": []
   },
   "outputs": [
    {
     "name": "stdout",
     "output_type": "stream",
     "text": [
      "Generator for all videos in /home/jupyter/tpp/datasets/unprocessed/affwild_labels/EXPR_Classification_Challenge/Train_Set\n"
     ]
    },
    {
     "data": {
      "application/vnd.jupyter.widget-view+json": {
       "model_id": "9e7a42a2b9154ed78c3879b49dd0ccd3",
       "version_major": 2,
       "version_minor": 0
      },
      "text/plain": [
       "  0%|          | 0/248 [00:00<?, ?it/s]"
      ]
     },
     "metadata": {},
     "output_type": "display_data"
    }
   ],
   "source": [
    "train_frame_generator = FrameGeneratorAffWildPoolV2(len(emociones), model, ruta_labels_train, ruta_imagenes, MAX_SEQ_LENGTH, NUM_FEATURES, IMG_SIZE, IMG_CHANNELS, videos_names=None, verbose=False)\n",
    "# Generar todos los datos del generador y convertirlos en listas\n",
    "all_data = list(train_frame_generator())"
   ]
  },
  {
   "cell_type": "code",
   "execution_count": 19,
   "id": "4b889442-dd6c-4e52-842f-c901aca90f00",
   "metadata": {
    "tags": []
   },
   "outputs": [],
   "source": [
    "# Dividir los datos en características de entrada, máscaras y etiquetas\n",
    "frame_features_inputs = [data[0][0] for data in all_data]\n",
    "mask_inputs = [data[0][1] for data in all_data]\n",
    "labels = [data[1] for data in all_data]\n",
    "\n",
    "# Convertir las listas en tensores de TensorFlow\n",
    "frame_features_inputs_tensor = tf.convert_to_tensor(frame_features_inputs, dtype=tf.float32)\n",
    "mask_inputs_tensor = tf.convert_to_tensor(mask_inputs, dtype=tf.bool)\n",
    "labels_tensor = tf.convert_to_tensor(labels, dtype=tf.float32)\n",
    "\n",
    "# Crear el conjunto de datos de TensorFlow\n",
    "train_ds = tf.data.Dataset.from_tensor_slices(((frame_features_inputs_tensor, mask_inputs_tensor), labels_tensor))"
   ]
  },
  {
   "cell_type": "code",
   "execution_count": 20,
   "id": "31ab5c3d-eca3-4ff1-ac6e-8bda0cff2b96",
   "metadata": {
    "tags": []
   },
   "outputs": [],
   "source": [
    "#train_ds.save(f\"../datasets/processed/rnn_train_{MAX_SEQ_LENGTH}_weights\")"
   ]
  },
  {
   "cell_type": "code",
   "execution_count": 21,
   "id": "1c6ef20a-5fe5-4a62-89ab-8980451a9718",
   "metadata": {
    "tags": []
   },
   "outputs": [
    {
     "data": {
      "text/plain": [
       "<_BatchDataset element_spec=((TensorSpec(shape=(None, 10, 1024), dtype=tf.float32, name=None), TensorSpec(shape=(None, 10), dtype=tf.bool, name=None)), TensorSpec(shape=(None, 10, 7), dtype=tf.float32, name=None))>"
      ]
     },
     "execution_count": 21,
     "metadata": {},
     "output_type": "execute_result"
    }
   ],
   "source": [
    "train_ds_batch = train_ds.batch(BATCH_SIZE)\n",
    "train_ds_batch"
   ]
  },
  {
   "cell_type": "code",
   "execution_count": 22,
   "id": "7e625df9-7fd9-4008-b8e0-40f08fb095c8",
   "metadata": {
    "tags": []
   },
   "outputs": [
    {
     "name": "stdout",
     "output_type": "stream",
     "text": [
      "Generator for all videos in /home/jupyter/tpp/datasets/unprocessed/affwild_labels/EXPR_Classification_Challenge/Validation_Set\n"
     ]
    },
    {
     "data": {
      "application/vnd.jupyter.widget-view+json": {
       "model_id": "ee96ad8a4cd94747b58b7d315aab3da0",
       "version_major": 2,
       "version_minor": 0
      },
      "text/plain": [
       "  0%|          | 0/70 [00:00<?, ?it/s]"
      ]
     },
     "metadata": {},
     "output_type": "display_data"
    }
   ],
   "source": [
    "validation_frame_generator = FrameGeneratorAffWildPoolV2(len(emociones), model, ruta_labels_validation, ruta_imagenes, MAX_SEQ_LENGTH, NUM_FEATURES, IMG_SIZE, IMG_CHANNELS, videos_names=None, verbose=False)\n",
    "all_data2 = list(validation_frame_generator())"
   ]
  },
  {
   "cell_type": "code",
   "execution_count": 23,
   "id": "81ac8d6d-dcce-4f27-b734-3b27ef7cb00e",
   "metadata": {
    "tags": []
   },
   "outputs": [],
   "source": [
    "# Dividir los datos en características de entrada, máscaras y etiquetas\n",
    "frame_features_inputs = [data[0][0] for data in all_data2]\n",
    "mask_inputs = [data[0][1] for data in all_data2]\n",
    "labels = [data[1] for data in all_data2]\n",
    "\n",
    "# Convertir las listas en tensores de TensorFlow\n",
    "frame_features_inputs_tensor = tf.convert_to_tensor(frame_features_inputs, dtype=tf.float32)\n",
    "mask_inputs_tensor = tf.convert_to_tensor(mask_inputs, dtype=tf.bool)\n",
    "labels_tensor = tf.convert_to_tensor(labels, dtype=tf.float32)\n",
    "\n",
    "# Crear el conjunto de datos de TensorFlow\n",
    "validation_ds = tf.data.Dataset.from_tensor_slices(((frame_features_inputs_tensor, mask_inputs_tensor), labels_tensor))"
   ]
  },
  {
   "cell_type": "code",
   "execution_count": 24,
   "id": "9d3958f8-4c22-4b43-b116-ad0b6e793cfe",
   "metadata": {
    "tags": []
   },
   "outputs": [],
   "source": [
    "#validation_ds.save(f\"../datasets/processed/rnn_val_{MAX_SEQ_LENGTH}_v2\")"
   ]
  },
  {
   "cell_type": "code",
   "execution_count": 25,
   "id": "979c991b-08cd-42de-91e7-769297091144",
   "metadata": {
    "tags": []
   },
   "outputs": [
    {
     "data": {
      "text/plain": [
       "<_BatchDataset element_spec=((TensorSpec(shape=(None, 10, 1024), dtype=tf.float32, name=None), TensorSpec(shape=(None, 10), dtype=tf.bool, name=None)), TensorSpec(shape=(None, 10, 7), dtype=tf.float32, name=None))>"
      ]
     },
     "execution_count": 25,
     "metadata": {},
     "output_type": "execute_result"
    }
   ],
   "source": [
    "validation_ds_batch = validation_ds.batch(BATCH_SIZE)\n",
    "validation_ds_batch"
   ]
  },
  {
   "cell_type": "code",
   "execution_count": 26,
   "id": "66e18645-5a81-4ca9-957d-55ede072d4f4",
   "metadata": {},
   "outputs": [
    {
     "name": "stdout",
     "output_type": "stream",
     "text": [
      "Epoch 1/50\n"
     ]
    },
    {
     "name": "stderr",
     "output_type": "stream",
     "text": [
      "WARNING: All log messages before absl::InitializeLog() is called are written to STDERR\n",
      "W0000 00:00:1719500775.559340 3841984 op_level_cost_estimator.cc:699] Error in PredictCost() for the op: op: \"Softmax\" attr { key: \"T\" value { type: DT_FLOAT } } inputs { dtype: DT_FLOAT shape { unknown_rank: true } } device { type: \"GPU\" vendor: \"NVIDIA\" model: \"NVIDIA A100-SXM4-40GB\" frequency: 1410 num_cores: 108 environment { key: \"architecture\" value: \"8.0\" } environment { key: \"cuda\" value: \"12020\" } environment { key: \"cudnn\" value: \"8904\" } num_registers: 65536 l1_cache_size: 24576 l2_cache_size: 41943040 shared_memory_size_per_multiprocessor: 167936 memory_size: 40052523008 bandwidth: 1555200000 } outputs { dtype: DT_FLOAT shape { unknown_rank: true } }\n",
      "2024-06-27 15:06:18.402390: I external/local_xla/xla/service/service.cc:168] XLA service 0x7f6d68325af0 initialized for platform CUDA (this does not guarantee that XLA will be used). Devices:\n",
      "2024-06-27 15:06:18.402423: I external/local_xla/xla/service/service.cc:176]   StreamExecutor device (0): NVIDIA A100-SXM4-40GB, Compute Capability 8.0\n",
      "2024-06-27 15:06:18.409869: I tensorflow/compiler/mlir/tensorflow/utils/dump_mlir_util.cc:269] disabling MLIR crash reproducer, set env var `MLIR_CRASH_REPRODUCER_DIRECTORY` to enable.\n",
      "WARNING: All log messages before absl::InitializeLog() is called are written to STDERR\n",
      "I0000 00:00:1719500778.529573 3842069 device_compiler.h:186] Compiled cluster using XLA!  This line is logged at most once for the lifetime of the process.\n"
     ]
    },
    {
     "name": "stdout",
     "output_type": "stream",
     "text": [
      "84/86 [============================>.] - ETA: 0s - loss: 1.8914 - accuracy: 0.2338"
     ]
    },
    {
     "name": "stderr",
     "output_type": "stream",
     "text": [
      "W0000 00:00:1719500783.180085 3841984 op_level_cost_estimator.cc:699] Error in PredictCost() for the op: op: \"Softmax\" attr { key: \"T\" value { type: DT_FLOAT } } inputs { dtype: DT_FLOAT shape { unknown_rank: true } } device { type: \"GPU\" vendor: \"NVIDIA\" model: \"NVIDIA A100-SXM4-40GB\" frequency: 1410 num_cores: 108 environment { key: \"architecture\" value: \"8.0\" } environment { key: \"cuda\" value: \"12020\" } environment { key: \"cudnn\" value: \"8904\" } num_registers: 65536 l1_cache_size: 24576 l2_cache_size: 41943040 shared_memory_size_per_multiprocessor: 167936 memory_size: 40052523008 bandwidth: 1555200000 } outputs { dtype: DT_FLOAT shape { unknown_rank: true } }\n"
     ]
    },
    {
     "name": "stdout",
     "output_type": "stream",
     "text": [
      "86/86 [==============================] - 12s 51ms/step - loss: 1.8922 - accuracy: 0.2338 - val_loss: 1.8370 - val_accuracy: 0.3002\n",
      "Epoch 2/50\n",
      "86/86 [==============================] - 2s 26ms/step - loss: 1.8023 - accuracy: 0.3731 - val_loss: 1.7633 - val_accuracy: 0.4155\n",
      "Epoch 3/50\n",
      "86/86 [==============================] - 2s 26ms/step - loss: 1.7241 - accuracy: 0.4229 - val_loss: 1.6966 - val_accuracy: 0.4571\n",
      "Epoch 4/50\n",
      "86/86 [==============================] - 2s 26ms/step - loss: 1.6635 - accuracy: 0.4370 - val_loss: 1.6469 - val_accuracy: 0.4685\n",
      "Epoch 5/50\n",
      "86/86 [==============================] - 2s 26ms/step - loss: 1.6126 - accuracy: 0.4470 - val_loss: 1.6044 - val_accuracy: 0.4756\n",
      "Epoch 6/50\n",
      "86/86 [==============================] - 2s 26ms/step - loss: 1.5600 - accuracy: 0.4723 - val_loss: 1.5622 - val_accuracy: 0.5026\n",
      "Epoch 7/50\n",
      "86/86 [==============================] - 2s 26ms/step - loss: 1.5026 - accuracy: 0.5179 - val_loss: 1.5225 - val_accuracy: 0.5315\n",
      "Epoch 8/50\n",
      "86/86 [==============================] - 2s 26ms/step - loss: 1.4394 - accuracy: 0.5520 - val_loss: 1.4730 - val_accuracy: 0.5499\n",
      "Epoch 9/50\n",
      "86/86 [==============================] - 2s 26ms/step - loss: 1.3758 - accuracy: 0.5684 - val_loss: 1.4394 - val_accuracy: 0.5543\n",
      "Epoch 10/50\n",
      "86/86 [==============================] - 2s 26ms/step - loss: 1.3248 - accuracy: 0.5782 - val_loss: 1.4173 - val_accuracy: 0.5548\n",
      "Epoch 11/50\n",
      "86/86 [==============================] - 2s 26ms/step - loss: 1.2806 - accuracy: 0.5852 - val_loss: 1.3991 - val_accuracy: 0.5541\n",
      "Epoch 12/50\n",
      "86/86 [==============================] - 2s 27ms/step - loss: 1.2404 - accuracy: 0.5935 - val_loss: 1.3828 - val_accuracy: 0.5533\n",
      "Epoch 13/50\n",
      "86/86 [==============================] - 2s 27ms/step - loss: 1.2034 - accuracy: 0.6027 - val_loss: 1.3708 - val_accuracy: 0.5534\n",
      "Epoch 14/50\n",
      "86/86 [==============================] - 2s 26ms/step - loss: 1.1692 - accuracy: 0.6133 - val_loss: 1.3632 - val_accuracy: 0.5534\n",
      "Epoch 15/50\n",
      "86/86 [==============================] - 2s 27ms/step - loss: 1.1375 - accuracy: 0.6236 - val_loss: 1.3595 - val_accuracy: 0.5526\n",
      "Epoch 16/50\n",
      "86/86 [==============================] - 2s 26ms/step - loss: 1.1085 - accuracy: 0.6348 - val_loss: 1.3558 - val_accuracy: 0.5524\n",
      "Epoch 17/50\n",
      "86/86 [==============================] - 2s 28ms/step - loss: 1.0815 - accuracy: 0.6476 - val_loss: 1.3530 - val_accuracy: 0.5511\n",
      "Epoch 18/50\n",
      "86/86 [==============================] - 2s 27ms/step - loss: 1.0557 - accuracy: 0.6602 - val_loss: 1.3515 - val_accuracy: 0.5499\n",
      "Epoch 19/50\n",
      "86/86 [==============================] - 2s 27ms/step - loss: 1.0314 - accuracy: 0.6720 - val_loss: 1.3509 - val_accuracy: 0.5505\n",
      "Epoch 20/50\n",
      "86/86 [==============================] - 2s 26ms/step - loss: 1.0084 - accuracy: 0.6835 - val_loss: 1.3498 - val_accuracy: 0.5507\n",
      "Epoch 21/50\n",
      "86/86 [==============================] - 2s 26ms/step - loss: 0.9868 - accuracy: 0.6939 - val_loss: 1.3485 - val_accuracy: 0.5505\n",
      "Epoch 22/50\n",
      "86/86 [==============================] - 2s 26ms/step - loss: 0.9658 - accuracy: 0.7040 - val_loss: 1.3475 - val_accuracy: 0.5509\n",
      "Epoch 23/50\n",
      "86/86 [==============================] - 2s 26ms/step - loss: 0.9457 - accuracy: 0.7124 - val_loss: 1.3451 - val_accuracy: 0.5514\n",
      "Epoch 24/50\n",
      "86/86 [==============================] - 2s 26ms/step - loss: 0.9266 - accuracy: 0.7205 - val_loss: 1.3430 - val_accuracy: 0.5522\n",
      "Epoch 25/50\n",
      "86/86 [==============================] - 2s 26ms/step - loss: 0.9081 - accuracy: 0.7284 - val_loss: 1.3411 - val_accuracy: 0.5541\n",
      "Epoch 26/50\n",
      "86/86 [==============================] - 2s 26ms/step - loss: 0.8901 - accuracy: 0.7367 - val_loss: 1.3399 - val_accuracy: 0.5561\n",
      "Epoch 27/50\n",
      "86/86 [==============================] - 2s 26ms/step - loss: 0.8726 - accuracy: 0.7443 - val_loss: 1.3388 - val_accuracy: 0.5573\n",
      "Epoch 28/50\n",
      "86/86 [==============================] - 2s 26ms/step - loss: 0.8559 - accuracy: 0.7502 - val_loss: 1.3377 - val_accuracy: 0.5578\n",
      "Epoch 29/50\n",
      "86/86 [==============================] - 2s 26ms/step - loss: 0.8402 - accuracy: 0.7566 - val_loss: 1.3369 - val_accuracy: 0.5586\n",
      "Epoch 30/50\n",
      "86/86 [==============================] - 2s 26ms/step - loss: 0.8252 - accuracy: 0.7619 - val_loss: 1.3372 - val_accuracy: 0.5597\n",
      "Epoch 31/50\n",
      "86/86 [==============================] - 2s 26ms/step - loss: 0.8108 - accuracy: 0.7671 - val_loss: 1.3375 - val_accuracy: 0.5601\n",
      "Epoch 32/50\n",
      "86/86 [==============================] - 2s 26ms/step - loss: 0.7969 - accuracy: 0.7717 - val_loss: 1.3383 - val_accuracy: 0.5605\n",
      "Epoch 33/50\n",
      "86/86 [==============================] - 2s 26ms/step - loss: 0.7837 - accuracy: 0.7758 - val_loss: 1.3395 - val_accuracy: 0.5605\n",
      "Epoch 34/50\n",
      "86/86 [==============================] - 2s 26ms/step - loss: 0.7711 - accuracy: 0.7790 - val_loss: 1.3409 - val_accuracy: 0.5607\n",
      "Epoch 35/50\n",
      "86/86 [==============================] - 2s 26ms/step - loss: 0.7589 - accuracy: 0.7828 - val_loss: 1.3424 - val_accuracy: 0.5611\n",
      "Epoch 36/50\n",
      "86/86 [==============================] - 2s 26ms/step - loss: 0.7472 - accuracy: 0.7864 - val_loss: 1.3442 - val_accuracy: 0.5615\n",
      "Epoch 37/50\n",
      "86/86 [==============================] - 2s 26ms/step - loss: 0.7358 - accuracy: 0.7897 - val_loss: 1.3462 - val_accuracy: 0.5622\n",
      "Epoch 38/50\n",
      "86/86 [==============================] - 2s 26ms/step - loss: 0.7247 - accuracy: 0.7924 - val_loss: 1.3480 - val_accuracy: 0.5626\n",
      "Epoch 39/50\n",
      "86/86 [==============================] - 2s 26ms/step - loss: 0.7139 - accuracy: 0.7954 - val_loss: 1.3502 - val_accuracy: 0.5628\n",
      "Epoch 40/50\n",
      "86/86 [==============================] - 2s 26ms/step - loss: 0.7035 - accuracy: 0.7979 - val_loss: 1.3527 - val_accuracy: 0.5632\n",
      "Epoch 41/50\n",
      "86/86 [==============================] - 2s 26ms/step - loss: 0.6934 - accuracy: 0.8004 - val_loss: 1.3554 - val_accuracy: 0.5638\n",
      "Epoch 42/50\n",
      "86/86 [==============================] - 2s 26ms/step - loss: 0.6837 - accuracy: 0.8029 - val_loss: 1.3579 - val_accuracy: 0.5646\n",
      "Epoch 43/50\n",
      "86/86 [==============================] - 2s 26ms/step - loss: 0.6741 - accuracy: 0.8052 - val_loss: 1.3607 - val_accuracy: 0.5654\n",
      "Epoch 44/50\n",
      "86/86 [==============================] - 2s 28ms/step - loss: 0.6649 - accuracy: 0.8077 - val_loss: 1.3633 - val_accuracy: 0.5658\n",
      "Epoch 45/50\n",
      "86/86 [==============================] - 2s 27ms/step - loss: 0.6559 - accuracy: 0.8096 - val_loss: 1.3664 - val_accuracy: 0.5669\n",
      "Epoch 46/50\n",
      "86/86 [==============================] - 2s 26ms/step - loss: 0.6472 - accuracy: 0.8115 - val_loss: 1.3696 - val_accuracy: 0.5671\n",
      "Epoch 47/50\n",
      "86/86 [==============================] - 2s 26ms/step - loss: 0.6387 - accuracy: 0.8135 - val_loss: 1.3732 - val_accuracy: 0.5669\n",
      "Epoch 48/50\n",
      "86/86 [==============================] - 2s 26ms/step - loss: 0.6303 - accuracy: 0.8157 - val_loss: 1.3767 - val_accuracy: 0.5665\n",
      "Epoch 49/50\n",
      "86/86 [==============================] - 2s 26ms/step - loss: 0.6221 - accuracy: 0.8178 - val_loss: 1.3804 - val_accuracy: 0.5662\n",
      "Epoch 50/50\n",
      "86/86 [==============================] - 2s 26ms/step - loss: 0.6141 - accuracy: 0.8196 - val_loss: 1.3837 - val_accuracy: 0.5667\n"
     ]
    }
   ],
   "source": [
    "from tensorflow.keras.callbacks import ModelCheckpoint\n",
    "\n",
    "\n",
    "def run_experiment():\n",
    "    seq_model = get_sequence_model_att()\n",
    "    history = seq_model.fit(\n",
    "        train_ds_batch,\n",
    "        validation_data=validation_ds_batch,\n",
    "        epochs=EPOCHS,\n",
    "        batch_size=BATCH_SIZE\n",
    "    )\n",
    "    \n",
    "\n",
    "    #seq_model.load_weights(filepath)\n",
    "    #_, accuracy = seq_model.evaluate(validation_ds)\n",
    "    #print(f\"Test accuracy: {round(accuracy * 100, 2)}%\")\n",
    "\n",
    "    return history, seq_model\n",
    "\n",
    "\n",
    "history, sequence_model = run_experiment()"
   ]
  },
  {
   "cell_type": "code",
   "execution_count": 142,
   "id": "76340f55-f7ed-4d84-9955-ca6e29a6f1d8",
   "metadata": {
    "tags": []
   },
   "outputs": [],
   "source": [
    "#sequence_model.save(f\"../Modelos/cotatest_rnn_att_{MAX_SEQ_LENGTH}_dilation.keras\")"
   ]
  },
  {
   "cell_type": "markdown",
   "id": "09928947-ba1d-4609-abad-6781c49c878c",
   "metadata": {},
   "source": [
    "# Metircs"
   ]
  },
  {
   "cell_type": "code",
   "execution_count": 27,
   "id": "013d0e87-3767-4378-9c4e-64d387d71693",
   "metadata": {
    "tags": []
   },
   "outputs": [
    {
     "name": "stdout",
     "output_type": "stream",
     "text": [
      "35/35 [==============================] - 0s 10ms/step - loss: 1.3837 - accuracy: 0.5667\n",
      "Test accuracy: 56.67%\n"
     ]
    }
   ],
   "source": [
    "_, accuracy = sequence_model.evaluate(validation_ds_batch)\n",
    "print(f\"Test accuracy: {round(accuracy * 100, 2)}%\")"
   ]
  },
  {
   "cell_type": "code",
   "execution_count": 28,
   "id": "31b93f2f-cee1-492b-9c8a-a09659e84d85",
   "metadata": {
    "tags": []
   },
   "outputs": [
    {
     "data": {
      "text/plain": [
       "0.5666714906692505"
      ]
     },
     "execution_count": 28,
     "metadata": {},
     "output_type": "execute_result"
    }
   ],
   "source": [
    "accuracy"
   ]
  },
  {
   "cell_type": "code",
   "execution_count": 29,
   "id": "f4fa544f-8027-4a06-9c83-b1e0f8ecfc62",
   "metadata": {
    "tags": []
   },
   "outputs": [],
   "source": [
    "#history.history"
   ]
  },
  {
   "cell_type": "code",
   "execution_count": 30,
   "id": "56114b89-a7c1-4697-b51d-946dc04134af",
   "metadata": {
    "tags": []
   },
   "outputs": [
    {
     "data": {
      "image/png": "[encoded data removed]",
      "text/plain": [
       "<Figure size 640x480 with 1 Axes>"
      ]
     },
     "metadata": {},
     "output_type": "display_data"
    },
    {
     "data": {
      "image/png": "[encoded data removed]",
      "text/plain": [
       "<Figure size 640x480 with 1 Axes>"
      ]
     },
     "metadata": {},
     "output_type": "display_data"
    }
   ],
   "source": [
    "# Obtener métricas de entrenamiento\n",
    "train_acc = history.history['accuracy']\n",
    "val_acc = history.history['val_accuracy']\n",
    "train_loss = history.history['loss']\n",
    "val_loss = history.history['val_loss']\n",
    "\n",
    "# Graficar precisión\n",
    "plt.plot(train_acc, label='Training Accuracy')\n",
    "plt.plot(val_acc, label='Validation Accuracy')\n",
    "plt.title('Training and Validation Accuracy')\n",
    "plt.xlabel('Epoch')\n",
    "plt.ylabel('Accuracy')\n",
    "plt.legend()\n",
    "plt.show()\n",
    "\n",
    "# Graficar pérdida\n",
    "plt.plot(train_loss, label='Training Loss')\n",
    "plt.plot(val_loss, label='Validation Loss')\n",
    "plt.title('Training and Validation Loss')\n",
    "plt.xlabel('Epoch')\n",
    "plt.ylabel('Loss')\n",
    "plt.legend()\n",
    "plt.show()"
   ]
  },
  {
   "cell_type": "code",
   "execution_count": 31,
   "id": "8dd29b4b-f3e1-45c1-994e-d5414369c8d1",
   "metadata": {
    "tags": []
   },
   "outputs": [
    {
     "name": "stderr",
     "output_type": "stream",
     "text": [
      "W0000 00:00:1719501990.371854 3841984 op_level_cost_estimator.cc:699] Error in PredictCost() for the op: op: \"Softmax\" attr { key: \"T\" value { type: DT_FLOAT } } inputs { dtype: DT_FLOAT shape { unknown_rank: true } } device { type: \"GPU\" vendor: \"NVIDIA\" model: \"NVIDIA A100-SXM4-40GB\" frequency: 1410 num_cores: 108 environment { key: \"architecture\" value: \"8.0\" } environment { key: \"cuda\" value: \"12020\" } environment { key: \"cudnn\" value: \"8904\" } num_registers: 65536 l1_cache_size: 24576 l2_cache_size: 41943040 shared_memory_size_per_multiprocessor: 167936 memory_size: 40052523008 bandwidth: 1555200000 } outputs { dtype: DT_FLOAT shape { unknown_rank: true } }\n"
     ]
    },
    {
     "name": "stdout",
     "output_type": "stream",
     "text": [
      "35/35 [==============================] - 2s 9ms/step\n",
      "(17909, 10, 7)\n"
     ]
    }
   ],
   "source": [
    "predictions = sequence_model.predict(validation_ds_batch)\n",
    "print(predictions.shape)"
   ]
  },
  {
   "cell_type": "code",
   "execution_count": 32,
   "id": "f226b7ef-809c-4f05-ad26-c7830e4e3bd7",
   "metadata": {
    "tags": []
   },
   "outputs": [
    {
     "data": {
      "text/plain": [
       "<_TensorSliceDataset element_spec=((TensorSpec(shape=(10, 1024), dtype=tf.float32, name=None), TensorSpec(shape=(10,), dtype=tf.bool, name=None)), TensorSpec(shape=(10, 7), dtype=tf.float32, name=None))>"
      ]
     },
     "execution_count": 32,
     "metadata": {},
     "output_type": "execute_result"
    }
   ],
   "source": [
    "validation_ds"
   ]
  },
  {
   "cell_type": "code",
   "execution_count": 33,
   "id": "4b47f14b-5e49-4839-a162-7977cd4eed16",
   "metadata": {
    "tags": []
   },
   "outputs": [
    {
     "name": "stdout",
     "output_type": "stream",
     "text": [
      "(179090, 7)\n"
     ]
    }
   ],
   "source": [
    "validation_labels = np.concatenate([labels for train_data, labels in validation_ds])\n",
    "print(validation_labels.shape)"
   ]
  },
  {
   "cell_type": "code",
   "execution_count": 34,
   "id": "e347234d-515c-40a6-8734-e3557074f850",
   "metadata": {
    "tags": []
   },
   "outputs": [],
   "source": [
    "#indices = [i for i, arr in enumerate(validation_labels) if any(subarr[3] == 1 for subarr in arr)]\n",
    "#validation_labels[indices][0]"
   ]
  },
  {
   "cell_type": "code",
   "execution_count": 35,
   "id": "c4cc9283-fca5-4733-b077-b9f2ee117545",
   "metadata": {
    "tags": []
   },
   "outputs": [],
   "source": [
    "#predictions[indices][0]"
   ]
  },
  {
   "cell_type": "code",
   "execution_count": 36,
   "id": "4a9732c3-4d93-4b11-bb8c-37ba33676404",
   "metadata": {
    "tags": []
   },
   "outputs": [
    {
     "name": "stdout",
     "output_type": "stream",
     "text": [
      "(173305, 7)\n",
      "(173305, 7)\n"
     ]
    }
   ],
   "source": [
    "y_true = np.reshape(validation_labels, (-1, validation_labels.shape[-1]))\n",
    "y_pred = np.reshape(predictions, (-1, predictions.shape[-1]))\n",
    "\n",
    "# Eliminar las filas con -1 en y_true\n",
    "valid_indices = np.where(np.all(y_true != -1, axis=1))\n",
    "y_true = y_true[valid_indices]\n",
    "y_pred = y_pred[valid_indices]\n",
    "                    \n",
    "print(y_true.shape)\n",
    "print(y_pred.shape)"
   ]
  },
  {
   "cell_type": "code",
   "execution_count": 37,
   "id": "4f5ff592-b068-4b0a-aef8-5992329c7d19",
   "metadata": {
    "tags": []
   },
   "outputs": [
    {
     "name": "stdout",
     "output_type": "stream",
     "text": [
      "[0. 0. 0. 1. 0. 0. 0.]\n",
      "[0.27892834 0.22291556 0.02362378 0.03653502 0.09175786 0.29301304\n",
      " 0.05322644]\n"
     ]
    }
   ],
   "source": [
    "indices = np.where(y_true[:, 3] == 1)[0]\n",
    "print(y_true[indices][-2])\n",
    "print(y_pred[indices][-2])"
   ]
  },
  {
   "cell_type": "code",
   "execution_count": 38,
   "id": "38d79c4b-bcae-4525-85a0-9338433701f7",
   "metadata": {
    "tags": []
   },
   "outputs": [
    {
     "data": {
      "text/plain": [
       "<tf.Tensor: shape=(7,), dtype=float32, numpy=array([0., 0., 0., 0., 1., 0., 0.], dtype=float32)>"
      ]
     },
     "execution_count": 38,
     "metadata": {},
     "output_type": "execute_result"
    }
   ],
   "source": [
    "max_indices = tf.argmax(y_pred, axis=1)\n",
    "binary_pred = tf.one_hot(max_indices, depth=y_pred.shape[1])\n",
    "\n",
    "binary_pred[0]"
   ]
  },
  {
   "cell_type": "code",
   "execution_count": 39,
   "id": "a5018ee0-7e3a-47f6-82c8-8140afcdee91",
   "metadata": {
    "tags": []
   },
   "outputs": [
    {
     "name": "stdout",
     "output_type": "stream",
     "text": [
      "Precisión: 0.5666715\n"
     ]
    }
   ],
   "source": [
    "# Calcular la precisión\n",
    "precision = tf.keras.metrics.Precision()\n",
    "precision.update_state(y_true, binary_pred)\n",
    "precision_result = precision.result().numpy()\n",
    "\n",
    "print(\"Precisión:\", precision_result)"
   ]
  },
  {
   "cell_type": "code",
   "execution_count": 40,
   "id": "b41d556f-7abd-4aed-86df-90a409e150d8",
   "metadata": {
    "tags": []
   },
   "outputs": [
    {
     "name": "stdout",
     "output_type": "stream",
     "text": [
      "Recall: 0.5666715\n"
     ]
    }
   ],
   "source": [
    "# Calcular el recall\n",
    "recall = tf.keras.metrics.Recall()\n",
    "recall.update_state(y_true, binary_pred)\n",
    "recall_result = recall.result().numpy()\n",
    "\n",
    "print(\"Recall:\", recall_result)"
   ]
  },
  {
   "cell_type": "code",
   "execution_count": 41,
   "id": "a7230e73-832c-4f18-a477-34cfac062e97",
   "metadata": {
    "tags": []
   },
   "outputs": [
    {
     "name": "stdout",
     "output_type": "stream",
     "text": [
      "F1-score Neutral: 0.7266\n",
      "F1-score Anger: 0.2186\n",
      "F1-score Disgust: 0.0000\n",
      "F1-score Fear: 0.0390\n",
      "F1-score Happiness: 0.5952\n",
      "F1-score Sadness: 0.3125\n",
      "F1-score Surprise: 0.3576\n"
     ]
    }
   ],
   "source": [
    "# Calcular el F1-score\n",
    "f1_score = tf.keras.metrics.F1Score()\n",
    "f1_score.update_state(y_true, binary_pred)\n",
    "f1_score_result = f1_score.result().numpy()\n",
    "\n",
    "for index, value in enumerate(f1_score_result):\n",
    "    print(f\"F1-score {emociones[index]}: {value:.4f}\")"
   ]
  },
  {
   "cell_type": "code",
   "execution_count": 42,
   "id": "749e9e6f-3fb8-4ceb-9274-d4cbacfff17a",
   "metadata": {
    "tags": []
   },
   "outputs": [
    {
     "name": "stdout",
     "output_type": "stream",
     "text": [
      "F1-score: 0.3214\n"
     ]
    }
   ],
   "source": [
    "# Calcular el F1-score\n",
    "f1_score = tf.keras.metrics.F1Score(average='macro')\n",
    "f1_score.update_state(y_true, binary_pred)\n",
    "f1_score_result = f1_score.result().numpy()\n",
    "\n",
    "print(f\"F1-score: {f1_score_result:.4f}\")"
   ]
  },
  {
   "cell_type": "code",
   "execution_count": 47,
   "id": "8757a23d-50da-414e-a827-a735e4a4be9d",
   "metadata": {
    "tags": []
   },
   "outputs": [
    {
     "data": {
      "text/plain": [
       "<_TensorSliceDataset element_spec=((TensorSpec(shape=(10, 1024), dtype=tf.float32, name=None), TensorSpec(shape=(10,), dtype=tf.bool, name=None)), TensorSpec(shape=(10, 7), dtype=tf.float32, name=None))>"
      ]
     },
     "execution_count": 47,
     "metadata": {},
     "output_type": "execute_result"
    }
   ],
   "source": [
    "validation_ds"
   ]
  },
  {
   "cell_type": "markdown",
   "id": "d4d9eaf2-7dc2-4a53-97c3-1a4d65141bc2",
   "metadata": {},
   "source": [
    "#### Calculando con for loop"
   ]
  },
  {
   "cell_type": "code",
   "execution_count": null,
   "id": "7dd32024-0d39-4d0a-a405-06c2e6d6e246",
   "metadata": {},
   "outputs": [],
   "source": [
    "# Hacer predicciones en los datos de validación en lotes\n",
    "predictions = []\n",
    "true_labels = []\n",
    "\n",
    "for seq_images, labels in validation_ds_batch:\n",
    "    batch_predictions = sequence_model.predict(seq_images)\n",
    "    predictions.extend(batch_predictions)\n",
    "    true_labels.extend(labels)\n",
    "    \n",
    "predictions = tf.convert_to_tensor(predictions)\n",
    "true_labels = tf.convert_to_tensor(true_labels)"
   ]
  },
  {
   "cell_type": "code",
   "execution_count": 52,
   "id": "0a140593-0905-422a-b71e-3e41294c9e20",
   "metadata": {
    "tags": []
   },
   "outputs": [],
   "source": [
    "_y_true = np.reshape(true_labels, (-1, true_labels.shape[-1]))\n",
    "_y_pred = np.reshape(predictions, (-1, predictions.shape[-1]))"
   ]
  },
  {
   "cell_type": "code",
   "execution_count": 56,
   "id": "e84f23d4-87b8-4682-a2ce-380b5ab487d6",
   "metadata": {
    "tags": []
   },
   "outputs": [],
   "source": [
    "valid_indices = np.where(np.all(_y_true != -1, axis=1))\n",
    "_y_true = _y_true[valid_indices]\n",
    "_y_pred = _y_pred[valid_indices]"
   ]
  },
  {
   "cell_type": "code",
   "execution_count": 57,
   "id": "f2a4f24d-28b3-4fb0-add5-6130cde8b471",
   "metadata": {
    "tags": []
   },
   "outputs": [
    {
     "name": "stdout",
     "output_type": "stream",
     "text": [
      "F1-score Neutral: 0.7267\n",
      "F1-score Anger: 0.2186\n",
      "F1-score Disgust: 0.0000\n",
      "F1-score Fear: 0.0390\n",
      "F1-score Happiness: 0.5952\n",
      "F1-score Sadness: 0.3125\n",
      "F1-score Surprise: 0.3574\n"
     ]
    }
   ],
   "source": [
    "# Calcular el F1-score\n",
    "f1_score = tf.keras.metrics.F1Score()\n",
    "f1_score.update_state(_y_true, _y_pred)\n",
    "f1_score_result = f1_score.result().numpy()\n",
    "\n",
    "for index, value in enumerate(f1_score_result):\n",
    "    print(f\"F1-score {emociones[index]}: {value:.4f}\")"
   ]
  },
  {
   "cell_type": "code",
   "execution_count": null,
   "id": "085e7c15-6e6b-47f5-ba0e-fa54f4ca72b8",
   "metadata": {},
   "outputs": [],
   "source": []
  },
  {
   "cell_type": "markdown",
   "id": "b725b597-b451-450e-8d5d-325870ae339c",
   "metadata": {},
   "source": [
    "# Test model"
   ]
  },
  {
   "cell_type": "code",
   "execution_count": 18,
   "id": "66664543-2f52-4663-b016-c7c3dadc151c",
   "metadata": {},
   "outputs": [
    {
     "name": "stdout",
     "output_type": "stream",
     "text": [
      "Generator for videos ['121-24-1920x1080']\n",
      "WARNING: sequence too short 121-24-1920x1080.txt (4/60)\n",
      "WARNING: sequence too short 121-24-1920x1080.txt (1/60)\n"
     ]
    }
   ],
   "source": [
    "fg = FrameGeneratorAffWildPoolV2(len(emociones), model, ruta_labels_validation, ruta_imagenes, MAX_SEQ_LENGTH, NUM_FEATURES, IMG_SIZE, IMG_CHANNELS, videos_names=videos_validation, verbose=False)\n",
    "\n",
    "data_test = fg()\n"
   ]
  },
  {
   "cell_type": "code",
   "execution_count": 19,
   "id": "d8217bbf-5a2c-4fa5-bb05-5d3c495cd6a8",
   "metadata": {
    "tags": []
   },
   "outputs": [],
   "source": [
    "# Dividir los datos en características de entrada, máscaras y etiquetas\n",
    "frame_features_inputs = [data[0][0] for data in data_test]\n",
    "mask_inputs = [data[0][1] for data in data_test]\n",
    "labels = [data[1] for data in data_test]\n",
    "\n",
    "# Convertir las listas en tensores de TensorFlow\n",
    "frame_features_inputs_tensor = tf.convert_to_tensor(frame_features_inputs, dtype=tf.float32)\n",
    "mask_inputs_tensor = tf.convert_to_tensor(mask_inputs, dtype=tf.bool)\n",
    "labels_tensor = tf.convert_to_tensor(labels, dtype=tf.float32)\n",
    "\n",
    "# Crear el conjunto de datos de TensorFlow\n",
    "data_test_ds = tf.data.Dataset.from_tensor_slices(((frame_features_inputs_tensor, mask_inputs_tensor), labels_tensor))"
   ]
  },
  {
   "cell_type": "code",
   "execution_count": 21,
   "id": "a36b8b56-9f9c-4072-9a36-82eccfd45ff3",
   "metadata": {
    "tags": []
   },
   "outputs": [
    {
     "data": {
      "text/plain": [
       "((array([[ 0.      ,  0.      ,  0.      , ...,  0.      ,  0.      ,\n",
       "           0.      ],\n",
       "         [ 0.      ,  0.      ,  0.      , ...,  0.      ,  0.      ,\n",
       "           0.      ],\n",
       "         [ 0.      ,  0.      ,  0.      , ..., 10.911294,  0.      ,\n",
       "           0.      ],\n",
       "         ...,\n",
       "         [ 0.      ,  0.      ,  0.      , ..., 76.568146,  0.      ,\n",
       "           0.      ],\n",
       "         [ 0.      ,  0.      ,  0.      , ..., 35.748783,  0.      ,\n",
       "           0.      ],\n",
       "         [ 0.      ,  0.      ,  0.      , ..., 61.6075  ,  0.      ,\n",
       "           0.      ]], dtype=float32),\n",
       "  array([ True,  True,  True,  True,  True,  True,  True,  True,  True,\n",
       "          True,  True,  True,  True,  True,  True,  True,  True,  True,\n",
       "          True,  True,  True,  True,  True,  True,  True,  True,  True,\n",
       "          True,  True,  True,  True,  True,  True,  True,  True,  True,\n",
       "          True,  True,  True,  True,  True,  True,  True,  True,  True,\n",
       "          True,  True,  True,  True,  True,  True,  True,  True,  True,\n",
       "          True,  True,  True,  True,  True,  True])),\n",
       " array([[0, 0, 0, 1, 0, 0, 0],\n",
       "        [0, 0, 0, 1, 0, 0, 0],\n",
       "        [0, 0, 0, 1, 0, 0, 0],\n",
       "        [0, 0, 0, 1, 0, 0, 0],\n",
       "        [0, 0, 0, 1, 0, 0, 0],\n",
       "        [0, 0, 0, 1, 0, 0, 0],\n",
       "        [0, 0, 0, 1, 0, 0, 0],\n",
       "        [0, 0, 0, 1, 0, 0, 0],\n",
       "        [0, 0, 0, 1, 0, 0, 0],\n",
       "        [0, 0, 0, 1, 0, 0, 0],\n",
       "        [0, 0, 0, 1, 0, 0, 0],\n",
       "        [0, 0, 0, 1, 0, 0, 0],\n",
       "        [0, 0, 0, 1, 0, 0, 0],\n",
       "        [0, 0, 0, 1, 0, 0, 0],\n",
       "        [0, 0, 0, 1, 0, 0, 0],\n",
       "        [0, 0, 0, 1, 0, 0, 0],\n",
       "        [0, 0, 0, 1, 0, 0, 0],\n",
       "        [0, 0, 0, 1, 0, 0, 0],\n",
       "        [0, 0, 0, 1, 0, 0, 0],\n",
       "        [0, 0, 0, 1, 0, 0, 0],\n",
       "        [0, 0, 0, 1, 0, 0, 0],\n",
       "        [0, 0, 0, 1, 0, 0, 0],\n",
       "        [0, 0, 0, 1, 0, 0, 0],\n",
       "        [0, 0, 0, 1, 0, 0, 0],\n",
       "        [0, 0, 0, 1, 0, 0, 0],\n",
       "        [0, 0, 0, 1, 0, 0, 0],\n",
       "        [0, 0, 0, 1, 0, 0, 0],\n",
       "        [0, 0, 0, 1, 0, 0, 0],\n",
       "        [0, 0, 0, 1, 0, 0, 0],\n",
       "        [0, 0, 0, 1, 0, 0, 0],\n",
       "        [0, 0, 0, 1, 0, 0, 0],\n",
       "        [0, 0, 0, 1, 0, 0, 0],\n",
       "        [0, 0, 0, 1, 0, 0, 0],\n",
       "        [0, 0, 0, 1, 0, 0, 0],\n",
       "        [0, 0, 0, 1, 0, 0, 0],\n",
       "        [0, 0, 0, 1, 0, 0, 0],\n",
       "        [0, 0, 0, 1, 0, 0, 0],\n",
       "        [0, 0, 0, 1, 0, 0, 0],\n",
       "        [0, 0, 0, 1, 0, 0, 0],\n",
       "        [0, 0, 0, 1, 0, 0, 0],\n",
       "        [0, 0, 0, 1, 0, 0, 0],\n",
       "        [0, 0, 0, 1, 0, 0, 0],\n",
       "        [0, 0, 0, 1, 0, 0, 0],\n",
       "        [0, 0, 0, 1, 0, 0, 0],\n",
       "        [0, 0, 0, 1, 0, 0, 0],\n",
       "        [0, 0, 0, 1, 0, 0, 0],\n",
       "        [0, 0, 0, 1, 0, 0, 0],\n",
       "        [0, 0, 0, 1, 0, 0, 0],\n",
       "        [0, 0, 0, 1, 0, 0, 0],\n",
       "        [0, 0, 0, 1, 0, 0, 0],\n",
       "        [0, 0, 0, 1, 0, 0, 0],\n",
       "        [0, 0, 0, 1, 0, 0, 0],\n",
       "        [0, 0, 0, 1, 0, 0, 0],\n",
       "        [0, 0, 0, 1, 0, 0, 0],\n",
       "        [0, 0, 0, 1, 0, 0, 0],\n",
       "        [0, 0, 0, 1, 0, 0, 0],\n",
       "        [0, 0, 0, 1, 0, 0, 0],\n",
       "        [0, 0, 0, 1, 0, 0, 0],\n",
       "        [0, 0, 0, 1, 0, 0, 0],\n",
       "        [0, 0, 0, 1, 0, 0, 0]]))"
      ]
     },
     "execution_count": 21,
     "metadata": {},
     "output_type": "execute_result"
    }
   ],
   "source": [
    "data_test[-14]"
   ]
  },
  {
   "cell_type": "code",
   "execution_count": 175,
   "id": "9577a75f-1ae2-4aa3-91de-ff80302ef449",
   "metadata": {
    "tags": []
   },
   "outputs": [
    {
     "name": "stdout",
     "output_type": "stream",
     "text": [
      "1/1 [==============================] - 0s 26ms/step\n"
     ]
    }
   ],
   "source": [
    "result = sequence_model.predict(data_test_ds.batch(BATCH_SIZE))"
   ]
  },
  {
   "cell_type": "code",
   "execution_count": 176,
   "id": "6a437a00-2f89-4bec-86b7-b4fdecbbe9dd",
   "metadata": {},
   "outputs": [
    {
     "data": {
      "text/plain": [
       "(31, 60, 7)"
      ]
     },
     "execution_count": 176,
     "metadata": {},
     "output_type": "execute_result"
    }
   ],
   "source": [
    "result.shape"
   ]
  },
  {
   "cell_type": "code",
   "execution_count": 177,
   "id": "dd97844a-a65b-41d8-8a84-680de13d553e",
   "metadata": {
    "tags": []
   },
   "outputs": [
    {
     "data": {
      "text/plain": [
       "(60, 7)"
      ]
     },
     "execution_count": 177,
     "metadata": {},
     "output_type": "execute_result"
    }
   ],
   "source": [
    "test_case = result[-14]\n",
    "test_case.shape"
   ]
  },
  {
   "cell_type": "code",
   "execution_count": 178,
   "id": "bdb9b58a-a17e-41e3-a9a8-a0009ac5cb00",
   "metadata": {
    "tags": []
   },
   "outputs": [
    {
     "data": {
      "text/plain": [
       "array([0.08167878, 0.29798946, 0.38783565, 0.11805432, 0.04223242,\n",
       "       0.0162622 , 0.05594712], dtype=float32)"
      ]
     },
     "execution_count": 178,
     "metadata": {},
     "output_type": "execute_result"
    }
   ],
   "source": [
    "test_case[0]"
   ]
  },
  {
   "cell_type": "code",
   "execution_count": 179,
   "id": "84262f13-154c-44a2-8a33-5384523dd672",
   "metadata": {
    "tags": []
   },
   "outputs": [],
   "source": [
    "max_indices = tf.argmax(test_case, axis=1)\n",
    "result_pred = tf.one_hot(max_indices, depth=test_case.shape[1])"
   ]
  },
  {
   "cell_type": "code",
   "execution_count": 180,
   "id": "e4e7a127-537c-43c0-a710-7a5bcfea3b44",
   "metadata": {
    "tags": []
   },
   "outputs": [
    {
     "data": {
      "text/plain": [
       "<tf.Tensor: shape=(60, 7), dtype=float32, numpy=\n",
       "array([[0., 0., 1., 0., 0., 0., 0.],\n",
       "       [0., 0., 1., 0., 0., 0., 0.],\n",
       "       [0., 0., 1., 0., 0., 0., 0.],\n",
       "       [0., 0., 1., 0., 0., 0., 0.],\n",
       "       [0., 0., 1., 0., 0., 0., 0.],\n",
       "       [0., 0., 1., 0., 0., 0., 0.],\n",
       "       [0., 0., 1., 0., 0., 0., 0.],\n",
       "       [0., 0., 1., 0., 0., 0., 0.],\n",
       "       [0., 0., 1., 0., 0., 0., 0.],\n",
       "       [0., 0., 1., 0., 0., 0., 0.],\n",
       "       [0., 0., 1., 0., 0., 0., 0.],\n",
       "       [0., 0., 1., 0., 0., 0., 0.],\n",
       "       [0., 0., 1., 0., 0., 0., 0.],\n",
       "       [0., 0., 1., 0., 0., 0., 0.],\n",
       "       [0., 0., 1., 0., 0., 0., 0.],\n",
       "       [0., 0., 1., 0., 0., 0., 0.],\n",
       "       [0., 0., 1., 0., 0., 0., 0.],\n",
       "       [0., 0., 1., 0., 0., 0., 0.],\n",
       "       [0., 0., 1., 0., 0., 0., 0.],\n",
       "       [0., 0., 1., 0., 0., 0., 0.],\n",
       "       [0., 0., 1., 0., 0., 0., 0.],\n",
       "       [0., 0., 1., 0., 0., 0., 0.],\n",
       "       [0., 0., 1., 0., 0., 0., 0.],\n",
       "       [0., 0., 1., 0., 0., 0., 0.],\n",
       "       [0., 0., 0., 1., 0., 0., 0.],\n",
       "       [0., 0., 0., 1., 0., 0., 0.],\n",
       "       [0., 0., 0., 1., 0., 0., 0.],\n",
       "       [0., 0., 0., 1., 0., 0., 0.],\n",
       "       [0., 0., 0., 1., 0., 0., 0.],\n",
       "       [0., 0., 0., 1., 0., 0., 0.],\n",
       "       [0., 0., 0., 1., 0., 0., 0.],\n",
       "       [0., 0., 0., 1., 0., 0., 0.],\n",
       "       [0., 0., 0., 1., 0., 0., 0.],\n",
       "       [0., 0., 0., 1., 0., 0., 0.],\n",
       "       [0., 0., 0., 1., 0., 0., 0.],\n",
       "       [0., 0., 0., 1., 0., 0., 0.],\n",
       "       [0., 0., 0., 1., 0., 0., 0.],\n",
       "       [0., 0., 0., 1., 0., 0., 0.],\n",
       "       [0., 0., 0., 1., 0., 0., 0.],\n",
       "       [0., 0., 0., 1., 0., 0., 0.],\n",
       "       [0., 0., 0., 1., 0., 0., 0.],\n",
       "       [0., 0., 0., 1., 0., 0., 0.],\n",
       "       [0., 0., 0., 1., 0., 0., 0.],\n",
       "       [0., 0., 0., 1., 0., 0., 0.],\n",
       "       [0., 0., 0., 1., 0., 0., 0.],\n",
       "       [0., 0., 0., 1., 0., 0., 0.],\n",
       "       [0., 0., 0., 1., 0., 0., 0.],\n",
       "       [0., 0., 0., 1., 0., 0., 0.],\n",
       "       [0., 0., 0., 1., 0., 0., 0.],\n",
       "       [0., 0., 0., 1., 0., 0., 0.],\n",
       "       [0., 0., 0., 1., 0., 0., 0.],\n",
       "       [0., 0., 0., 1., 0., 0., 0.],\n",
       "       [0., 0., 0., 1., 0., 0., 0.],\n",
       "       [0., 0., 0., 1., 0., 0., 0.],\n",
       "       [0., 0., 0., 1., 0., 0., 0.],\n",
       "       [0., 0., 0., 1., 0., 0., 0.],\n",
       "       [0., 0., 0., 1., 0., 0., 0.],\n",
       "       [0., 0., 0., 1., 0., 0., 0.],\n",
       "       [0., 0., 0., 1., 0., 0., 0.],\n",
       "       [0., 0., 0., 1., 0., 0., 0.]], dtype=float32)>"
      ]
     },
     "execution_count": 180,
     "metadata": {},
     "output_type": "execute_result"
    }
   ],
   "source": [
    "result_pred"
   ]
  },
  {
   "cell_type": "code",
   "execution_count": 112,
   "id": "29366e4e-dd4d-408c-8fa3-f54cf7a8ef72",
   "metadata": {},
   "outputs": [
    {
     "name": "stdout",
     "output_type": "stream",
     "text": [
      "1/1 [==============================] - 0s 31ms/step - loss: 1.3330 - accuracy: 0.5069\n",
      "Test accuracy: 50.69%\n"
     ]
    }
   ],
   "source": [
    "_, accuracy = sequence_model.evaluate(data_test_ds.batch(BATCH_SIZE))\n",
    "print(f\"Test accuracy: {round(accuracy * 100, 2)}%\")"
   ]
  },
  {
   "cell_type": "code",
   "execution_count": null,
   "id": "69c9921e-8615-4e9a-a341-2c24a41f4582",
   "metadata": {},
   "outputs": [],
   "source": []
  },
  {
   "cell_type": "code",
   "execution_count": null,
   "id": "544e83ff-391e-4459-8f17-04eb8fb37afb",
   "metadata": {},
   "outputs": [],
   "source": []
  },
  {
   "cell_type": "markdown",
   "id": "d26d93ca-9577-4da7-a1de-353055aad9d6",
   "metadata": {},
   "source": [
    "# Count sequences in dataset"
   ]
  },
  {
   "cell_type": "code",
   "execution_count": 109,
   "id": "29894010-ebec-4e0e-80a3-8317960ed21c",
   "metadata": {
    "tags": []
   },
   "outputs": [],
   "source": [
    "sequences_count = dict()\n",
    "for el in train_ds:\n",
    "    idx = np.argmax(np.sum(el[1], axis=0))\n",
    "    if idx not in sequences_count:\n",
    "        sequences_count[idx] = 1\n",
    "    else:\n",
    "        sequences_count[idx] += 1"
   ]
  },
  {
   "cell_type": "code",
   "execution_count": 110,
   "id": "36a2054b-7d19-4507-be91-0662262327c1",
   "metadata": {
    "tags": []
   },
   "outputs": [
    {
     "data": {
      "text/plain": [
       "{'Neutral': 3918,\n",
       " 'Happiness': 1894,\n",
       " 'Sadness': 1384,\n",
       " 'Anger': 307,\n",
       " 'Surprise': 599,\n",
       " 'Fear': 171,\n",
       " 'Disgust': 196}"
      ]
     },
     "execution_count": 110,
     "metadata": {},
     "output_type": "execute_result"
    }
   ],
   "source": [
    "{ emociones[k]: v for k,v in sequences_count.items() }"
   ]
  },
  {
   "cell_type": "code",
   "execution_count": 154,
   "id": "2ce84c03-24da-43bc-88c1-13ae9491a1ba",
   "metadata": {
    "tags": []
   },
   "outputs": [
    {
     "name": "stdout",
     "output_type": "stream",
     "text": [
      "Pesos de clase: {0: 0.30879457449135855, 4: 0.6387841303364007, 5: 0.8741742361684558, 1: 3.940902745463006, 6: 2.019794896255664, 3: 7.075187969924812, 2: 6.172740524781341}\n"
     ]
    }
   ],
   "source": [
    "## Calcular los pesos de clase inversamente proporcionales a la frecuencia de las clases\n",
    "total_samples = sum(sequences_count.values())\n",
    "class_weights = {}\n",
    "for class_index, count in sequences_count.items():\n",
    "    class_weights[class_index] = total_samples / (len(sequences_count) * count)\n",
    "\n",
    "# Imprimir los pesos de clase\n",
    "print(\"Pesos de clase:\", class_weights)"
   ]
  },
  {
   "cell_type": "markdown",
   "id": "57f00845-c372-42ad-aefe-068b65f88eaf",
   "metadata": {},
   "source": [
    "# Resample train"
   ]
  },
  {
   "cell_type": "code",
   "execution_count": 122,
   "id": "c141f19d-4336-4c3e-8c3c-27d618e0fd96",
   "metadata": {},
   "outputs": [],
   "source": [
    "new_train_data = []\n",
    "sequences_count = dict()\n",
    "for el in train_ds:\n",
    "    idx = np.argmax(np.sum(el[1], axis=0))\n",
    "    if idx not in sequences_count:\n",
    "        sequences_count[idx] = 1\n",
    "    else:\n",
    "        sequences_count[idx] += 1\n",
    "        \n",
    "    if(sequences_count[idx] <= 300):\n",
    "        new_train_data.append(el)"
   ]
  },
  {
   "cell_type": "code",
   "execution_count": 123,
   "id": "0e6e8f3b-be63-4865-9a60-c3a270e9508e",
   "metadata": {
    "tags": []
   },
   "outputs": [
    {
     "data": {
      "text/plain": [
       "1867"
      ]
     },
     "execution_count": 123,
     "metadata": {},
     "output_type": "execute_result"
    }
   ],
   "source": [
    "len(new_train_data)"
   ]
  },
  {
   "cell_type": "code",
   "execution_count": 126,
   "id": "bbb120d5-760a-40f6-91d2-b3e1f54e6483",
   "metadata": {
    "tags": []
   },
   "outputs": [],
   "source": [
    "# Dividir los datos en características de entrada, máscaras y etiquetas\n",
    "frame_features_inputs = [data[0][0] for data in new_train_data]\n",
    "mask_inputs = [data[0][1] for data in new_train_data]\n",
    "labels = [data[1] for data in new_train_data]\n",
    "\n",
    "# Convertir las listas en tensores de TensorFlow\n",
    "frame_features_inputs_tensor = tf.convert_to_tensor(frame_features_inputs, dtype=tf.float32)\n",
    "mask_inputs_tensor = tf.convert_to_tensor(mask_inputs, dtype=tf.bool)\n",
    "labels_tensor = tf.convert_to_tensor(labels, dtype=tf.float32)\n",
    "\n",
    "# Crear el conjunto de datos de TensorFlow\n",
    "new_train_ds = tf.data.Dataset.from_tensor_slices(((frame_features_inputs_tensor, mask_inputs_tensor), labels_tensor))"
   ]
  },
  {
   "cell_type": "code",
   "execution_count": 127,
   "id": "e6afe980-372b-4730-b1b5-760bd6c2dc6e",
   "metadata": {
    "tags": []
   },
   "outputs": [
    {
     "data": {
      "text/plain": [
       "<_TensorSliceDataset element_spec=((TensorSpec(shape=(60, 1024), dtype=tf.float32, name=None), TensorSpec(shape=(60,), dtype=tf.bool, name=None)), TensorSpec(shape=(60, 7), dtype=tf.float32, name=None))>"
      ]
     },
     "execution_count": 127,
     "metadata": {},
     "output_type": "execute_result"
    }
   ],
   "source": [
    "new_train_ds"
   ]
  },
  {
   "cell_type": "code",
   "execution_count": 128,
   "id": "e6175c0a-d2e5-4647-8369-1f2588305926",
   "metadata": {
    "tags": []
   },
   "outputs": [
    {
     "data": {
      "text/plain": [
       "<_BatchDataset element_spec=((TensorSpec(shape=(None, 60, 1024), dtype=tf.float32, name=None), TensorSpec(shape=(None, 60), dtype=tf.bool, name=None)), TensorSpec(shape=(None, 60, 7), dtype=tf.float32, name=None))>"
      ]
     },
     "execution_count": 128,
     "metadata": {},
     "output_type": "execute_result"
    }
   ],
   "source": [
    "new_train_ds_batch = new_train_ds.batch(BATCH_SIZE)\n",
    "new_train_ds_batch"
   ]
  },
  {
   "cell_type": "code",
   "execution_count": null,
   "id": "cd0a841c-9f6b-4c5d-9e70-e9fa0fe64082",
   "metadata": {},
   "outputs": [],
   "source": []
  }
 ],
 "metadata": {
  "environment": {
   "kernel": "python3",
   "name": "common-gpu.m116",
   "type": "gcloud",
   "uri": "gcr.io/deeplearning-platform-release/base-gpu:m116"
  },
  "kernelspec": {
   "display_name": "Python 3 (Local)",
   "language": "python",
   "name": "python3"
  },
  "language_info": {
   "codemirror_mode": {
    "name": "ipython",
    "version": 3
   },
   "file_extension": ".py",
   "mimetype": "text/x-python",
   "name": "python",
   "nbconvert_exporter": "python",
   "pygments_lexer": "ipython3",
   "version": "3.10.13"
  }
 },
 "nbformat": 4,
 "nbformat_minor": 5
}
